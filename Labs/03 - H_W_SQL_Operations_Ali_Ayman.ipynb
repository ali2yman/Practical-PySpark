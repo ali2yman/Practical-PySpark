{
  "cells": [
    {
      "cell_type": "markdown",
      "id": "85669f91",
      "metadata": {
        "id": "85669f91"
      },
      "source": [
        "### Create SparkSession:"
      ]
    },
    {
      "cell_type": "code",
      "execution_count": 1,
      "id": "dfd7f87e",
      "metadata": {},
      "outputs": [],
      "source": [
        "import findspark\n",
        "findspark.init()    \n",
        "\n",
        "from pyspark.sql import SparkSession\n",
        "spark = SparkSession.builder.getOrCreate()\n",
        "\n",
        "from pyspark.sql.functions import *"
      ]
    },
    {
      "cell_type": "markdown",
      "id": "e0882328",
      "metadata": {
        "id": "e0882328"
      },
      "source": [
        "### Read the DataFrames_sample.json file:"
      ]
    },
    {
      "cell_type": "code",
      "execution_count": 2,
      "id": "O1m40lbuw1jV",
      "metadata": {
        "id": "O1m40lbuw1jV"
      },
      "outputs": [],
      "source": [
        "df = spark.read.json(r'C:\\Users\\aliay\\OneDrive\\Desktop\\iTi\\31 - Big Data\\Mariem\\Practical-PySpark\\Data\\DataFrames_sample.json')"
      ]
    },
    {
      "cell_type": "markdown",
      "id": "ba09cf4d",
      "metadata": {
        "id": "ba09cf4d"
      },
      "source": [
        "### Display part of the data and schema:\n"
      ]
    },
    {
      "cell_type": "code",
      "execution_count": 3,
      "id": "6Qm3Cjj2yZNI",
      "metadata": {
        "colab": {
          "base_uri": "https://localhost:8080/"
        },
        "id": "6Qm3Cjj2yZNI",
        "outputId": "a55a991f-2a77-40a1-b0ad-1fe3a06e6e83"
      },
      "outputs": [
        {
          "name": "stdout",
          "output_type": "stream",
          "text": [
            "+----+----+---------+---+-----------+----+----------+-----+------+----+\n",
            "|   D|   H|      HDD| Id|      Model| RAM|ScreenSize|    W|Weight|Year|\n",
            "+----+----+---------+---+-----------+----+----------+-----+------+----+\n",
            "|9.48|0.61|512GB SSD|  1|MacBook Pro|16GB|       15\"|13.75|  4.02|2015|\n",
            "|7.74|0.52|256GB SSD|  2|    MacBook| 8GB|       12\"|11.04|  2.03|2016|\n",
            "|8.94|0.68|128GB SSD|  3|MacBook Air| 8GB|     13.3\"| 12.8|  2.96|2016|\n",
            "| 8.0|20.3|  1TB SSD|  4|       iMac|64GB|       27\"| 25.6|  20.8|2017|\n",
            "+----+----+---------+---+-----------+----+----------+-----+------+----+\n",
            "\n"
          ]
        }
      ],
      "source": [
        "df.show()"
      ]
    },
    {
      "cell_type": "code",
      "execution_count": 4,
      "id": "zQvU_H_d0STn",
      "metadata": {
        "colab": {
          "base_uri": "https://localhost:8080/"
        },
        "id": "zQvU_H_d0STn",
        "outputId": "6c00d154-943b-4cc0-b32c-4e63b4ea7492"
      },
      "outputs": [
        {
          "name": "stdout",
          "output_type": "stream",
          "text": [
            "root\n",
            " |-- D: double (nullable = true)\n",
            " |-- H: double (nullable = true)\n",
            " |-- HDD: string (nullable = true)\n",
            " |-- Id: long (nullable = true)\n",
            " |-- Model: string (nullable = true)\n",
            " |-- RAM: string (nullable = true)\n",
            " |-- ScreenSize: string (nullable = true)\n",
            " |-- W: double (nullable = true)\n",
            " |-- Weight: double (nullable = true)\n",
            " |-- Year: long (nullable = true)\n",
            "\n"
          ]
        }
      ],
      "source": [
        "df.printSchema()"
      ]
    },
    {
      "cell_type": "markdown",
      "id": "981f5434",
      "metadata": {
        "id": "981f5434"
      },
      "source": [
        "## Using SQL\n",
        "### Create Temp View:"
      ]
    },
    {
      "cell_type": "code",
      "execution_count": 5,
      "id": "1c868466",
      "metadata": {
        "id": "1c868466"
      },
      "outputs": [],
      "source": [
        "df.createOrReplaceTempView('DataFrames_sample')"
      ]
    },
    {
      "cell_type": "markdown",
      "id": "c7604e3c",
      "metadata": {
        "id": "c7604e3c"
      },
      "source": [
        "### Display \"RAM\"column and count \"RAM\" column:"
      ]
    },
    {
      "cell_type": "code",
      "execution_count": 6,
      "id": "ZPayUHtR1rrE",
      "metadata": {
        "colab": {
          "base_uri": "https://localhost:8080/"
        },
        "id": "ZPayUHtR1rrE",
        "outputId": "da038733-0ab4-4581-ae5e-3ce4d7f91b6f"
      },
      "outputs": [
        {
          "name": "stdout",
          "output_type": "stream",
          "text": [
            "+----+-----+\n",
            "| RAM|Count|\n",
            "+----+-----+\n",
            "|64GB|    1|\n",
            "|16GB|    1|\n",
            "| 8GB|    2|\n",
            "+----+-----+\n",
            "\n"
          ]
        }
      ],
      "source": [
        "spark.sql(\"select RAM, count(RAM) As Count from DataFrames_sample group by RAM\").show()"
      ]
    },
    {
      "cell_type": "markdown",
      "id": "35410e83",
      "metadata": {
        "id": "35410e83"
      },
      "source": [
        "### Get all columns when \"Year\" column equal \"2015\"  "
      ]
    },
    {
      "cell_type": "code",
      "execution_count": 7,
      "id": "ql0IDsPx2dkt",
      "metadata": {
        "colab": {
          "base_uri": "https://localhost:8080/"
        },
        "id": "ql0IDsPx2dkt",
        "outputId": "b61bab90-04a0-4917-c753-ecd32d3dfa97"
      },
      "outputs": [
        {
          "name": "stdout",
          "output_type": "stream",
          "text": [
            "+----+----+---------+---+-----------+----+----------+-----+------+----+\n",
            "|   D|   H|      HDD| Id|      Model| RAM|ScreenSize|    W|Weight|Year|\n",
            "+----+----+---------+---+-----------+----+----------+-----+------+----+\n",
            "|9.48|0.61|512GB SSD|  1|MacBook Pro|16GB|       15\"|13.75|  4.02|2015|\n",
            "+----+----+---------+---+-----------+----+----------+-----+------+----+\n",
            "\n"
          ]
        }
      ],
      "source": [
        "spark.sql(\"select * from DataFrames_sample where Year = 2015\").show()"
      ]
    },
    {
      "cell_type": "markdown",
      "id": "69e0a655",
      "metadata": {
        "id": "69e0a655"
      },
      "source": [
        "### Get all when \"Model\" start with \"M\":"
      ]
    },
    {
      "cell_type": "code",
      "execution_count": 8,
      "id": "qBMpG56U2h9C",
      "metadata": {
        "colab": {
          "base_uri": "https://localhost:8080/"
        },
        "id": "qBMpG56U2h9C",
        "outputId": "081880b3-76f6-436d-8e56-69f202076306"
      },
      "outputs": [
        {
          "name": "stdout",
          "output_type": "stream",
          "text": [
            "+----+----+---------+---+-----------+----+----------+-----+------+----+\n",
            "|   D|   H|      HDD| Id|      Model| RAM|ScreenSize|    W|Weight|Year|\n",
            "+----+----+---------+---+-----------+----+----------+-----+------+----+\n",
            "|9.48|0.61|512GB SSD|  1|MacBook Pro|16GB|       15\"|13.75|  4.02|2015|\n",
            "|7.74|0.52|256GB SSD|  2|    MacBook| 8GB|       12\"|11.04|  2.03|2016|\n",
            "|8.94|0.68|128GB SSD|  3|MacBook Air| 8GB|     13.3\"| 12.8|  2.96|2016|\n",
            "+----+----+---------+---+-----------+----+----------+-----+------+----+\n",
            "\n"
          ]
        }
      ],
      "source": [
        "spark.sql(\"select * from DataFrames_sample where Model like 'M%'\").show()"
      ]
    },
    {
      "cell_type": "markdown",
      "id": "437d72ca",
      "metadata": {
        "id": "437d72ca"
      },
      "source": [
        "### Get all data when \"Model\" column equal \"MacBook Pro\""
      ]
    },
    {
      "cell_type": "code",
      "execution_count": 9,
      "id": "_tzaPziy23E7",
      "metadata": {
        "colab": {
          "base_uri": "https://localhost:8080/"
        },
        "id": "_tzaPziy23E7",
        "outputId": "ad9bd734-a8f7-4d57-9ccc-e169ed8271ea"
      },
      "outputs": [
        {
          "name": "stdout",
          "output_type": "stream",
          "text": [
            "+----+----+---------+---+-----------+----+----------+-----+------+----+\n",
            "|   D|   H|      HDD| Id|      Model| RAM|ScreenSize|    W|Weight|Year|\n",
            "+----+----+---------+---+-----------+----+----------+-----+------+----+\n",
            "|9.48|0.61|512GB SSD|  1|MacBook Pro|16GB|       15\"|13.75|  4.02|2015|\n",
            "+----+----+---------+---+-----------+----+----------+-----+------+----+\n",
            "\n"
          ]
        }
      ],
      "source": [
        "spark.sql(\"select * from DataFrames_sample where Model = 'MacBook Pro'\").show()"
      ]
    },
    {
      "cell_type": "markdown",
      "id": "be87a7b7",
      "metadata": {
        "id": "be87a7b7"
      },
      "source": [
        "### Get all data with Multiple Conditions when \"RAM\" column equal \"8GB\" and \"Model\" column is \"Macbook\"."
      ]
    },
    {
      "cell_type": "code",
      "execution_count": 10,
      "id": "lSaHk7tw26pc",
      "metadata": {
        "colab": {
          "base_uri": "https://localhost:8080/"
        },
        "id": "lSaHk7tw26pc",
        "outputId": "27cf1e35-6c85-4ef6-bd1f-d7fb2ecf79dd"
      },
      "outputs": [
        {
          "name": "stdout",
          "output_type": "stream",
          "text": [
            "+----+----+---------+---+-------+---+----------+-----+------+----+\n",
            "|   D|   H|      HDD| Id|  Model|RAM|ScreenSize|    W|Weight|Year|\n",
            "+----+----+---------+---+-------+---+----------+-----+------+----+\n",
            "|7.74|0.52|256GB SSD|  2|MacBook|8GB|       12\"|11.04|  2.03|2016|\n",
            "+----+----+---------+---+-------+---+----------+-----+------+----+\n",
            "\n"
          ]
        }
      ],
      "source": [
        "spark.sql(\"select * from DataFrames_sample where RAM = '8GB' and Model = 'MacBook'\").show()"
      ]
    },
    {
      "cell_type": "markdown",
      "id": "2f730cee",
      "metadata": {
        "id": "2f730cee"
      },
      "source": [
        "### Get all data with Multiple Conditions when \"D\" greater than or equal \"8\" and \"Model\" column is \"iMac\"."
      ]
    },
    {
      "cell_type": "code",
      "execution_count": 11,
      "id": "ipwc2y2T3HvU",
      "metadata": {
        "colab": {
          "base_uri": "https://localhost:8080/"
        },
        "id": "ipwc2y2T3HvU",
        "outputId": "245cf0f2-0765-4d06-c4d1-fcf1a3fd116f"
      },
      "outputs": [
        {
          "name": "stdout",
          "output_type": "stream",
          "text": [
            "+---+----+-------+---+-----+----+----------+----+------+----+\n",
            "|  D|   H|    HDD| Id|Model| RAM|ScreenSize|   W|Weight|Year|\n",
            "+---+----+-------+---+-----+----+----------+----+------+----+\n",
            "|8.0|20.3|1TB SSD|  4| iMac|64GB|       27\"|25.6|  20.8|2017|\n",
            "+---+----+-------+---+-----+----+----------+----+------+----+\n",
            "\n"
          ]
        }
      ],
      "source": [
        "spark.sql(\"select * from DataFrames_sample where D >= 8 and Model = 'iMac'\").show()"
      ]
    }
  ],
  "metadata": {
    "colab": {
      "provenance": []
    },
    "kernelspec": {
      "display_name": "pysparkenv",
      "language": "python",
      "name": "python3"
    },
    "language_info": {
      "codemirror_mode": {
        "name": "ipython",
        "version": 3
      },
      "file_extension": ".py",
      "mimetype": "text/x-python",
      "name": "python",
      "nbconvert_exporter": "python",
      "pygments_lexer": "ipython3",
      "version": "3.11.0"
    }
  },
  "nbformat": 4,
  "nbformat_minor": 5
}
