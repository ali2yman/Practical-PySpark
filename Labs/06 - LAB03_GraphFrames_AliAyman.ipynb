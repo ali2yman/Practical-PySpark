{
  "cells": [
    {
      "cell_type": "code",
      "execution_count": 1,
      "id": "42a120a9",
      "metadata": {
        "id": "42a120a9",
        "outputId": "d5b7bf3f-28d2-4a0b-8263-ebc8d77422be",
        "colab": {
          "base_uri": "https://localhost:8080/"
        }
      },
      "outputs": [
        {
          "output_type": "stream",
          "name": "stdout",
          "text": [
            "Requirement already satisfied: graphframes in /usr/local/lib/python3.11/dist-packages (0.6)\n",
            "Requirement already satisfied: numpy in /usr/local/lib/python3.11/dist-packages (from graphframes) (2.0.2)\n",
            "Requirement already satisfied: nose in /usr/local/lib/python3.11/dist-packages (from graphframes) (1.3.7)\n"
          ]
        }
      ],
      "source": [
        "!pip install graphframes"
      ]
    },
    {
      "cell_type": "code",
      "source": [
        "!unzip -q /content/drive/MyDrive/Data.zip"
      ],
      "metadata": {
        "id": "b8evshQMoXeG",
        "outputId": "dfe08f5f-17bc-4d7a-b294-35440eab3fe6",
        "colab": {
          "base_uri": "https://localhost:8080/"
        }
      },
      "id": "b8evshQMoXeG",
      "execution_count": 2,
      "outputs": [
        {
          "output_type": "stream",
          "name": "stdout",
          "text": [
            "replace Data/airport-codes-na.txt? [y]es, [n]o, [A]ll, [N]one, [r]ename: "
          ]
        }
      ]
    },
    {
      "cell_type": "code",
      "source": [
        "from google.colab import drive\n",
        "drive.mount('/content/drive')"
      ],
      "metadata": {
        "id": "hHOgw5-NokB3",
        "outputId": "98083191-d2f8-469c-9533-b221764c958b",
        "colab": {
          "base_uri": "https://localhost:8080/"
        }
      },
      "id": "hHOgw5-NokB3",
      "execution_count": 3,
      "outputs": [
        {
          "output_type": "stream",
          "name": "stdout",
          "text": [
            "Drive already mounted at /content/drive; to attempt to forcibly remount, call drive.mount(\"/content/drive\", force_remount=True).\n"
          ]
        }
      ]
    },
    {
      "cell_type": "code",
      "source": [
        "from pyspark.sql import SparkSession\n",
        "from graphframes import GraphFrame"
      ],
      "metadata": {
        "id": "-bp8VtsSo-Dw"
      },
      "id": "-bp8VtsSo-Dw",
      "execution_count": 4,
      "outputs": []
    },
    {
      "cell_type": "code",
      "source": [
        "spark = SparkSession.builder.config(\"spark.jars.packages\", \"graphframes:graphframes:0.8.2-spark3.2-s_2.12\").getOrCreate()"
      ],
      "metadata": {
        "id": "7_EGuVn_pCJu"
      },
      "id": "7_EGuVn_pCJu",
      "execution_count": 5,
      "outputs": []
    },
    {
      "cell_type": "code",
      "source": [
        "e = spark.read.csv(\"/content/Data/departuredelays.csv\", header=True)\n",
        "v = spark.read.csv(\"/content/Data/airport-codes-na.txt\", header=True , sep='\\t')"
      ],
      "metadata": {
        "id": "Hhuf_8e8pHVy"
      },
      "id": "Hhuf_8e8pHVy",
      "execution_count": 6,
      "outputs": []
    },
    {
      "cell_type": "code",
      "source": [
        "e.show(5)"
      ],
      "metadata": {
        "id": "s2uJ4-b9phMO",
        "outputId": "9e5e857e-899f-4917-8544-510ae76ba61e",
        "colab": {
          "base_uri": "https://localhost:8080/"
        }
      },
      "id": "s2uJ4-b9phMO",
      "execution_count": 7,
      "outputs": [
        {
          "output_type": "stream",
          "name": "stdout",
          "text": [
            "+--------+-----+--------+------+-----------+\n",
            "|    date|delay|distance|origin|destination|\n",
            "+--------+-----+--------+------+-----------+\n",
            "|01011245|    6|     602|   ABE|        ATL|\n",
            "|01020600|   -8|     369|   ABE|        DTW|\n",
            "|01021245|   -2|     602|   ABE|        ATL|\n",
            "|01020605|   -4|     602|   ABE|        ATL|\n",
            "|01031245|   -4|     602|   ABE|        ATL|\n",
            "+--------+-----+--------+------+-----------+\n",
            "only showing top 5 rows\n",
            "\n"
          ]
        }
      ]
    },
    {
      "cell_type": "code",
      "source": [
        "v.show(5)"
      ],
      "metadata": {
        "id": "cqtv5ETApm27",
        "outputId": "fb771b82-962a-41b1-e5d8-cc07272b023a",
        "colab": {
          "base_uri": "https://localhost:8080/"
        }
      },
      "id": "cqtv5ETApm27",
      "execution_count": 8,
      "outputs": [
        {
          "output_type": "stream",
          "name": "stdout",
          "text": [
            "+----------+-----+-------+----+\n",
            "|      City|State|Country|IATA|\n",
            "+----------+-----+-------+----+\n",
            "|Abbotsford|   BC| Canada| YXX|\n",
            "|  Aberdeen|   SD|    USA| ABR|\n",
            "|   Abilene|   TX|    USA| ABI|\n",
            "|     Akron|   OH|    USA| CAK|\n",
            "|   Alamosa|   CO|    USA| ALS|\n",
            "+----------+-----+-------+----+\n",
            "only showing top 5 rows\n",
            "\n"
          ]
        }
      ]
    },
    {
      "cell_type": "markdown",
      "id": "d7f57da0",
      "metadata": {
        "id": "d7f57da0"
      },
      "source": [
        "### Read departuredelays.csv in Edge DataFrame\n",
        "### Read airport-codes-na.txt in Vertix DataFrame (the separator is Tab i.e sep = '\\t' )"
      ]
    },
    {
      "cell_type": "markdown",
      "id": "631c334e",
      "metadata": {
        "id": "631c334e"
      },
      "source": [
        "#### The US flight delays data set has five columns:\n",
        "- The <b>date</b> column contains an integer like 02190925 . When converted, this maps to 02-19 09:25 am.\n",
        "- The <b>delay</b> column gives the delay in minutes between the scheduled and actual departure times. Early departures show negative numbers.\n",
        "- The <b>distance</b> column gives the distance in miles from the origin airport to the destination airport.\n",
        "- The <b>origin</b> column contains the origin IATA airport code.\n",
        "- The <b>destination</b> column contains the destination IATA airport code.\n",
        "\n",
        "#### The airport-codes data set has four columns:\n",
        "- The <b>IATA</b> column contains IATA airport code.\n",
        "- The <b>City, State, and Country</b> columns contains information about the airport location."
      ]
    },
    {
      "cell_type": "markdown",
      "id": "e1d90463",
      "metadata": {
        "id": "e1d90463"
      },
      "source": [
        "### In the vertix DataFrame, drop any duplicated rows with the same  IATA code."
      ]
    },
    {
      "cell_type": "code",
      "execution_count": 9,
      "id": "15571db4",
      "metadata": {
        "id": "15571db4"
      },
      "outputs": [],
      "source": [
        "v = v.dropDuplicates(['IATA'])"
      ]
    },
    {
      "cell_type": "markdown",
      "id": "83d1dea8",
      "metadata": {
        "id": "83d1dea8"
      },
      "source": [
        "### In the edges DataFrame:\n",
        "- Rename the <b>date</b> columns to become <b>tripid</b>.\n",
        "- Rename the <b>origin</b> columns to become <b>src</b>.\n",
        "- Rename the <b>destination</b> columns to become <b>dst</b>."
      ]
    },
    {
      "cell_type": "code",
      "execution_count": 10,
      "id": "5319e844",
      "metadata": {
        "id": "5319e844"
      },
      "outputs": [],
      "source": [
        "e = e.withColumnRenamed('date','tripid')\n",
        "e = e.withColumnRenamed('origin','src')\n",
        "e = e.withColumnRenamed('destination','dst')"
      ]
    },
    {
      "cell_type": "markdown",
      "id": "260660dc",
      "metadata": {
        "id": "260660dc"
      },
      "source": [
        "### In the Vertix DataFrame:\n",
        "- Rename the <b>IATA</b> columns to become <b>id</b>."
      ]
    },
    {
      "cell_type": "code",
      "execution_count": 11,
      "id": "42846969",
      "metadata": {
        "scrolled": false,
        "id": "42846969"
      },
      "outputs": [],
      "source": [
        "v = v.withColumnRenamed('IATA','id')"
      ]
    },
    {
      "cell_type": "markdown",
      "id": "4b50a1fe",
      "metadata": {
        "id": "4b50a1fe"
      },
      "source": [
        "### Create GraphFrame from Vertix and Edges DataFrames"
      ]
    },
    {
      "cell_type": "code",
      "execution_count": 12,
      "id": "72be9d09",
      "metadata": {
        "id": "72be9d09",
        "outputId": "b7a44b45-f27d-423f-96ec-d0e33245c272",
        "colab": {
          "base_uri": "https://localhost:8080/"
        }
      },
      "outputs": [
        {
          "output_type": "stream",
          "name": "stderr",
          "text": [
            "/usr/local/lib/python3.11/dist-packages/pyspark/sql/dataframe.py:168: UserWarning: DataFrame.sql_ctx is an internal property, and will be removed in future releases. Use DataFrame.sparkSession instead.\n",
            "  warnings.warn(\n"
          ]
        }
      ],
      "source": [
        "gf = GraphFrame(v,e)"
      ]
    },
    {
      "cell_type": "code",
      "source": [
        "gf.vertices.show(5)"
      ],
      "metadata": {
        "id": "3l1MuZplqWXG",
        "outputId": "ec5ad7d4-d381-441f-d6d3-95949436e499",
        "colab": {
          "base_uri": "https://localhost:8080/"
        }
      },
      "id": "3l1MuZplqWXG",
      "execution_count": 13,
      "outputs": [
        {
          "output_type": "stream",
          "name": "stdout",
          "text": [
            "+-----------+-----+-------+---+\n",
            "|       City|State|Country| id|\n",
            "+-----------+-----+-------+---+\n",
            "|  Allentown|   PA|    USA|ABE|\n",
            "|    Abilene|   TX|    USA|ABI|\n",
            "|Albuquerque|   NM|    USA|ABQ|\n",
            "|   Aberdeen|   SD|    USA|ABR|\n",
            "|     Albany|   GA|    USA|ABY|\n",
            "+-----------+-----+-------+---+\n",
            "only showing top 5 rows\n",
            "\n"
          ]
        }
      ]
    },
    {
      "cell_type": "code",
      "source": [
        "gf.edges.show(5)"
      ],
      "metadata": {
        "id": "qAQYnjtgqfL-",
        "outputId": "462a87b1-8991-4f2b-b628-83286f3c893b",
        "colab": {
          "base_uri": "https://localhost:8080/"
        }
      },
      "id": "qAQYnjtgqfL-",
      "execution_count": 14,
      "outputs": [
        {
          "output_type": "stream",
          "name": "stdout",
          "text": [
            "+--------+-----+--------+---+---+\n",
            "|  tripid|delay|distance|src|dst|\n",
            "+--------+-----+--------+---+---+\n",
            "|01011245|    6|     602|ABE|ATL|\n",
            "|01020600|   -8|     369|ABE|DTW|\n",
            "|01021245|   -2|     602|ABE|ATL|\n",
            "|01020605|   -4|     602|ABE|ATL|\n",
            "|01031245|   -4|     602|ABE|ATL|\n",
            "+--------+-----+--------+---+---+\n",
            "only showing top 5 rows\n",
            "\n"
          ]
        }
      ]
    },
    {
      "cell_type": "markdown",
      "id": "abd2ebc6",
      "metadata": {
        "id": "abd2ebc6"
      },
      "source": [
        "### Determine the number of airports"
      ]
    },
    {
      "cell_type": "code",
      "execution_count": 15,
      "id": "f38688c9",
      "metadata": {
        "id": "f38688c9",
        "outputId": "614b3dd1-b153-45a5-f84e-aa545a0836ff",
        "colab": {
          "base_uri": "https://localhost:8080/"
        }
      },
      "outputs": [
        {
          "output_type": "stream",
          "name": "stdout",
          "text": [
            "Number of airports: 524\n"
          ]
        }
      ],
      "source": [
        "no_of_airports = gf.vertices.count()\n",
        "print(f\"Number of airports: {no_of_airports}\")"
      ]
    },
    {
      "cell_type": "markdown",
      "id": "435187a8",
      "metadata": {
        "id": "435187a8"
      },
      "source": [
        "### Determine the number of trips"
      ]
    },
    {
      "cell_type": "code",
      "execution_count": 16,
      "id": "db2a507d",
      "metadata": {
        "id": "db2a507d",
        "outputId": "b0bf2cc1-3190-4cb3-9338-5424ecf01b30",
        "colab": {
          "base_uri": "https://localhost:8080/"
        }
      },
      "outputs": [
        {
          "output_type": "stream",
          "name": "stdout",
          "text": [
            "Number of trips: 1391578\n"
          ]
        }
      ],
      "source": [
        "no_of_trips = gf.edges.count()\n",
        "print(f\"Number of trips: {no_of_trips}\")"
      ]
    },
    {
      "cell_type": "markdown",
      "id": "dec8731f",
      "metadata": {
        "id": "dec8731f"
      },
      "source": [
        "### What is the longest delay?"
      ]
    },
    {
      "cell_type": "code",
      "execution_count": 17,
      "id": "df3d6aac",
      "metadata": {
        "id": "df3d6aac",
        "outputId": "e8d670f9-48b5-4908-987b-4bb15f199d0e",
        "colab": {
          "base_uri": "https://localhost:8080/"
        }
      },
      "outputs": [
        {
          "output_type": "stream",
          "name": "stdout",
          "text": [
            "Longest delay: 995\n"
          ]
        }
      ],
      "source": [
        "longest_delay = gf.edges.agg({\"delay\": \"max\"}).collect()[0][0]\n",
        "print(f\"Longest delay: {longest_delay}\")"
      ]
    },
    {
      "cell_type": "markdown",
      "id": "202d888c",
      "metadata": {
        "id": "202d888c"
      },
      "source": [
        "### Find out the number of delayed flights vs. early flights (flights that departed before actual time)"
      ]
    },
    {
      "cell_type": "code",
      "execution_count": 18,
      "id": "7cdd7ff7",
      "metadata": {
        "id": "7cdd7ff7",
        "outputId": "d9471179-d5f5-467f-edcd-afd1036fb360",
        "colab": {
          "base_uri": "https://localhost:8080/"
        }
      },
      "outputs": [
        {
          "output_type": "stream",
          "name": "stdout",
          "text": [
            "Number of delayed flights: 591727\n",
            "Number of early flights: 668729\n",
            "Percentage of delayed flights: 42.52201457625803%\n",
            "Percentage of early flights: 48.055444969667526%\n"
          ]
        }
      ],
      "source": [
        "no_of_delayed_flights = gf.edges.filter(gf.edges.delay > 0).count()\n",
        "no_of_early_flights = gf.edges.filter(gf.edges.delay < 0).count()\n",
        "\n",
        "print(f\"Number of delayed flights: {no_of_delayed_flights}\")\n",
        "print(f\"Number of early flights: {no_of_early_flights}\")\n",
        "\n",
        "print(f\"Percentage of delayed flights: {no_of_delayed_flights/no_of_trips*100}%\")\n",
        "print(f\"Percentage of early flights: {no_of_early_flights/no_of_trips*100}%\")"
      ]
    },
    {
      "cell_type": "markdown",
      "id": "30961bc3",
      "metadata": {
        "id": "30961bc3"
      },
      "source": [
        "### What flight destinations departing SFO are most likely to have significant delays? Select the top 10\n",
        "#### Hint: you should get the average delay for each destination for trips that depart from SFO only"
      ]
    },
    {
      "cell_type": "code",
      "execution_count": 19,
      "id": "afdc6842",
      "metadata": {
        "id": "afdc6842",
        "outputId": "8c399dfe-c814-4dd1-a86d-034dbe3c6cd2",
        "colab": {
          "base_uri": "https://localhost:8080/"
        }
      },
      "outputs": [
        {
          "output_type": "stream",
          "name": "stdout",
          "text": [
            "+---+------------------+\n",
            "|dst|        avg(delay)|\n",
            "+---+------------------+\n",
            "|JAC| 30.78846153846154|\n",
            "|OKC|24.822222222222223|\n",
            "|SUN|22.696629213483146|\n",
            "|COS| 22.58888888888889|\n",
            "|SAT|             22.16|\n",
            "|STL|         20.203125|\n",
            "|HNL|19.982608695652175|\n",
            "|ASE|19.846153846153847|\n",
            "|CEC|19.089820359281436|\n",
            "|MDW|18.771929824561404|\n",
            "+---+------------------+\n",
            "only showing top 10 rows\n",
            "\n"
          ]
        }
      ],
      "source": [
        "avg_delay_sfo = gf.edges.filter(gf.edges.src == 'SFO').groupBy('dst').agg({'delay': 'avg'}).orderBy('avg(delay)', ascending=False)\n",
        "avg_delay_sfo.show(10)"
      ]
    },
    {
      "cell_type": "markdown",
      "id": "71d46665",
      "metadata": {
        "id": "71d46665"
      },
      "source": [
        "### Find the Incoming connections to the airport sorted in Desc. order."
      ]
    },
    {
      "cell_type": "code",
      "execution_count": 20,
      "id": "c28925c3",
      "metadata": {
        "id": "c28925c3",
        "outputId": "4feabeea-6e43-42ca-b83b-0433993adc18",
        "colab": {
          "base_uri": "https://localhost:8080/"
        }
      },
      "outputs": [
        {
          "output_type": "stream",
          "name": "stderr",
          "text": [
            "/usr/local/lib/python3.11/dist-packages/pyspark/sql/dataframe.py:147: UserWarning: DataFrame constructor is internal. Do not directly use it.\n",
            "  warnings.warn(\"DataFrame constructor is internal. Do not directly use it.\")\n"
          ]
        },
        {
          "output_type": "stream",
          "name": "stdout",
          "text": [
            "+---+--------+\n",
            "| id|inDegree|\n",
            "+---+--------+\n",
            "|ATL|   90434|\n",
            "|DFW|   66050|\n",
            "|ORD|   61967|\n",
            "|LAX|   53601|\n",
            "|DEN|   50921|\n",
            "+---+--------+\n",
            "only showing top 5 rows\n",
            "\n"
          ]
        }
      ],
      "source": [
        "incoming_connections = gf.inDegrees.orderBy('inDegree', ascending=False)\n",
        "incoming_connections.show(5)"
      ]
    },
    {
      "cell_type": "markdown",
      "id": "d1b6509d",
      "metadata": {
        "id": "d1b6509d"
      },
      "source": [
        "### Find the Outgoing connections from the airport sorted in Desc. order."
      ]
    },
    {
      "cell_type": "code",
      "execution_count": 21,
      "id": "631af51d",
      "metadata": {
        "id": "631af51d",
        "outputId": "0a1a858a-9290-4ad0-d8e0-d8a82af5b675",
        "colab": {
          "base_uri": "https://localhost:8080/"
        }
      },
      "outputs": [
        {
          "output_type": "stream",
          "name": "stdout",
          "text": [
            "+---+---------+\n",
            "| id|outDegree|\n",
            "+---+---------+\n",
            "|ATL|    91484|\n",
            "|DFW|    68482|\n",
            "|ORD|    64228|\n",
            "|LAX|    54086|\n",
            "|DEN|    53148|\n",
            "+---+---------+\n",
            "only showing top 5 rows\n",
            "\n"
          ]
        }
      ],
      "source": [
        "outgoing_connections = gf.outDegrees.orderBy('outDegree', ascending=False)\n",
        "outgoing_connections.show(5)"
      ]
    },
    {
      "cell_type": "markdown",
      "id": "fbec58ce",
      "metadata": {
        "id": "fbec58ce"
      },
      "source": [
        "### Use motif finding to answer this question: which delays could we blame on SFO?\n",
        "#### Hint: this practically means that SFO is a transit station"
      ]
    },
    {
      "cell_type": "code",
      "execution_count": 22,
      "id": "db17f3df",
      "metadata": {
        "id": "db17f3df",
        "outputId": "ce895b40-1630-4d67-a341-98fcfb6ce3a2",
        "colab": {
          "base_uri": "https://localhost:8080/"
        }
      },
      "outputs": [
        {
          "output_type": "stream",
          "name": "stdout",
          "text": [
            "Delays that could be blamed on SFO as a transit station:\n",
            "+------+-------+-----------+-------------------+--------------------+\n",
            "|origin|transit|destination|first_segment_delay|second_segment_delay|\n",
            "+------+-------+-----------+-------------------+--------------------+\n",
            "|   ABQ|    SFO|        JFK|                 -7|                  55|\n",
            "|   ABQ|    SFO|        DFW|                 -7|                 134|\n",
            "|   ABQ|    SFO|        ORD|                 -7|                  32|\n",
            "|   ABQ|    SFO|        DFW|                 -7|                   3|\n",
            "|   ABQ|    SFO|        ORD|                 -7|                 124|\n",
            "|   ABQ|    SFO|        LAX|                 -7|                 139|\n",
            "|   ABQ|    SFO|        JFK|                 -7|                 133|\n",
            "|   ABQ|    SFO|        ORD|                 -7|                 113|\n",
            "|   ABQ|    SFO|        LAX|                 -7|                   8|\n",
            "|   ABQ|    SFO|        MIA|                 -7|                  18|\n",
            "|   ABQ|    SFO|        DFW|                 -7|                   2|\n",
            "|   ABQ|    SFO|        ORD|                 -7|                   9|\n",
            "|   ABQ|    SFO|        ORD|                 -7|                 326|\n",
            "|   ABQ|    SFO|        DFW|                 -7|                   1|\n",
            "|   ABQ|    SFO|        ORD|                 -7|                  34|\n",
            "|   ABQ|    SFO|        DFW|                 -7|                   1|\n",
            "|   ABQ|    SFO|        ORD|                 -7|                 190|\n",
            "|   ABQ|    SFO|        LAX|                 -7|                   9|\n",
            "|   ABQ|    SFO|        JFK|                 -7|                 111|\n",
            "|   ABQ|    SFO|        DFW|                 -7|                 103|\n",
            "+------+-------+-----------+-------------------+--------------------+\n",
            "only showing top 20 rows\n",
            "\n"
          ]
        }
      ],
      "source": [
        "sfo_transit_paths = gf.find(\"(a)-[e1]->(sfo); (sfo)-[e2]->(c)\").filter(\"sfo.id = 'SFO'\")\n",
        "sfo_transit_delays = sfo_transit_paths.filter(\"(e1.delay > 0) OR (e2.delay > 0)\")\n",
        "print(\"Delays that could be blamed on SFO as a transit station:\")\n",
        "sfo_transit_delays.selectExpr(\"a.id as origin\", \"sfo.id as transit\", \"c.id as destination\", \"e1.delay as first_segment_delay\", \"e2.delay as second_segment_delay\").show()"
      ]
    },
    {
      "cell_type": "markdown",
      "id": "cc1ece96",
      "metadata": {
        "id": "cc1ece96"
      },
      "source": [
        "### Determine Airport Ranking in Desc. order using PageRank algorithm"
      ]
    },
    {
      "cell_type": "code",
      "execution_count": 23,
      "id": "f754d545",
      "metadata": {
        "id": "f754d545",
        "outputId": "590c6adf-742e-443b-918c-c00e4ba79faa",
        "colab": {
          "base_uri": "https://localhost:8080/"
        }
      },
      "outputs": [
        {
          "output_type": "stream",
          "name": "stdout",
          "text": [
            "Airport Ranking based on PageRank:\n",
            "+--------------+-----+-------+---+------------------+\n",
            "|          City|State|Country| id|          pagerank|\n",
            "+--------------+-----+-------+---+------------------+\n",
            "|       Atlanta|   GA|    USA|ATL|29.615367151902028|\n",
            "|        Dallas|   TX|    USA|DFW|21.412549106054627|\n",
            "|       Chicago|   IL|    USA|ORD|20.784764668927355|\n",
            "|        Denver|   CO|    USA|DEN|15.525851214594773|\n",
            "|   Los Angeles|   CA|    USA|LAX|14.240991985905305|\n",
            "|       Houston|   TX|    USA|IAH|12.566621320447185|\n",
            "| San Francisco|   CA|    USA|SFO|11.258453926970866|\n",
            "|       Phoenix|   AZ|    USA|PHX| 10.55374157361721|\n",
            "|Salt Lake City|   UT|    USA|SLC| 9.330416999448307|\n",
            "|     Las Vegas|   NV|    USA|LAS| 8.534780587472302|\n",
            "|       Seattle|   WA|    USA|SEA| 7.370610900510238|\n",
            "|       Orlando|   FL|    USA|MCO| 7.190221731843621|\n",
            "|     Charlotte|   NC|    USA|CLT| 7.181012806544953|\n",
            "|        Newark|   NJ|    USA|EWR|7.1269623643872615|\n",
            "|       Detroit|   MI|    USA|DTW| 6.845866070853457|\n",
            "|      New York|   NY|    USA|LGA| 6.793762191654391|\n",
            "|   Minneapolis|   MN|    USA|MSP|   6.7309186470033|\n",
            "|        Boston|   MA|    USA|BOS| 6.268854230795433|\n",
            "|     Baltimore|   MD|    USA|BWI| 5.731561010174128|\n",
            "|      New York|   NY|    USA|JFK| 5.701883676390318|\n",
            "+--------------+-----+-------+---+------------------+\n",
            "only showing top 20 rows\n",
            "\n"
          ]
        }
      ],
      "source": [
        "pagerank_results = gf.pageRank(resetProbability=0.15, maxIter=10)\n",
        "airport_ranking = pagerank_results.vertices.orderBy(\"pagerank\", ascending=False)\n",
        "print(\"Airport Ranking based on PageRank:\")\n",
        "airport_ranking.show()"
      ]
    },
    {
      "cell_type": "markdown",
      "id": "fe1e7648",
      "metadata": {
        "id": "fe1e7648"
      },
      "source": [
        "## Determine the most popular flights (single city hops)"
      ]
    },
    {
      "cell_type": "code",
      "source": [
        "from pyspark.sql.functions import count\n"
      ],
      "metadata": {
        "id": "SjDnxT65yxvC"
      },
      "id": "SjDnxT65yxvC",
      "execution_count": 24,
      "outputs": []
    },
    {
      "cell_type": "code",
      "execution_count": 25,
      "id": "da4b3306",
      "metadata": {
        "id": "da4b3306",
        "outputId": "f86f4c2f-ad00-4d8d-87a4-86eb975d0bcc",
        "colab": {
          "base_uri": "https://localhost:8080/"
        }
      },
      "outputs": [
        {
          "output_type": "stream",
          "name": "stdout",
          "text": [
            "Most popular single city hops:\n",
            "+---+---+------------+\n",
            "|src|dst|flight_count|\n",
            "+---+---+------------+\n",
            "|SFO|LAX|        3232|\n",
            "|LAX|SFO|        3198|\n",
            "|LAS|LAX|        3016|\n",
            "|LAX|LAS|        2964|\n",
            "|JFK|LAX|        2720|\n",
            "|LAX|JFK|        2719|\n",
            "|ATL|LGA|        2501|\n",
            "|LGA|ATL|        2500|\n",
            "|LAX|PHX|        2394|\n",
            "|PHX|LAX|        2387|\n",
            "|HNL|OGG|        2380|\n",
            "|OGG|HNL|        2379|\n",
            "|LAX|SAN|        2215|\n",
            "|SAN|LAX|        2214|\n",
            "|SJC|LAX|        2208|\n",
            "|LAX|SJC|        2201|\n",
            "|ATL|MCO|        2136|\n",
            "|MCO|ATL|        2090|\n",
            "|JFK|SFO|        2084|\n",
            "|SFO|JFK|        2084|\n",
            "+---+---+------------+\n",
            "only showing top 20 rows\n",
            "\n"
          ]
        }
      ],
      "source": [
        "popular_flights = gf.edges.groupBy(\"src\", \"dst\").agg(count(\"*\").alias(\"flight_count\"))\n",
        "most_popular_flights = popular_flights.orderBy(\"flight_count\", ascending=False)\n",
        "print(\"Most popular single city hops:\")\n",
        "most_popular_flights.show()"
      ]
    },
    {
      "cell_type": "markdown",
      "id": "8ebb5e18",
      "metadata": {
        "id": "8ebb5e18"
      },
      "source": [
        "### Find and Save a Subragph that obtained from the following pattern:\n",
        "#### The flight starts from an airport and return back to the same airport through 2 other airports."
      ]
    },
    {
      "cell_type": "code",
      "execution_count": 26,
      "id": "00361946",
      "metadata": {
        "id": "00361946",
        "outputId": "74666f65-6a48-4e6d-bb83-1ba12aa10528",
        "colab": {
          "base_uri": "https://localhost:8080/"
        }
      },
      "outputs": [
        {
          "output_type": "stream",
          "name": "stdout",
          "text": [
            "+---+---+---+---+---+---+\n",
            "|  a| e1|  b| e2|  c| e3|\n",
            "+---+---+---+---+---+---+\n",
            "+---+---+---+---+---+---+\n",
            "\n"
          ]
        }
      ],
      "source": [
        "small_edges = gf.edges.limit(1000)\n",
        "small_vertices = gf.vertices.limit(1000)\n",
        "small_graph = GraphFrame(small_vertices, small_edges)\n",
        "\n",
        "round_trip_pattern = small_graph.find(\"(a)-[e1]->(b); (b)-[e2]->(c); (c)-[e3]->(a)\")\n",
        "round_trip_pattern.show()\n"
      ]
    }
  ],
  "metadata": {
    "kernelspec": {
      "display_name": "Python 3 (ipykernel)",
      "language": "python",
      "name": "python3"
    },
    "language_info": {
      "codemirror_mode": {
        "name": "ipython",
        "version": 3
      },
      "file_extension": ".py",
      "mimetype": "text/x-python",
      "name": "python",
      "nbconvert_exporter": "python",
      "pygments_lexer": "ipython3",
      "version": "3.9.12"
    },
    "colab": {
      "provenance": []
    }
  },
  "nbformat": 4,
  "nbformat_minor": 5
}