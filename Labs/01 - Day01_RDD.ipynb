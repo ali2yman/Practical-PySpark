{
  "cells": [
    {
      "cell_type": "markdown",
      "id": "2568221b",
      "metadata": {
        "id": "2568221b"
      },
      "source": [
        "### Import the required libraries then Create SparkContext"
      ]
    },
    {
      "cell_type": "code",
      "execution_count": 2,
      "id": "65e6978c",
      "metadata": {
        "id": "65e6978c"
      },
      "outputs": [],
      "source": [
        "import numpy\n",
        "import pyspark\n",
        "from pyspark.sql import SparkSession\n"
      ]
    },
    {
      "cell_type": "code",
      "source": [
        "spark = SparkSession.builder.getOrCreate()\n",
        "sc = spark.sparkContext"
      ],
      "metadata": {
        "id": "A1o7wAkBauFW"
      },
      "id": "A1o7wAkBauFW",
      "execution_count": 4,
      "outputs": []
    },
    {
      "cell_type": "markdown",
      "id": "e9a7d9c6",
      "metadata": {
        "id": "e9a7d9c6"
      },
      "source": [
        "### Create and display an RDD from the following list"
      ]
    },
    {
      "cell_type": "code",
      "execution_count": 6,
      "id": "409084ef",
      "metadata": {
        "id": "409084ef"
      },
      "outputs": [],
      "source": [
        "list = [('JK', 22), ('V', 24), ('Jimin',24), ('RM', 25), ('J-Hope', 25), ('Suga', 26), ('Jin', 27)]"
      ]
    },
    {
      "cell_type": "code",
      "execution_count": 7,
      "id": "d5ba0725",
      "metadata": {
        "scrolled": false,
        "colab": {
          "base_uri": "https://localhost:8080/"
        },
        "id": "d5ba0725",
        "outputId": "ec6da401-6ba1-4afc-bcff-a809a184709e"
      },
      "outputs": [
        {
          "output_type": "execute_result",
          "data": {
            "text/plain": [
              "[('JK', 22), ('V', 24), ('Jimin', 24), ('RM', 25), ('J-Hope', 25)]"
            ]
          },
          "metadata": {},
          "execution_count": 7
        }
      ],
      "source": [
        "list_rdd = sc.parallelize(list)\n",
        "list_rdd.take(5)"
      ]
    },
    {
      "cell_type": "markdown",
      "id": "823af0d6",
      "metadata": {
        "id": "823af0d6"
      },
      "source": [
        "### Create a sample1.txt file to contain the text shown below."
      ]
    },
    {
      "cell_type": "code",
      "execution_count": null,
      "id": "66668929",
      "metadata": {
        "id": "66668929",
        "outputId": "cf38af9e-59be-4205-e9f5-bc2b18988c0c"
      },
      "outputs": [
        {
          "name": "stdout",
          "output_type": "stream",
          "text": [
            "\n",
            "Utilitatis causa amicitia est quaesita.\n",
            "Lorem ipsum dolor sit amet, consectetur adipiscing elit. \n",
            "Collatio igitur ista tenihil iuvat. \n",
            "Honesta oratio, Socratica, Platonis etiam. \n",
            "Primum in nostranepotestate est, quid meminerimus? \n",
            "Duo Reges: constructio interrete.\n",
            "Quid, sietiam iucunda memoria est praeteritorum malorum? \n",
            "Si quidem, inquit, tollerem,\n"
          ]
        }
      ],
      "source": [
        "print('''\n",
        "Utilitatis causa amicitia est quaesita.\n",
        "Lorem ipsum dolor sit amet, consectetur adipiscing elit.\n",
        "Collatio igitur ista tenihil iuvat.\n",
        "Honesta oratio, Socratica, Platonis etiam.\n",
        "Primum in nostranepotestate est, quid meminerimus?\n",
        "Duo Reges: constructio interrete.\n",
        "Quid, sietiam iucunda memoria est praeteritorum malorum?\n",
        "Si quidem, inquit, tollerem,''')"
      ]
    },
    {
      "cell_type": "markdown",
      "id": "49249054",
      "metadata": {
        "id": "49249054"
      },
      "source": [
        "### Read sample1.txt file into RDD and displaying the first 4 elements"
      ]
    },
    {
      "cell_type": "code",
      "execution_count": 9,
      "id": "0732dc1d",
      "metadata": {
        "colab": {
          "base_uri": "https://localhost:8080/"
        },
        "id": "0732dc1d",
        "outputId": "983f781d-9452-4b12-d815-15396bdd759c"
      },
      "outputs": [
        {
          "output_type": "execute_result",
          "data": {
            "text/plain": [
              "['Utilitatis causa amicitia est quaesita.',\n",
              " 'Lorem ipsum dolor sit amet, consectetur adipiscing elit. ',\n",
              " 'Collatio igitur ista tenihil iuvat. ',\n",
              " 'Honesta oratio, Socratica, Platonis etiam. ']"
            ]
          },
          "metadata": {},
          "execution_count": 9
        }
      ],
      "source": [
        "sample1 = '''Utilitatis causa amicitia est quaesita.\n",
        "Lorem ipsum dolor sit amet, consectetur adipiscing elit.\n",
        "Collatio igitur ista tenihil iuvat.\n",
        "Honesta oratio, Socratica, Platonis etiam.\n",
        "Primum in nostranepotestate est, quid meminerimus?\n",
        "Duo Reges: constructio interrete.\n",
        "Quid, sietiam iucunda memoria est praeteritorum malorum?\n",
        "Si quidem, inquit, tollerem,'''\n",
        "\n",
        "\n",
        "sample_rdd = sc.parallelize(sample1.split('\\n'))\n",
        "sample_rdd.take(4)"
      ]
    },
    {
      "cell_type": "code",
      "source": [
        "sample_rdd.saveAsTextFile('sample_rdd.txt')"
      ],
      "metadata": {
        "id": "FtS7vqiecoNo"
      },
      "id": "FtS7vqiecoNo",
      "execution_count": 11,
      "outputs": []
    },
    {
      "cell_type": "code",
      "source": [
        "sample_rdd = sc.textFile('sample_rdd.txt')\n",
        "sample_rdd.take(4)"
      ],
      "metadata": {
        "id": "RhiMh7N_dkxb",
        "outputId": "6804b343-bb7f-45f9-b22e-2dcb8fa43b0e",
        "colab": {
          "base_uri": "https://localhost:8080/"
        }
      },
      "id": "RhiMh7N_dkxb",
      "execution_count": 12,
      "outputs": [
        {
          "output_type": "execute_result",
          "data": {
            "text/plain": [
              "['Utilitatis causa amicitia est quaesita.',\n",
              " 'Lorem ipsum dolor sit amet, consectetur adipiscing elit. ',\n",
              " 'Collatio igitur ista tenihil iuvat. ',\n",
              " 'Honesta oratio, Socratica, Platonis etiam. ']"
            ]
          },
          "metadata": {},
          "execution_count": 12
        }
      ]
    },
    {
      "cell_type": "markdown",
      "id": "f0194c12",
      "metadata": {
        "id": "f0194c12"
      },
      "source": [
        "### Count the total number of rows in RDD"
      ]
    },
    {
      "cell_type": "code",
      "execution_count": 13,
      "id": "09f9d486",
      "metadata": {
        "colab": {
          "base_uri": "https://localhost:8080/"
        },
        "id": "09f9d486",
        "outputId": "ecb48e45-2898-433c-9a4f-a8c31c5ff3b7"
      },
      "outputs": [
        {
          "output_type": "execute_result",
          "data": {
            "text/plain": [
              "8"
            ]
          },
          "metadata": {},
          "execution_count": 13
        }
      ],
      "source": [
        "sample_rdd.count()"
      ]
    },
    {
      "cell_type": "markdown",
      "id": "e7c4dc87",
      "metadata": {
        "id": "e7c4dc87"
      },
      "source": [
        "### Create a function to convert the data into lower case and splitting it"
      ]
    },
    {
      "cell_type": "code",
      "execution_count": 14,
      "id": "82cd28bc",
      "metadata": {
        "scrolled": true,
        "colab": {
          "base_uri": "https://localhost:8080/"
        },
        "id": "82cd28bc",
        "outputId": "7443f85d-94dc-4ad0-a5fd-3d8dc0224151"
      },
      "outputs": [
        {
          "output_type": "execute_result",
          "data": {
            "text/plain": [
              "[['utilitatis', 'causa', 'amicitia', 'est', 'quaesita.'],\n",
              " ['lorem',\n",
              "  'ipsum',\n",
              "  'dolor',\n",
              "  'sit',\n",
              "  'amet,',\n",
              "  'consectetur',\n",
              "  'adipiscing',\n",
              "  'elit.'],\n",
              " ['collatio', 'igitur', 'ista', 'tenihil', 'iuvat.'],\n",
              " ['honesta', 'oratio,', 'socratica,', 'platonis', 'etiam.']]"
            ]
          },
          "metadata": {},
          "execution_count": 14
        }
      ],
      "source": [
        "sample_rdd2 = sample_rdd.map(lambda x: x.lower().split())\n",
        "sample_rdd2.take(4)"
      ]
    },
    {
      "cell_type": "markdown",
      "id": "7437d37f",
      "metadata": {
        "id": "7437d37f"
      },
      "source": [
        "### Remove the stopwords from the previous text. i.e. Remove it."
      ]
    },
    {
      "cell_type": "code",
      "execution_count": 19,
      "id": "358d6cd7",
      "metadata": {
        "id": "358d6cd7"
      },
      "outputs": [],
      "source": [
        "stopwords = ['a','all','the','as','is','am','an','and',\n",
        "             'be','been','from','had','I','I’d','why','with']\n",
        "# Hint: you may need use flatMap"
      ]
    },
    {
      "cell_type": "code",
      "execution_count": 20,
      "id": "7a03bf98",
      "metadata": {
        "colab": {
          "base_uri": "https://localhost:8080/"
        },
        "id": "7a03bf98",
        "outputId": "3928530f-c863-4173-ec10-e113ab9d7913"
      },
      "outputs": [
        {
          "output_type": "execute_result",
          "data": {
            "text/plain": [
              "['utilitatis',\n",
              " 'causa',\n",
              " 'amicitia',\n",
              " 'est',\n",
              " 'quaesita.',\n",
              " 'lorem',\n",
              " 'ipsum',\n",
              " 'dolor',\n",
              " 'sit',\n",
              " 'amet,',\n",
              " 'consectetur',\n",
              " 'adipiscing',\n",
              " 'elit.',\n",
              " 'collatio',\n",
              " 'igitur',\n",
              " 'ista',\n",
              " 'tenihil',\n",
              " 'iuvat.',\n",
              " 'honesta',\n",
              " 'oratio,',\n",
              " 'socratica,',\n",
              " 'platonis',\n",
              " 'etiam.',\n",
              " 'primum',\n",
              " 'in',\n",
              " 'nostranepotestate',\n",
              " 'est,',\n",
              " 'quid',\n",
              " 'meminerimus?',\n",
              " 'duo',\n",
              " 'reges:',\n",
              " 'constructio',\n",
              " 'interrete.',\n",
              " 'quid,',\n",
              " 'sietiam',\n",
              " 'iucunda',\n",
              " 'memoria',\n",
              " 'est',\n",
              " 'praeteritorum',\n",
              " 'malorum?',\n",
              " 'si',\n",
              " 'quidem,',\n",
              " 'inquit,',\n",
              " 'tollerem,']"
            ]
          },
          "metadata": {},
          "execution_count": 20
        }
      ],
      "source": [
        "sample_rdd3 = sample_rdd2.flatMap(lambda x : [word for word in x if word not in stopwords])\n",
        "sample_rdd3.collect()"
      ]
    },
    {
      "cell_type": "markdown",
      "id": "fb9f6058",
      "metadata": {
        "id": "fb9f6058"
      },
      "source": [
        "### Find the words starting with ‘c’"
      ]
    },
    {
      "cell_type": "code",
      "execution_count": 21,
      "id": "6407c39b",
      "metadata": {
        "colab": {
          "base_uri": "https://localhost:8080/"
        },
        "id": "6407c39b",
        "outputId": "daf97ad1-d354-4763-d708-562623444a35"
      },
      "outputs": [
        {
          "output_type": "execute_result",
          "data": {
            "text/plain": [
              "['causa', 'consectetur', 'collatio', 'constructio']"
            ]
          },
          "metadata": {},
          "execution_count": 21
        }
      ],
      "source": [
        "sample_rdd4 = sample_rdd3.filter(lambda x : x.startswith('c'))\n",
        "sample_rdd4.collect()"
      ]
    },
    {
      "cell_type": "markdown",
      "id": "eba39e2e",
      "metadata": {
        "id": "eba39e2e"
      },
      "source": [
        "### Reduce the data by key and sum it (use the data from the following list)"
      ]
    },
    {
      "cell_type": "code",
      "execution_count": 22,
      "id": "f26dea46",
      "metadata": {
        "id": "f26dea46"
      },
      "outputs": [],
      "source": [
        "list = [('JK', 22), ('V', 24), ('Jimin',24), ('RM', 25)\n",
        "        , ('J-Hope', 25), ('Suga', 26), ('Jin', 27)\n",
        "       , ('J-Hope', 12), ('Suga', 25), ('Jin', 34)\n",
        "       , ('JK', 32), ('V', 44), ('Jimin',14), ('RM', 35)]\n",
        "# Hint: use reduceByKey"
      ]
    },
    {
      "cell_type": "code",
      "execution_count": 23,
      "id": "ae551b82",
      "metadata": {
        "colab": {
          "base_uri": "https://localhost:8080/"
        },
        "id": "ae551b82",
        "outputId": "ac8cf414-e26d-41ae-9cd4-f080d033b12b"
      },
      "outputs": [
        {
          "output_type": "execute_result",
          "data": {
            "text/plain": [
              "[('Jimin', 38),\n",
              " ('RM', 60),\n",
              " ('J-Hope', 37),\n",
              " ('Suga', 51),\n",
              " ('JK', 54),\n",
              " ('V', 68),\n",
              " ('Jin', 61)]"
            ]
          },
          "metadata": {},
          "execution_count": 23
        }
      ],
      "source": [
        "sample_rdd5_list = sc.parallelize(list)\n",
        "sample_rdd5_list.reduceByKey(lambda x,y : x+y).collect()"
      ]
    },
    {
      "cell_type": "markdown",
      "id": "a4587230",
      "metadata": {
        "id": "a4587230"
      },
      "source": [
        "### Creat some key value pairs RDDs"
      ]
    },
    {
      "cell_type": "code",
      "execution_count": 25,
      "id": "cfb446ee",
      "metadata": {
        "id": "cfb446ee"
      },
      "outputs": [],
      "source": [
        "rdd1 = sc.parallelize([('a',2),('b',3)])\n",
        "rdd2 = sc.parallelize([('a',9),('b',7),('c',10)])"
      ]
    },
    {
      "cell_type": "code",
      "execution_count": 26,
      "id": "e4ef9f47",
      "metadata": {
        "colab": {
          "base_uri": "https://localhost:8080/"
        },
        "id": "e4ef9f47",
        "outputId": "ad8781db-fe11-4f3d-f2dc-1805493f836e"
      },
      "outputs": [
        {
          "output_type": "execute_result",
          "data": {
            "text/plain": [
              "[('a', 2), ('b', 3)]"
            ]
          },
          "metadata": {},
          "execution_count": 26
        }
      ],
      "source": [
        "rdd1.collect()"
      ]
    },
    {
      "cell_type": "code",
      "execution_count": 27,
      "id": "d16f7ae9",
      "metadata": {
        "colab": {
          "base_uri": "https://localhost:8080/"
        },
        "id": "d16f7ae9",
        "outputId": "1b3ad5be-bbd5-4c3e-df76-9c23e7a6da97"
      },
      "outputs": [
        {
          "output_type": "execute_result",
          "data": {
            "text/plain": [
              "[('a', 9), ('b', 7), ('c', 10)]"
            ]
          },
          "metadata": {},
          "execution_count": 27
        }
      ],
      "source": [
        "rdd2.collect()"
      ]
    },
    {
      "cell_type": "markdown",
      "id": "98ec3168",
      "metadata": {
        "id": "98ec3168"
      },
      "source": [
        "### Perform Join operation on the RDDs (rdd1,rdd2)"
      ]
    },
    {
      "cell_type": "code",
      "execution_count": 28,
      "id": "c61b5926",
      "metadata": {
        "colab": {
          "base_uri": "https://localhost:8080/"
        },
        "id": "c61b5926",
        "outputId": "e33cf92a-a022-4338-a91d-d3325ded3b41"
      },
      "outputs": [
        {
          "output_type": "execute_result",
          "data": {
            "text/plain": [
              "[('b', (3, 7)), ('a', (2, 9))]"
            ]
          },
          "metadata": {},
          "execution_count": 28
        }
      ],
      "source": [
        "rdd3 = rdd1.join(rdd2)\n",
        "rdd3.collect()"
      ]
    }
  ],
  "metadata": {
    "kernelspec": {
      "display_name": "Python 3 (ipykernel)",
      "language": "python",
      "name": "python3"
    },
    "language_info": {
      "codemirror_mode": {
        "name": "ipython",
        "version": 3
      },
      "file_extension": ".py",
      "mimetype": "text/x-python",
      "name": "python",
      "nbconvert_exporter": "python",
      "pygments_lexer": "ipython3",
      "version": "3.9.12"
    },
    "colab": {
      "provenance": []
    }
  },
  "nbformat": 4,
  "nbformat_minor": 5
}