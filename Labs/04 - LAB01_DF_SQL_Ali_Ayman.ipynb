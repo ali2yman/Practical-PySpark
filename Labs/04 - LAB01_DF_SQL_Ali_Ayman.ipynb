{
  "cells": [
    {
      "cell_type": "markdown",
      "id": "05f1e8db",
      "metadata": {
        "id": "05f1e8db"
      },
      "source": [
        "# **Labs 1 PySpark:**\n",
        "\n",
        "In these labs we will be using the \"[[NeurIPS 2020] Data Science for COVID-19 (DS4C)](https://www.kaggle.com/datasets/kimjihoo/coronavirusdataset?select=PatientInfo.csv)\" dataset, retrieved from [Kaggle](https://www.kaggle.com/) on 1/6/2022, for educational non commercial purpose, License\n",
        "[CC BY-NC-SA 4.0\n",
        "](https://creativecommons.org/licenses/by-nc-sa/4.0/)\n",
        "\n",
        "\n",
        "The csv file that we will be using in this lab is **PatientInfo**."
      ]
    },
    {
      "cell_type": "markdown",
      "id": "3ac9bbf0",
      "metadata": {
        "id": "3ac9bbf0"
      },
      "source": [
        "## PatientInfo.csv\n",
        "\n",
        "**patient_id**\n",
        "the ID of the patient\n",
        "\n",
        "**sex**\n",
        "the sex of the patient\n",
        "\n",
        "**age**\n",
        "the age of the patient\n",
        "\n",
        "**country**\n",
        "the country of the patient\n",
        "\n",
        "**province**\n",
        "the province of the patient\n",
        "\n",
        "**city**\n",
        "the city of the patient\n",
        "\n",
        "**infection_case**\n",
        "the case of infection\n",
        "\n",
        "**infected_by**\n",
        "the ID of who infected the patient\n",
        "\n",
        "\n",
        "**contact_number**\n",
        "the number of contacts with people\n",
        "\n",
        "**symptom_onset_date**\n",
        "the date of symptom onset\n",
        "\n",
        "**confirmed_date**\n",
        "the date of being confirmed\n",
        "\n",
        "**released_date**\n",
        "the date of being released\n",
        "\n",
        "**deceased_date**\n",
        "the date of being deceased\n",
        "\n",
        "**state**\n",
        "isolated / released / deceased"
      ]
    },
    {
      "cell_type": "markdown",
      "id": "34b6f619",
      "metadata": {
        "id": "34b6f619"
      },
      "source": [
        "### Import the pyspark and check it's version"
      ]
    },
    {
      "cell_type": "code",
      "execution_count": 1,
      "id": "29fe2ddc",
      "metadata": {
        "colab": {
          "base_uri": "https://localhost:8080/",
          "height": 36
        },
        "id": "29fe2ddc",
        "outputId": "dbe2619e-f944-4063-cd80-73b97a8fd91c"
      },
      "outputs": [],
      "source": [
        "import findspark\n",
        "import os\n",
        "\n",
        "os.environ[\"SPARK_HOME\"] = \"C:\\\\spark\\\\spark-3.5.5-bin-hadoop3\"\n",
        "findspark.init()"
      ]
    },
    {
      "cell_type": "code",
      "execution_count": 2,
      "id": "ba0644b1",
      "metadata": {},
      "outputs": [
        {
          "name": "stdout",
          "output_type": "stream",
          "text": [
            "3.5.5\n"
          ]
        }
      ],
      "source": [
        "# version of pyspark    \n",
        "from pyspark import __version__\n",
        "print(__version__)"
      ]
    },
    {
      "cell_type": "code",
      "execution_count": 3,
      "id": "94904228",
      "metadata": {
        "id": "94904228"
      },
      "outputs": [],
      "source": [
        "from pyspark.sql import SparkSession\n",
        "from pyspark.sql import functions as F\n",
        "from pyspark.sql.types import *\n",
        "\n",
        "# Create a local Spark session\n",
        "spark = SparkSession.builder \\\n",
        "    .appName(\"lab1\") \\\n",
        "    .master(\"local[*]\") \\\n",
        "    .getOrCreate()"
      ]
    },
    {
      "cell_type": "markdown",
      "id": "7356d68d",
      "metadata": {
        "id": "7356d68d"
      },
      "source": [
        "### Load the PatientInfo.csv file and show the first 5 rows"
      ]
    },
    {
      "cell_type": "code",
      "execution_count": 4,
      "id": "d5185728",
      "metadata": {
        "colab": {
          "base_uri": "https://localhost:8080/",
          "height": 17
        },
        "id": "d5185728",
        "outputId": "8db56723-0b1f-4560-8139-d43eef5a49ae"
      },
      "outputs": [
        {
          "data": {
            "text/html": [
              "<style>pre { white-space: pre !important; }</style>"
            ],
            "text/plain": [
              "<IPython.core.display.HTML object>"
            ]
          },
          "metadata": {},
          "output_type": "display_data"
        }
      ],
      "source": [
        "from IPython.display import display, HTML\n",
        "display(HTML(\"<style>pre { white-space: pre !important; }</style>\"))"
      ]
    },
    {
      "cell_type": "code",
      "execution_count": 5,
      "id": "2196bca5",
      "metadata": {
        "colab": {
          "base_uri": "https://localhost:8080/"
        },
        "id": "2196bca5",
        "outputId": "d2faf822-d18e-4424-aa15-bb11936dc1b9"
      },
      "outputs": [
        {
          "name": "stdout",
          "output_type": "stream",
          "text": [
            "+----------+------+---+-------+--------+-----------+--------------------+-----------+--------------+------------------+--------------+-------------+-------------+--------+\n",
            "|patient_id|   sex|age|country|province|       city|      infection_case|infected_by|contact_number|symptom_onset_date|confirmed_date|released_date|deceased_date|   state|\n",
            "+----------+------+---+-------+--------+-----------+--------------------+-----------+--------------+------------------+--------------+-------------+-------------+--------+\n",
            "|1000000001|  male|50s|  Korea|   Seoul| Gangseo-gu|     overseas inflow|       NULL|            75|        2020-01-22|    2020-01-23|   2020-02-05|         NULL|released|\n",
            "|1000000002|  male|30s|  Korea|   Seoul|Jungnang-gu|     overseas inflow|       NULL|            31|              NULL|    2020-01-30|   2020-03-02|         NULL|released|\n",
            "|1000000003|  male|50s|  Korea|   Seoul|  Jongno-gu|contact with patient| 2002000001|            17|              NULL|    2020-01-30|   2020-02-19|         NULL|released|\n",
            "|1000000004|  male|20s|  Korea|   Seoul|    Mapo-gu|     overseas inflow|       NULL|             9|        2020-01-26|    2020-01-30|   2020-02-15|         NULL|released|\n",
            "|1000000005|female|20s|  Korea|   Seoul|Seongbuk-gu|contact with patient| 1000000002|             2|              NULL|    2020-01-31|   2020-02-24|         NULL|released|\n",
            "|1000000006|female|50s|  Korea|   Seoul|  Jongno-gu|contact with patient| 1000000003|            43|              NULL|    2020-01-31|   2020-02-19|         NULL|released|\n",
            "|1000000007|  male|20s|  Korea|   Seoul|  Jongno-gu|contact with patient| 1000000003|             0|              NULL|    2020-01-31|   2020-02-10|         NULL|released|\n",
            "|1000000008|  male|20s|  Korea|   Seoul|        etc|     overseas inflow|       NULL|             0|              NULL|    2020-02-02|   2020-02-24|         NULL|released|\n",
            "|1000000009|  male|30s|  Korea|   Seoul|  Songpa-gu|     overseas inflow|       NULL|            68|              NULL|    2020-02-05|   2020-02-21|         NULL|released|\n",
            "|1000000010|female|60s|  Korea|   Seoul|Seongbuk-gu|contact with patient| 1000000003|             6|              NULL|    2020-02-05|   2020-02-29|         NULL|released|\n",
            "+----------+------+---+-------+--------+-----------+--------------------+-----------+--------------+------------------+--------------+-------------+-------------+--------+\n",
            "only showing top 10 rows\n",
            "\n"
          ]
        }
      ],
      "source": [
        "df=spark.read.csv(\"..\\Data\\PatientInfo.csv\",header=True,inferSchema=True)\n",
        "df.show(10)"
      ]
    },
    {
      "cell_type": "code",
      "execution_count": 6,
      "id": "c51a2507",
      "metadata": {
        "colab": {
          "base_uri": "https://localhost:8080/"
        },
        "id": "c51a2507",
        "outputId": "b7a16a91-1f95-4db3-fb2d-44bd6a805f18"
      },
      "outputs": [
        {
          "name": "stdout",
          "output_type": "stream",
          "text": [
            "+-------+--------------------+------+----+----------+--------+--------------+--------------------+--------------------+--------------------+------------------+--------+\n",
            "|summary|          patient_id|   sex| age|   country|province|          city|      infection_case|         infected_by|      contact_number|symptom_onset_date|   state|\n",
            "+-------+--------------------+------+----+----------+--------+--------------+--------------------+--------------------+--------------------+------------------+--------+\n",
            "|  count|                5165|  4043|3785|      5165|    5165|          5071|                4246|                1346|                 791|               690|    5165|\n",
            "|   mean|2.8636345618679576E9|  NULL|NULL|      NULL|    NULL|          NULL|                NULL|2.2845944015643125E9|1.6772572523506988E7|              NULL|    NULL|\n",
            "| stddev| 2.074210725277473E9|  NULL|NULL|      NULL|    NULL|          NULL|                NULL|1.5265072953383324E9| 3.093097580985502E8|              NULL|    NULL|\n",
            "|    min|          1000000001|female|  0s|Bangladesh|   Busan|     Andong-si|Anyang Gunpo Past...|          1000000002|                   -|                  |deceased|\n",
            "|    max|          7000000019|  male| 90s|   Vietnam|   Ulsan|sankyeock-dong|     overseas inflow|          7000000009|                  95|        2020-06-28|released|\n",
            "+-------+--------------------+------+----+----------+--------+--------------+--------------------+--------------------+--------------------+------------------+--------+\n",
            "\n",
            "None\n",
            "--------------------------------------------------\n",
            "root\n",
            " |-- patient_id: long (nullable = true)\n",
            " |-- sex: string (nullable = true)\n",
            " |-- age: string (nullable = true)\n",
            " |-- country: string (nullable = true)\n",
            " |-- province: string (nullable = true)\n",
            " |-- city: string (nullable = true)\n",
            " |-- infection_case: string (nullable = true)\n",
            " |-- infected_by: string (nullable = true)\n",
            " |-- contact_number: string (nullable = true)\n",
            " |-- symptom_onset_date: string (nullable = true)\n",
            " |-- confirmed_date: date (nullable = true)\n",
            " |-- released_date: date (nullable = true)\n",
            " |-- deceased_date: date (nullable = true)\n",
            " |-- state: string (nullable = true)\n",
            "\n",
            "None\n"
          ]
        }
      ],
      "source": [
        "print(df.describe().show())\n",
        "print(\"-\"*50)\n",
        "print(df.printSchema())"
      ]
    },
    {
      "cell_type": "code",
      "execution_count": 7,
      "id": "SuRlQWNACAwJ",
      "metadata": {
        "colab": {
          "base_uri": "https://localhost:8080/"
        },
        "id": "SuRlQWNACAwJ",
        "outputId": "b734ad21-f607-4473-c9f8-56d9d5957f70"
      },
      "outputs": [
        {
          "data": {
            "text/plain": [
              "DataFrame[summary: string, patient_id: string, sex: string, age: string, country: string, province: string, city: string, infection_case: string, infected_by: string, contact_number: string, symptom_onset_date: string, state: string]"
            ]
          },
          "execution_count": 7,
          "metadata": {},
          "output_type": "execute_result"
        }
      ],
      "source": [
        "df.describe()"
      ]
    },
    {
      "cell_type": "code",
      "execution_count": 8,
      "id": "63e84045",
      "metadata": {
        "colab": {
          "base_uri": "https://localhost:8080/"
        },
        "id": "63e84045",
        "outputId": "58905051-b8d6-471d-b0c9-72006071a5e9"
      },
      "outputs": [
        {
          "name": "stdout",
          "output_type": "stream",
          "text": [
            "+--------+-----+\n",
            "|   state|count|\n",
            "+--------+-----+\n",
            "|isolated| 2158|\n",
            "|released| 2929|\n",
            "|deceased|   78|\n",
            "+--------+-----+\n",
            "\n"
          ]
        }
      ],
      "source": [
        "df.groupBy(\"state\").count().show()"
      ]
    },
    {
      "cell_type": "code",
      "execution_count": 9,
      "id": "C687kiJ1EDNz",
      "metadata": {
        "colab": {
          "base_uri": "https://localhost:8080/"
        },
        "id": "C687kiJ1EDNz",
        "outputId": "f57d134a-c27c-4b68-86cd-1c69066cce6c"
      },
      "outputs": [
        {
          "name": "stdout",
          "output_type": "stream",
          "text": [
            "patient_id 0\n",
            "--------------------------------------------------\n",
            "sex 1122\n",
            "--------------------------------------------------\n",
            "age 1380\n",
            "--------------------------------------------------\n",
            "country 0\n",
            "--------------------------------------------------\n",
            "province 0\n",
            "--------------------------------------------------\n",
            "city 94\n",
            "--------------------------------------------------\n",
            "infection_case 919\n",
            "--------------------------------------------------\n",
            "infected_by 3819\n",
            "--------------------------------------------------\n",
            "contact_number 4374\n",
            "--------------------------------------------------\n",
            "symptom_onset_date 4475\n",
            "--------------------------------------------------\n",
            "confirmed_date 3\n",
            "--------------------------------------------------\n",
            "released_date 3578\n",
            "--------------------------------------------------\n",
            "deceased_date 5099\n",
            "--------------------------------------------------\n",
            "state 0\n",
            "--------------------------------------------------\n"
          ]
        }
      ],
      "source": [
        "for c in df.columns:\n",
        "  print(c,df.filter(df[c].isNull()).count())\n",
        "  print(\"-\"*50)"
      ]
    },
    {
      "cell_type": "markdown",
      "id": "c3133f5a",
      "metadata": {
        "id": "c3133f5a"
      },
      "source": [
        "## Data preprocessing"
      ]
    },
    {
      "cell_type": "code",
      "execution_count": 10,
      "id": "d5ba64f9",
      "metadata": {
        "colab": {
          "base_uri": "https://localhost:8080/"
        },
        "id": "d5ba64f9",
        "outputId": "eadec45d-5c1e-4043-cfd1-551e5c1204d3"
      },
      "outputs": [
        {
          "name": "stdout",
          "output_type": "stream",
          "text": [
            "+----------+------+---+-------+--------+------------+--------------------+-----------+--------------+------------------+--------------+-------------+-------------+--------+\n",
            "|patient_id|   sex|age|country|province|        city|      infection_case|infected_by|contact_number|symptom_onset_date|confirmed_date|released_date|deceased_date|   state|\n",
            "+----------+------+---+-------+--------+------------+--------------------+-----------+--------------+------------------+--------------+-------------+-------------+--------+\n",
            "|1000000001|  male|50s|  Korea|   Seoul|  Gangseo-gu|     overseas inflow|       NULL|            75|        2020-01-22|    2020-01-23|   2020-02-05|   2020-02-05|released|\n",
            "|1000000002|  male|30s|  Korea|   Seoul| Jungnang-gu|     overseas inflow|       NULL|            31|              NULL|    2020-01-30|   2020-03-02|   2020-03-02|released|\n",
            "|1000000003|  male|50s|  Korea|   Seoul|   Jongno-gu|contact with patient| 2002000001|            17|              NULL|    2020-01-30|   2020-02-19|   2020-02-19|released|\n",
            "|1000000004|  male|20s|  Korea|   Seoul|     Mapo-gu|     overseas inflow|       NULL|             9|        2020-01-26|    2020-01-30|   2020-02-15|   2020-02-15|released|\n",
            "|1000000005|female|20s|  Korea|   Seoul| Seongbuk-gu|contact with patient| 1000000002|             2|              NULL|    2020-01-31|   2020-02-24|   2020-02-24|released|\n",
            "|1000000006|female|50s|  Korea|   Seoul|   Jongno-gu|contact with patient| 1000000003|            43|              NULL|    2020-01-31|   2020-02-19|   2020-02-19|released|\n",
            "|1000000007|  male|20s|  Korea|   Seoul|   Jongno-gu|contact with patient| 1000000003|             0|              NULL|    2020-01-31|   2020-02-10|   2020-02-10|released|\n",
            "|1000000008|  male|20s|  Korea|   Seoul|         etc|     overseas inflow|       NULL|             0|              NULL|    2020-02-02|   2020-02-24|   2020-02-24|released|\n",
            "|1000000009|  male|30s|  Korea|   Seoul|   Songpa-gu|     overseas inflow|       NULL|            68|              NULL|    2020-02-05|   2020-02-21|   2020-02-21|released|\n",
            "|1000000010|female|60s|  Korea|   Seoul| Seongbuk-gu|contact with patient| 1000000003|             6|              NULL|    2020-02-05|   2020-02-29|   2020-02-29|released|\n",
            "|1000000011|female|50s|  China|   Seoul|Seodaemun-gu|     overseas inflow|       NULL|            23|              NULL|    2020-02-06|   2020-02-29|   2020-02-29|released|\n",
            "|1000000012|  male|20s|  Korea|   Seoul|         etc|     overseas inflow|       NULL|             0|              NULL|    2020-02-07|   2020-02-27|   2020-02-27|released|\n",
            "|1000000013|  male|80s|  Korea|   Seoul|   Jongno-gu|contact with patient| 1000000017|           117|              NULL|    2020-02-16|         NULL|         NULL|deceased|\n",
            "|1000000014|female|60s|  Korea|   Seoul|   Jongno-gu|contact with patient| 1000000013|            27|        2020-02-06|    2020-02-16|   2020-03-12|   2020-03-12|released|\n",
            "|1000000015|  male|70s|  Korea|   Seoul|Seongdong-gu|    Seongdong-gu APT|       NULL|             8|        2020-02-11|    2020-02-19|         NULL|         NULL|released|\n",
            "|1000000016|  male|70s|  Korea|   Seoul|   Jongno-gu|contact with patient| 1000000017|          NULL|              NULL|    2020-02-19|   2020-03-11|   2020-03-11|released|\n",
            "|1000000017|  male|70s|  Korea|   Seoul|   Jongno-gu|contact with patient| 1000000003|          NULL|              NULL|    2020-02-20|   2020-03-01|   2020-03-01|released|\n",
            "|1000000018|  male|20s|  Korea|   Seoul|         etc|                 etc|       NULL|          NULL|              NULL|    2020-02-20|         NULL|         NULL|released|\n",
            "|1000000019|female|70s|  Korea|   Seoul|   Jongno-gu|contact with patient| 1000000021|          NULL|              NULL|    2020-02-20|   2020-03-08|   2020-03-08|released|\n",
            "|1000000020|female|70s|  Korea|   Seoul|Seongdong-gu|    Seongdong-gu APT| 1000000015|          NULL|              NULL|    2020-02-20|         NULL|         NULL|released|\n",
            "+----------+------+---+-------+--------+------------+--------------------+-----------+--------------+------------------+--------------+-------------+-------------+--------+\n",
            "only showing top 20 rows\n",
            "\n"
          ]
        }
      ],
      "source": [
        "df_deceased= df.withColumn(\"deceased_date\",F.coalesce(df['deceased_date'],df['released_date']))\n",
        "df_deceased.show()"
      ]
    },
    {
      "cell_type": "markdown",
      "id": "4ec324f5",
      "metadata": {
        "id": "4ec324f5"
      },
      "source": [
        "### Add a column named no_days which is difference between the deceased_date and the confirmed_date then show the top 5 rows. Print the schema.\n",
        "- <b> Hint: You need to typecast these columns as date first <b>"
      ]
    },
    {
      "cell_type": "code",
      "execution_count": 11,
      "id": "YTY_2HfTIBvw",
      "metadata": {
        "colab": {
          "base_uri": "https://localhost:8080/"
        },
        "id": "YTY_2HfTIBvw",
        "outputId": "2550e178-2490-4023-e6b3-0180ddb17e6d"
      },
      "outputs": [
        {
          "name": "stdout",
          "output_type": "stream",
          "text": [
            "root\n",
            " |-- patient_id: long (nullable = true)\n",
            " |-- sex: string (nullable = true)\n",
            " |-- age: string (nullable = true)\n",
            " |-- country: string (nullable = true)\n",
            " |-- province: string (nullable = true)\n",
            " |-- city: string (nullable = true)\n",
            " |-- infection_case: string (nullable = true)\n",
            " |-- infected_by: string (nullable = true)\n",
            " |-- contact_number: string (nullable = true)\n",
            " |-- symptom_onset_date: string (nullable = true)\n",
            " |-- confirmed_date: date (nullable = true)\n",
            " |-- released_date: date (nullable = true)\n",
            " |-- deceased_date: date (nullable = true)\n",
            " |-- state: string (nullable = true)\n",
            "\n"
          ]
        }
      ],
      "source": [
        "df_deceased.printSchema()"
      ]
    },
    {
      "cell_type": "code",
      "execution_count": null,
      "id": "c3SXg01IITF3",
      "metadata": {
        "id": "c3SXg01IITF3"
      },
      "outputs": [],
      "source": []
    },
    {
      "cell_type": "code",
      "execution_count": 12,
      "id": "d065e472",
      "metadata": {
        "colab": {
          "base_uri": "https://localhost:8080/"
        },
        "id": "d065e472",
        "outputId": "fea46470-a916-4664-9c47-54f9543cc86b"
      },
      "outputs": [
        {
          "name": "stdout",
          "output_type": "stream",
          "text": [
            "+----------+------+---+-------+--------+-----------+--------------------+-----------+--------------+------------------+--------------+-------------+-------------+--------+-------+\n",
            "|patient_id|   sex|age|country|province|       city|      infection_case|infected_by|contact_number|symptom_onset_date|confirmed_date|released_date|deceased_date|   state|no_days|\n",
            "+----------+------+---+-------+--------+-----------+--------------------+-----------+--------------+------------------+--------------+-------------+-------------+--------+-------+\n",
            "|1000000001|  male|50s|  Korea|   Seoul| Gangseo-gu|     overseas inflow|       NULL|            75|        2020-01-22|    2020-01-23|   2020-02-05|   2020-02-05|released|     13|\n",
            "|1000000002|  male|30s|  Korea|   Seoul|Jungnang-gu|     overseas inflow|       NULL|            31|              NULL|    2020-01-30|   2020-03-02|   2020-03-02|released|     32|\n",
            "|1000000003|  male|50s|  Korea|   Seoul|  Jongno-gu|contact with patient| 2002000001|            17|              NULL|    2020-01-30|   2020-02-19|   2020-02-19|released|     20|\n",
            "|1000000004|  male|20s|  Korea|   Seoul|    Mapo-gu|     overseas inflow|       NULL|             9|        2020-01-26|    2020-01-30|   2020-02-15|   2020-02-15|released|     16|\n",
            "|1000000005|female|20s|  Korea|   Seoul|Seongbuk-gu|contact with patient| 1000000002|             2|              NULL|    2020-01-31|   2020-02-24|   2020-02-24|released|     24|\n",
            "+----------+------+---+-------+--------+-----------+--------------------+-----------+--------------+------------------+--------------+-------------+-------------+--------+-------+\n",
            "only showing top 5 rows\n",
            "\n"
          ]
        }
      ],
      "source": [
        "df_with_difference=df_deceased.withColumn(\"no_days\",F.datediff(df_deceased['deceased_date'],\n",
        "                                                                                   df_deceased['confirmed_date']\n",
        "                                                                                   ))\n",
        "df_with_difference.show(5)"
      ]
    },
    {
      "cell_type": "markdown",
      "id": "967b2466",
      "metadata": {
        "id": "967b2466"
      },
      "source": [
        "### Remove null values of sex column.\n",
        "### Add a is_male column if male then it should yield true, else (Female) then False"
      ]
    },
    {
      "cell_type": "code",
      "execution_count": 13,
      "id": "HAAT0FFyLYqY",
      "metadata": {
        "colab": {
          "base_uri": "https://localhost:8080/"
        },
        "id": "HAAT0FFyLYqY",
        "outputId": "71562f17-2126-4005-9ccf-c74c64ff6766"
      },
      "outputs": [
        {
          "name": "stdout",
          "output_type": "stream",
          "text": [
            "+----------+------+---+-------+--------+------------+--------------------+-----------+--------------+------------------+--------------+-------------+-------------+--------+-------+\n",
            "|patient_id|   sex|age|country|province|        city|      infection_case|infected_by|contact_number|symptom_onset_date|confirmed_date|released_date|deceased_date|   state|no_days|\n",
            "+----------+------+---+-------+--------+------------+--------------------+-----------+--------------+------------------+--------------+-------------+-------------+--------+-------+\n",
            "|1000000001|  male|50s|  Korea|   Seoul|  Gangseo-gu|     overseas inflow|       NULL|            75|        2020-01-22|    2020-01-23|   2020-02-05|   2020-02-05|released|     13|\n",
            "|1000000002|  male|30s|  Korea|   Seoul| Jungnang-gu|     overseas inflow|       NULL|            31|              NULL|    2020-01-30|   2020-03-02|   2020-03-02|released|     32|\n",
            "|1000000003|  male|50s|  Korea|   Seoul|   Jongno-gu|contact with patient| 2002000001|            17|              NULL|    2020-01-30|   2020-02-19|   2020-02-19|released|     20|\n",
            "|1000000004|  male|20s|  Korea|   Seoul|     Mapo-gu|     overseas inflow|       NULL|             9|        2020-01-26|    2020-01-30|   2020-02-15|   2020-02-15|released|     16|\n",
            "|1000000005|female|20s|  Korea|   Seoul| Seongbuk-gu|contact with patient| 1000000002|             2|              NULL|    2020-01-31|   2020-02-24|   2020-02-24|released|     24|\n",
            "|1000000006|female|50s|  Korea|   Seoul|   Jongno-gu|contact with patient| 1000000003|            43|              NULL|    2020-01-31|   2020-02-19|   2020-02-19|released|     19|\n",
            "|1000000007|  male|20s|  Korea|   Seoul|   Jongno-gu|contact with patient| 1000000003|             0|              NULL|    2020-01-31|   2020-02-10|   2020-02-10|released|     10|\n",
            "|1000000008|  male|20s|  Korea|   Seoul|         etc|     overseas inflow|       NULL|             0|              NULL|    2020-02-02|   2020-02-24|   2020-02-24|released|     22|\n",
            "|1000000009|  male|30s|  Korea|   Seoul|   Songpa-gu|     overseas inflow|       NULL|            68|              NULL|    2020-02-05|   2020-02-21|   2020-02-21|released|     16|\n",
            "|1000000010|female|60s|  Korea|   Seoul| Seongbuk-gu|contact with patient| 1000000003|             6|              NULL|    2020-02-05|   2020-02-29|   2020-02-29|released|     24|\n",
            "|1000000011|female|50s|  China|   Seoul|Seodaemun-gu|     overseas inflow|       NULL|            23|              NULL|    2020-02-06|   2020-02-29|   2020-02-29|released|     23|\n",
            "|1000000012|  male|20s|  Korea|   Seoul|         etc|     overseas inflow|       NULL|             0|              NULL|    2020-02-07|   2020-02-27|   2020-02-27|released|     20|\n",
            "|1000000013|  male|80s|  Korea|   Seoul|   Jongno-gu|contact with patient| 1000000017|           117|              NULL|    2020-02-16|         NULL|         NULL|deceased|   NULL|\n",
            "|1000000014|female|60s|  Korea|   Seoul|   Jongno-gu|contact with patient| 1000000013|            27|        2020-02-06|    2020-02-16|   2020-03-12|   2020-03-12|released|     25|\n",
            "|1000000015|  male|70s|  Korea|   Seoul|Seongdong-gu|    Seongdong-gu APT|       NULL|             8|        2020-02-11|    2020-02-19|         NULL|         NULL|released|   NULL|\n",
            "|1000000016|  male|70s|  Korea|   Seoul|   Jongno-gu|contact with patient| 1000000017|          NULL|              NULL|    2020-02-19|   2020-03-11|   2020-03-11|released|     21|\n",
            "|1000000017|  male|70s|  Korea|   Seoul|   Jongno-gu|contact with patient| 1000000003|          NULL|              NULL|    2020-02-20|   2020-03-01|   2020-03-01|released|     10|\n",
            "|1000000018|  male|20s|  Korea|   Seoul|         etc|                 etc|       NULL|          NULL|              NULL|    2020-02-20|         NULL|         NULL|released|   NULL|\n",
            "|1000000019|female|70s|  Korea|   Seoul|   Jongno-gu|contact with patient| 1000000021|          NULL|              NULL|    2020-02-20|   2020-03-08|   2020-03-08|released|     17|\n",
            "|1000000020|female|70s|  Korea|   Seoul|Seongdong-gu|    Seongdong-gu APT| 1000000015|          NULL|              NULL|    2020-02-20|         NULL|         NULL|released|   NULL|\n",
            "+----------+------+---+-------+--------+------------+--------------------+-----------+--------------+------------------+--------------+-------------+-------------+--------+-------+\n",
            "only showing top 20 rows\n",
            "\n"
          ]
        }
      ],
      "source": [
        "df4=df_with_difference.filter(df_with_difference['sex'].isNotNull())\n",
        "df4.show()"
      ]
    },
    {
      "cell_type": "code",
      "execution_count": null,
      "id": "UIwp0kUMLzZ3",
      "metadata": {
        "id": "UIwp0kUMLzZ3"
      },
      "outputs": [],
      "source": []
    },
    {
      "cell_type": "code",
      "execution_count": 14,
      "id": "8efe03b5",
      "metadata": {
        "colab": {
          "base_uri": "https://localhost:8080/"
        },
        "id": "8efe03b5",
        "outputId": "8d0df7f5-74c2-4718-aefe-e9da688d2458"
      },
      "outputs": [
        {
          "name": "stdout",
          "output_type": "stream",
          "text": [
            "+----------+------+---+-------+--------+------------+--------------------+-----------+--------------+------------------+--------------+-------------+-------------+--------+-------+-------+\n",
            "|patient_id|   sex|age|country|province|        city|      infection_case|infected_by|contact_number|symptom_onset_date|confirmed_date|released_date|deceased_date|   state|no_days|is_male|\n",
            "+----------+------+---+-------+--------+------------+--------------------+-----------+--------------+------------------+--------------+-------------+-------------+--------+-------+-------+\n",
            "|1000000001|  male|50s|  Korea|   Seoul|  Gangseo-gu|     overseas inflow|       NULL|            75|        2020-01-22|    2020-01-23|   2020-02-05|   2020-02-05|released|     13|   True|\n",
            "|1000000002|  male|30s|  Korea|   Seoul| Jungnang-gu|     overseas inflow|       NULL|            31|              NULL|    2020-01-30|   2020-03-02|   2020-03-02|released|     32|   True|\n",
            "|1000000003|  male|50s|  Korea|   Seoul|   Jongno-gu|contact with patient| 2002000001|            17|              NULL|    2020-01-30|   2020-02-19|   2020-02-19|released|     20|   True|\n",
            "|1000000004|  male|20s|  Korea|   Seoul|     Mapo-gu|     overseas inflow|       NULL|             9|        2020-01-26|    2020-01-30|   2020-02-15|   2020-02-15|released|     16|   True|\n",
            "|1000000005|female|20s|  Korea|   Seoul| Seongbuk-gu|contact with patient| 1000000002|             2|              NULL|    2020-01-31|   2020-02-24|   2020-02-24|released|     24| Female|\n",
            "|1000000006|female|50s|  Korea|   Seoul|   Jongno-gu|contact with patient| 1000000003|            43|              NULL|    2020-01-31|   2020-02-19|   2020-02-19|released|     19| Female|\n",
            "|1000000007|  male|20s|  Korea|   Seoul|   Jongno-gu|contact with patient| 1000000003|             0|              NULL|    2020-01-31|   2020-02-10|   2020-02-10|released|     10|   True|\n",
            "|1000000008|  male|20s|  Korea|   Seoul|         etc|     overseas inflow|       NULL|             0|              NULL|    2020-02-02|   2020-02-24|   2020-02-24|released|     22|   True|\n",
            "|1000000009|  male|30s|  Korea|   Seoul|   Songpa-gu|     overseas inflow|       NULL|            68|              NULL|    2020-02-05|   2020-02-21|   2020-02-21|released|     16|   True|\n",
            "|1000000010|female|60s|  Korea|   Seoul| Seongbuk-gu|contact with patient| 1000000003|             6|              NULL|    2020-02-05|   2020-02-29|   2020-02-29|released|     24| Female|\n",
            "|1000000011|female|50s|  China|   Seoul|Seodaemun-gu|     overseas inflow|       NULL|            23|              NULL|    2020-02-06|   2020-02-29|   2020-02-29|released|     23| Female|\n",
            "|1000000012|  male|20s|  Korea|   Seoul|         etc|     overseas inflow|       NULL|             0|              NULL|    2020-02-07|   2020-02-27|   2020-02-27|released|     20|   True|\n",
            "|1000000013|  male|80s|  Korea|   Seoul|   Jongno-gu|contact with patient| 1000000017|           117|              NULL|    2020-02-16|         NULL|         NULL|deceased|   NULL|   True|\n",
            "|1000000014|female|60s|  Korea|   Seoul|   Jongno-gu|contact with patient| 1000000013|            27|        2020-02-06|    2020-02-16|   2020-03-12|   2020-03-12|released|     25| Female|\n",
            "|1000000015|  male|70s|  Korea|   Seoul|Seongdong-gu|    Seongdong-gu APT|       NULL|             8|        2020-02-11|    2020-02-19|         NULL|         NULL|released|   NULL|   True|\n",
            "|1000000016|  male|70s|  Korea|   Seoul|   Jongno-gu|contact with patient| 1000000017|          NULL|              NULL|    2020-02-19|   2020-03-11|   2020-03-11|released|     21|   True|\n",
            "|1000000017|  male|70s|  Korea|   Seoul|   Jongno-gu|contact with patient| 1000000003|          NULL|              NULL|    2020-02-20|   2020-03-01|   2020-03-01|released|     10|   True|\n",
            "|1000000018|  male|20s|  Korea|   Seoul|         etc|                 etc|       NULL|          NULL|              NULL|    2020-02-20|         NULL|         NULL|released|   NULL|   True|\n",
            "|1000000019|female|70s|  Korea|   Seoul|   Jongno-gu|contact with patient| 1000000021|          NULL|              NULL|    2020-02-20|   2020-03-08|   2020-03-08|released|     17| Female|\n",
            "|1000000020|female|70s|  Korea|   Seoul|Seongdong-gu|    Seongdong-gu APT| 1000000015|          NULL|              NULL|    2020-02-20|         NULL|         NULL|released|   NULL| Female|\n",
            "+----------+------+---+-------+--------+------------+--------------------+-----------+--------------+------------------+--------------+-------------+-------------+--------+-------+-------+\n",
            "only showing top 20 rows\n",
            "\n"
          ]
        }
      ],
      "source": [
        "df_male=df4.withColumn(\"is_male\",F.when(df4['sex']=='male','True').otherwise('Female'))\n",
        "df_male.show()"
      ]
    },
    {
      "cell_type": "code",
      "execution_count": null,
      "id": "t66qUWhxN3kV",
      "metadata": {
        "id": "t66qUWhxN3kV"
      },
      "outputs": [],
      "source": []
    },
    {
      "cell_type": "markdown",
      "id": "8603d7c0",
      "metadata": {
        "id": "8603d7c0"
      },
      "source": [
        "### Add a is_dead column if patient state is not released then it should yield true, else then False\n",
        "\n",
        "- Use <b>UDF</b> to perform this task.\n",
        "- However, UDF is not recommended there is no built in function can do the required operation.\n",
        "- UDF is slower than built in functions."
      ]
    },
    {
      "cell_type": "code",
      "execution_count": 15,
      "id": "0xLCxnYxQ901",
      "metadata": {
        "id": "0xLCxnYxQ901"
      },
      "outputs": [],
      "source": [
        "import pyspark.sql.functions as F"
      ]
    },
    {
      "cell_type": "code",
      "execution_count": 16,
      "id": "_uRBjjQxQwrT",
      "metadata": {
        "id": "_uRBjjQxQwrT"
      },
      "outputs": [],
      "source": [
        "def is_state(state):\n",
        "  if state!='released':\n",
        "    return True\n",
        "  else:\n",
        "    return False"
      ]
    },
    {
      "cell_type": "code",
      "execution_count": 17,
      "id": "d3343075",
      "metadata": {
        "colab": {
          "base_uri": "https://localhost:8080/"
        },
        "id": "d3343075",
        "outputId": "e3f28845-ab90-4d35-e191-63593eac4f58"
      },
      "outputs": [
        {
          "name": "stdout",
          "output_type": "stream",
          "text": [
            "+----------+------+---+-------+--------+------------+--------------------+-----------+--------------+------------------+--------------+-------------+-------------+--------+-------+-------+-------+\n",
            "|patient_id|   sex|age|country|province|        city|      infection_case|infected_by|contact_number|symptom_onset_date|confirmed_date|released_date|deceased_date|   state|no_days|is_male|is_dead|\n",
            "+----------+------+---+-------+--------+------------+--------------------+-----------+--------------+------------------+--------------+-------------+-------------+--------+-------+-------+-------+\n",
            "|1000000001|  male|50s|  Korea|   Seoul|  Gangseo-gu|     overseas inflow|       NULL|            75|        2020-01-22|    2020-01-23|   2020-02-05|   2020-02-05|released|     13|   True|  false|\n",
            "|1000000002|  male|30s|  Korea|   Seoul| Jungnang-gu|     overseas inflow|       NULL|            31|              NULL|    2020-01-30|   2020-03-02|   2020-03-02|released|     32|   True|  false|\n",
            "|1000000003|  male|50s|  Korea|   Seoul|   Jongno-gu|contact with patient| 2002000001|            17|              NULL|    2020-01-30|   2020-02-19|   2020-02-19|released|     20|   True|  false|\n",
            "|1000000004|  male|20s|  Korea|   Seoul|     Mapo-gu|     overseas inflow|       NULL|             9|        2020-01-26|    2020-01-30|   2020-02-15|   2020-02-15|released|     16|   True|  false|\n",
            "|1000000005|female|20s|  Korea|   Seoul| Seongbuk-gu|contact with patient| 1000000002|             2|              NULL|    2020-01-31|   2020-02-24|   2020-02-24|released|     24| Female|  false|\n",
            "|1000000006|female|50s|  Korea|   Seoul|   Jongno-gu|contact with patient| 1000000003|            43|              NULL|    2020-01-31|   2020-02-19|   2020-02-19|released|     19| Female|  false|\n",
            "|1000000007|  male|20s|  Korea|   Seoul|   Jongno-gu|contact with patient| 1000000003|             0|              NULL|    2020-01-31|   2020-02-10|   2020-02-10|released|     10|   True|  false|\n",
            "|1000000008|  male|20s|  Korea|   Seoul|         etc|     overseas inflow|       NULL|             0|              NULL|    2020-02-02|   2020-02-24|   2020-02-24|released|     22|   True|  false|\n",
            "|1000000009|  male|30s|  Korea|   Seoul|   Songpa-gu|     overseas inflow|       NULL|            68|              NULL|    2020-02-05|   2020-02-21|   2020-02-21|released|     16|   True|  false|\n",
            "|1000000010|female|60s|  Korea|   Seoul| Seongbuk-gu|contact with patient| 1000000003|             6|              NULL|    2020-02-05|   2020-02-29|   2020-02-29|released|     24| Female|  false|\n",
            "|1000000011|female|50s|  China|   Seoul|Seodaemun-gu|     overseas inflow|       NULL|            23|              NULL|    2020-02-06|   2020-02-29|   2020-02-29|released|     23| Female|  false|\n",
            "|1000000012|  male|20s|  Korea|   Seoul|         etc|     overseas inflow|       NULL|             0|              NULL|    2020-02-07|   2020-02-27|   2020-02-27|released|     20|   True|  false|\n",
            "|1000000013|  male|80s|  Korea|   Seoul|   Jongno-gu|contact with patient| 1000000017|           117|              NULL|    2020-02-16|         NULL|         NULL|deceased|   NULL|   True|   true|\n",
            "|1000000014|female|60s|  Korea|   Seoul|   Jongno-gu|contact with patient| 1000000013|            27|        2020-02-06|    2020-02-16|   2020-03-12|   2020-03-12|released|     25| Female|  false|\n",
            "|1000000015|  male|70s|  Korea|   Seoul|Seongdong-gu|    Seongdong-gu APT|       NULL|             8|        2020-02-11|    2020-02-19|         NULL|         NULL|released|   NULL|   True|  false|\n",
            "|1000000016|  male|70s|  Korea|   Seoul|   Jongno-gu|contact with patient| 1000000017|          NULL|              NULL|    2020-02-19|   2020-03-11|   2020-03-11|released|     21|   True|  false|\n",
            "|1000000017|  male|70s|  Korea|   Seoul|   Jongno-gu|contact with patient| 1000000003|          NULL|              NULL|    2020-02-20|   2020-03-01|   2020-03-01|released|     10|   True|  false|\n",
            "|1000000018|  male|20s|  Korea|   Seoul|         etc|                 etc|       NULL|          NULL|              NULL|    2020-02-20|         NULL|         NULL|released|   NULL|   True|  false|\n",
            "|1000000019|female|70s|  Korea|   Seoul|   Jongno-gu|contact with patient| 1000000021|          NULL|              NULL|    2020-02-20|   2020-03-08|   2020-03-08|released|     17| Female|  false|\n",
            "|1000000020|female|70s|  Korea|   Seoul|Seongdong-gu|    Seongdong-gu APT| 1000000015|          NULL|              NULL|    2020-02-20|         NULL|         NULL|released|   NULL| Female|  false|\n",
            "+----------+------+---+-------+--------+------------+--------------------+-----------+--------------+------------------+--------------+-------------+-------------+--------+-------+-------+-------+\n",
            "only showing top 20 rows\n",
            "\n"
          ]
        }
      ],
      "source": [
        "df_dead=df_male.withColumn(\"is_dead\",F.udf(is_state)(df_male['state']))\n",
        "df_dead.show()"
      ]
    },
    {
      "cell_type": "markdown",
      "id": "e15264a9",
      "metadata": {
        "id": "e15264a9"
      },
      "source": [
        "### Change the ages to bins from 10s, 0s, 10s, 20s,.etc to 0,10, 20"
      ]
    },
    {
      "cell_type": "code",
      "execution_count": 18,
      "id": "7a2b57ed",
      "metadata": {
        "colab": {
          "base_uri": "https://localhost:8080/"
        },
        "id": "7a2b57ed",
        "outputId": "f8b2a55e-3d5f-47a7-cf59-15e52b317651"
      },
      "outputs": [
        {
          "name": "stdout",
          "output_type": "stream",
          "text": [
            "+----------+------+---+-------+--------+------------+--------------------+-----------+--------------+------------------+--------------+-------------+-------------+--------+-------+-------+-------+\n",
            "|patient_id|   sex|age|country|province|        city|      infection_case|infected_by|contact_number|symptom_onset_date|confirmed_date|released_date|deceased_date|   state|no_days|is_male|is_dead|\n",
            "+----------+------+---+-------+--------+------------+--------------------+-----------+--------------+------------------+--------------+-------------+-------------+--------+-------+-------+-------+\n",
            "|1000000001|  male| 50|  Korea|   Seoul|  Gangseo-gu|     overseas inflow|       NULL|            75|        2020-01-22|    2020-01-23|   2020-02-05|   2020-02-05|released|     13|   True|  false|\n",
            "|1000000002|  male| 30|  Korea|   Seoul| Jungnang-gu|     overseas inflow|       NULL|            31|              NULL|    2020-01-30|   2020-03-02|   2020-03-02|released|     32|   True|  false|\n",
            "|1000000003|  male| 50|  Korea|   Seoul|   Jongno-gu|contact with patient| 2002000001|            17|              NULL|    2020-01-30|   2020-02-19|   2020-02-19|released|     20|   True|  false|\n",
            "|1000000004|  male| 20|  Korea|   Seoul|     Mapo-gu|     overseas inflow|       NULL|             9|        2020-01-26|    2020-01-30|   2020-02-15|   2020-02-15|released|     16|   True|  false|\n",
            "|1000000005|female| 20|  Korea|   Seoul| Seongbuk-gu|contact with patient| 1000000002|             2|              NULL|    2020-01-31|   2020-02-24|   2020-02-24|released|     24| Female|  false|\n",
            "|1000000006|female| 50|  Korea|   Seoul|   Jongno-gu|contact with patient| 1000000003|            43|              NULL|    2020-01-31|   2020-02-19|   2020-02-19|released|     19| Female|  false|\n",
            "|1000000007|  male| 20|  Korea|   Seoul|   Jongno-gu|contact with patient| 1000000003|             0|              NULL|    2020-01-31|   2020-02-10|   2020-02-10|released|     10|   True|  false|\n",
            "|1000000008|  male| 20|  Korea|   Seoul|         etc|     overseas inflow|       NULL|             0|              NULL|    2020-02-02|   2020-02-24|   2020-02-24|released|     22|   True|  false|\n",
            "|1000000009|  male| 30|  Korea|   Seoul|   Songpa-gu|     overseas inflow|       NULL|            68|              NULL|    2020-02-05|   2020-02-21|   2020-02-21|released|     16|   True|  false|\n",
            "|1000000010|female| 60|  Korea|   Seoul| Seongbuk-gu|contact with patient| 1000000003|             6|              NULL|    2020-02-05|   2020-02-29|   2020-02-29|released|     24| Female|  false|\n",
            "|1000000011|female| 50|  China|   Seoul|Seodaemun-gu|     overseas inflow|       NULL|            23|              NULL|    2020-02-06|   2020-02-29|   2020-02-29|released|     23| Female|  false|\n",
            "|1000000012|  male| 20|  Korea|   Seoul|         etc|     overseas inflow|       NULL|             0|              NULL|    2020-02-07|   2020-02-27|   2020-02-27|released|     20|   True|  false|\n",
            "|1000000013|  male| 80|  Korea|   Seoul|   Jongno-gu|contact with patient| 1000000017|           117|              NULL|    2020-02-16|         NULL|         NULL|deceased|   NULL|   True|   true|\n",
            "|1000000014|female| 60|  Korea|   Seoul|   Jongno-gu|contact with patient| 1000000013|            27|        2020-02-06|    2020-02-16|   2020-03-12|   2020-03-12|released|     25| Female|  false|\n",
            "|1000000015|  male| 70|  Korea|   Seoul|Seongdong-gu|    Seongdong-gu APT|       NULL|             8|        2020-02-11|    2020-02-19|         NULL|         NULL|released|   NULL|   True|  false|\n",
            "|1000000016|  male| 70|  Korea|   Seoul|   Jongno-gu|contact with patient| 1000000017|          NULL|              NULL|    2020-02-19|   2020-03-11|   2020-03-11|released|     21|   True|  false|\n",
            "|1000000017|  male| 70|  Korea|   Seoul|   Jongno-gu|contact with patient| 1000000003|          NULL|              NULL|    2020-02-20|   2020-03-01|   2020-03-01|released|     10|   True|  false|\n",
            "|1000000018|  male| 20|  Korea|   Seoul|         etc|                 etc|       NULL|          NULL|              NULL|    2020-02-20|         NULL|         NULL|released|   NULL|   True|  false|\n",
            "|1000000019|female| 70|  Korea|   Seoul|   Jongno-gu|contact with patient| 1000000021|          NULL|              NULL|    2020-02-20|   2020-03-08|   2020-03-08|released|     17| Female|  false|\n",
            "|1000000020|female| 70|  Korea|   Seoul|Seongdong-gu|    Seongdong-gu APT| 1000000015|          NULL|              NULL|    2020-02-20|         NULL|         NULL|released|   NULL| Female|  false|\n",
            "+----------+------+---+-------+--------+------------+--------------------+-----------+--------------+------------------+--------------+-------------+-------------+--------+-------+-------+-------+\n",
            "only showing top 20 rows\n",
            "\n"
          ]
        }
      ],
      "source": [
        "df_with_bins=df_dead.withColumn(\"age\",F.regexp_replace(df_dead['age'],'s',''))\n",
        "df_with_bins.show()"
      ]
    },
    {
      "cell_type": "markdown",
      "id": "43cdf846",
      "metadata": {
        "id": "43cdf846"
      },
      "source": [
        "### Change age, and no_days  to be typecasted as Double"
      ]
    },
    {
      "cell_type": "code",
      "execution_count": 19,
      "id": "dfea7fcb",
      "metadata": {
        "colab": {
          "base_uri": "https://localhost:8080/"
        },
        "id": "dfea7fcb",
        "outputId": "adf75a0b-edfc-41dc-fe2d-83f7e84fea42"
      },
      "outputs": [
        {
          "name": "stdout",
          "output_type": "stream",
          "text": [
            "+----------+------+----+-------+--------+------------+--------------------+-----------+--------------+------------------+--------------+-------------+-------------+--------+-------+-------+-------+\n",
            "|patient_id|   sex| age|country|province|        city|      infection_case|infected_by|contact_number|symptom_onset_date|confirmed_date|released_date|deceased_date|   state|no_days|is_male|is_dead|\n",
            "+----------+------+----+-------+--------+------------+--------------------+-----------+--------------+------------------+--------------+-------------+-------------+--------+-------+-------+-------+\n",
            "|1000000001|  male|50.0|  Korea|   Seoul|  Gangseo-gu|     overseas inflow|       NULL|            75|        2020-01-22|    2020-01-23|   2020-02-05|   2020-02-05|released|     13|   True|  false|\n",
            "|1000000002|  male|30.0|  Korea|   Seoul| Jungnang-gu|     overseas inflow|       NULL|            31|              NULL|    2020-01-30|   2020-03-02|   2020-03-02|released|     32|   True|  false|\n",
            "|1000000003|  male|50.0|  Korea|   Seoul|   Jongno-gu|contact with patient| 2002000001|            17|              NULL|    2020-01-30|   2020-02-19|   2020-02-19|released|     20|   True|  false|\n",
            "|1000000004|  male|20.0|  Korea|   Seoul|     Mapo-gu|     overseas inflow|       NULL|             9|        2020-01-26|    2020-01-30|   2020-02-15|   2020-02-15|released|     16|   True|  false|\n",
            "|1000000005|female|20.0|  Korea|   Seoul| Seongbuk-gu|contact with patient| 1000000002|             2|              NULL|    2020-01-31|   2020-02-24|   2020-02-24|released|     24| Female|  false|\n",
            "|1000000006|female|50.0|  Korea|   Seoul|   Jongno-gu|contact with patient| 1000000003|            43|              NULL|    2020-01-31|   2020-02-19|   2020-02-19|released|     19| Female|  false|\n",
            "|1000000007|  male|20.0|  Korea|   Seoul|   Jongno-gu|contact with patient| 1000000003|             0|              NULL|    2020-01-31|   2020-02-10|   2020-02-10|released|     10|   True|  false|\n",
            "|1000000008|  male|20.0|  Korea|   Seoul|         etc|     overseas inflow|       NULL|             0|              NULL|    2020-02-02|   2020-02-24|   2020-02-24|released|     22|   True|  false|\n",
            "|1000000009|  male|30.0|  Korea|   Seoul|   Songpa-gu|     overseas inflow|       NULL|            68|              NULL|    2020-02-05|   2020-02-21|   2020-02-21|released|     16|   True|  false|\n",
            "|1000000010|female|60.0|  Korea|   Seoul| Seongbuk-gu|contact with patient| 1000000003|             6|              NULL|    2020-02-05|   2020-02-29|   2020-02-29|released|     24| Female|  false|\n",
            "|1000000011|female|50.0|  China|   Seoul|Seodaemun-gu|     overseas inflow|       NULL|            23|              NULL|    2020-02-06|   2020-02-29|   2020-02-29|released|     23| Female|  false|\n",
            "|1000000012|  male|20.0|  Korea|   Seoul|         etc|     overseas inflow|       NULL|             0|              NULL|    2020-02-07|   2020-02-27|   2020-02-27|released|     20|   True|  false|\n",
            "|1000000013|  male|80.0|  Korea|   Seoul|   Jongno-gu|contact with patient| 1000000017|           117|              NULL|    2020-02-16|         NULL|         NULL|deceased|   NULL|   True|   true|\n",
            "|1000000014|female|60.0|  Korea|   Seoul|   Jongno-gu|contact with patient| 1000000013|            27|        2020-02-06|    2020-02-16|   2020-03-12|   2020-03-12|released|     25| Female|  false|\n",
            "|1000000015|  male|70.0|  Korea|   Seoul|Seongdong-gu|    Seongdong-gu APT|       NULL|             8|        2020-02-11|    2020-02-19|         NULL|         NULL|released|   NULL|   True|  false|\n",
            "|1000000016|  male|70.0|  Korea|   Seoul|   Jongno-gu|contact with patient| 1000000017|          NULL|              NULL|    2020-02-19|   2020-03-11|   2020-03-11|released|     21|   True|  false|\n",
            "|1000000017|  male|70.0|  Korea|   Seoul|   Jongno-gu|contact with patient| 1000000003|          NULL|              NULL|    2020-02-20|   2020-03-01|   2020-03-01|released|     10|   True|  false|\n",
            "|1000000018|  male|20.0|  Korea|   Seoul|         etc|                 etc|       NULL|          NULL|              NULL|    2020-02-20|         NULL|         NULL|released|   NULL|   True|  false|\n",
            "|1000000019|female|70.0|  Korea|   Seoul|   Jongno-gu|contact with patient| 1000000021|          NULL|              NULL|    2020-02-20|   2020-03-08|   2020-03-08|released|     17| Female|  false|\n",
            "|1000000020|female|70.0|  Korea|   Seoul|Seongdong-gu|    Seongdong-gu APT| 1000000015|          NULL|              NULL|    2020-02-20|         NULL|         NULL|released|   NULL| Female|  false|\n",
            "+----------+------+----+-------+--------+------------+--------------------+-----------+--------------+------------------+--------------+-------------+-------------+--------+-------+-------+-------+\n",
            "only showing top 20 rows\n",
            "\n"
          ]
        }
      ],
      "source": [
        "df_change=df_with_bins.withColumn(\"age\",df_with_bins['age'].cast(\"double\"))\n",
        "df_change.show()"
      ]
    },
    {
      "cell_type": "code",
      "execution_count": 20,
      "id": "k_BrV3wnS1dQ",
      "metadata": {
        "colab": {
          "base_uri": "https://localhost:8080/"
        },
        "id": "k_BrV3wnS1dQ",
        "outputId": "9e6b1c92-a067-487f-e405-6fa0caadc5ae"
      },
      "outputs": [
        {
          "name": "stdout",
          "output_type": "stream",
          "text": [
            "+----------+------+----+-------+--------+------------+--------------------+-----------+--------------+------------------+--------------+-------------+-------------+--------+-------+-------+-------+\n",
            "|patient_id|   sex| age|country|province|        city|      infection_case|infected_by|contact_number|symptom_onset_date|confirmed_date|released_date|deceased_date|   state|no_days|is_male|is_dead|\n",
            "+----------+------+----+-------+--------+------------+--------------------+-----------+--------------+------------------+--------------+-------------+-------------+--------+-------+-------+-------+\n",
            "|1000000001|  male|50.0|  Korea|   Seoul|  Gangseo-gu|     overseas inflow|       NULL|            75|        2020-01-22|    2020-01-23|   2020-02-05|   2020-02-05|released|   13.0|   True|  false|\n",
            "|1000000002|  male|30.0|  Korea|   Seoul| Jungnang-gu|     overseas inflow|       NULL|            31|              NULL|    2020-01-30|   2020-03-02|   2020-03-02|released|   32.0|   True|  false|\n",
            "|1000000003|  male|50.0|  Korea|   Seoul|   Jongno-gu|contact with patient| 2002000001|            17|              NULL|    2020-01-30|   2020-02-19|   2020-02-19|released|   20.0|   True|  false|\n",
            "|1000000004|  male|20.0|  Korea|   Seoul|     Mapo-gu|     overseas inflow|       NULL|             9|        2020-01-26|    2020-01-30|   2020-02-15|   2020-02-15|released|   16.0|   True|  false|\n",
            "|1000000005|female|20.0|  Korea|   Seoul| Seongbuk-gu|contact with patient| 1000000002|             2|              NULL|    2020-01-31|   2020-02-24|   2020-02-24|released|   24.0| Female|  false|\n",
            "|1000000006|female|50.0|  Korea|   Seoul|   Jongno-gu|contact with patient| 1000000003|            43|              NULL|    2020-01-31|   2020-02-19|   2020-02-19|released|   19.0| Female|  false|\n",
            "|1000000007|  male|20.0|  Korea|   Seoul|   Jongno-gu|contact with patient| 1000000003|             0|              NULL|    2020-01-31|   2020-02-10|   2020-02-10|released|   10.0|   True|  false|\n",
            "|1000000008|  male|20.0|  Korea|   Seoul|         etc|     overseas inflow|       NULL|             0|              NULL|    2020-02-02|   2020-02-24|   2020-02-24|released|   22.0|   True|  false|\n",
            "|1000000009|  male|30.0|  Korea|   Seoul|   Songpa-gu|     overseas inflow|       NULL|            68|              NULL|    2020-02-05|   2020-02-21|   2020-02-21|released|   16.0|   True|  false|\n",
            "|1000000010|female|60.0|  Korea|   Seoul| Seongbuk-gu|contact with patient| 1000000003|             6|              NULL|    2020-02-05|   2020-02-29|   2020-02-29|released|   24.0| Female|  false|\n",
            "|1000000011|female|50.0|  China|   Seoul|Seodaemun-gu|     overseas inflow|       NULL|            23|              NULL|    2020-02-06|   2020-02-29|   2020-02-29|released|   23.0| Female|  false|\n",
            "|1000000012|  male|20.0|  Korea|   Seoul|         etc|     overseas inflow|       NULL|             0|              NULL|    2020-02-07|   2020-02-27|   2020-02-27|released|   20.0|   True|  false|\n",
            "|1000000013|  male|80.0|  Korea|   Seoul|   Jongno-gu|contact with patient| 1000000017|           117|              NULL|    2020-02-16|         NULL|         NULL|deceased|   NULL|   True|   true|\n",
            "|1000000014|female|60.0|  Korea|   Seoul|   Jongno-gu|contact with patient| 1000000013|            27|        2020-02-06|    2020-02-16|   2020-03-12|   2020-03-12|released|   25.0| Female|  false|\n",
            "|1000000015|  male|70.0|  Korea|   Seoul|Seongdong-gu|    Seongdong-gu APT|       NULL|             8|        2020-02-11|    2020-02-19|         NULL|         NULL|released|   NULL|   True|  false|\n",
            "|1000000016|  male|70.0|  Korea|   Seoul|   Jongno-gu|contact with patient| 1000000017|          NULL|              NULL|    2020-02-19|   2020-03-11|   2020-03-11|released|   21.0|   True|  false|\n",
            "|1000000017|  male|70.0|  Korea|   Seoul|   Jongno-gu|contact with patient| 1000000003|          NULL|              NULL|    2020-02-20|   2020-03-01|   2020-03-01|released|   10.0|   True|  false|\n",
            "|1000000018|  male|20.0|  Korea|   Seoul|         etc|                 etc|       NULL|          NULL|              NULL|    2020-02-20|         NULL|         NULL|released|   NULL|   True|  false|\n",
            "|1000000019|female|70.0|  Korea|   Seoul|   Jongno-gu|contact with patient| 1000000021|          NULL|              NULL|    2020-02-20|   2020-03-08|   2020-03-08|released|   17.0| Female|  false|\n",
            "|1000000020|female|70.0|  Korea|   Seoul|Seongdong-gu|    Seongdong-gu APT| 1000000015|          NULL|              NULL|    2020-02-20|         NULL|         NULL|released|   NULL| Female|  false|\n",
            "+----------+------+----+-------+--------+------------+--------------------+-----------+--------------+------------------+--------------+-------------+-------------+--------+-------+-------+-------+\n",
            "only showing top 20 rows\n",
            "\n"
          ]
        }
      ],
      "source": [
        "df_change_days=df_change.withColumn(\"no_days\",df_with_bins['no_days'].cast(\"double\"))\n",
        "df_change_days.show()"
      ]
    },
    {
      "cell_type": "markdown",
      "id": "d31e3a87",
      "metadata": {
        "id": "d31e3a87"
      },
      "source": [
        "### Drop the columns\n",
        "[\"patient_id\",\"sex\",\"infected_by\",\"contact_number\",\"released_date\",\"state\",\n",
        "\"symptom_onset_date\",\"confirmed_date\",\"deceased_date\",\"country\",\"no_days\",\n",
        "\"city\",\"infection_case\"]"
      ]
    },
    {
      "cell_type": "code",
      "execution_count": 21,
      "id": "JA-AwSMETK6f",
      "metadata": {
        "id": "JA-AwSMETK6f"
      },
      "outputs": [],
      "source": [
        "drop_columns=[\"patient_id\",\"sex\",\"infected_by\",\"contact_number\",\"released_date\",\"state\",\n",
        "\"symptom_onset_date\",\"confirmed_date\",\"deceased_date\",\"country\",\"no_days\",\n",
        "\"city\",\"infection_case\"]"
      ]
    },
    {
      "cell_type": "code",
      "execution_count": 22,
      "id": "yTQoOnDVTMSa",
      "metadata": {
        "colab": {
          "base_uri": "https://localhost:8080/"
        },
        "id": "yTQoOnDVTMSa",
        "outputId": "ac95ed54-eb4b-463d-b76c-5968afd6a084"
      },
      "outputs": [
        {
          "name": "stdout",
          "output_type": "stream",
          "text": [
            "+----+--------+-------+-------+\n",
            "| age|province|is_male|is_dead|\n",
            "+----+--------+-------+-------+\n",
            "|50.0|   Seoul|   True|  false|\n",
            "|30.0|   Seoul|   True|  false|\n",
            "|50.0|   Seoul|   True|  false|\n",
            "|20.0|   Seoul|   True|  false|\n",
            "|20.0|   Seoul| Female|  false|\n",
            "|50.0|   Seoul| Female|  false|\n",
            "|20.0|   Seoul|   True|  false|\n",
            "|20.0|   Seoul|   True|  false|\n",
            "|30.0|   Seoul|   True|  false|\n",
            "|60.0|   Seoul| Female|  false|\n",
            "|50.0|   Seoul| Female|  false|\n",
            "|20.0|   Seoul|   True|  false|\n",
            "|80.0|   Seoul|   True|   true|\n",
            "|60.0|   Seoul| Female|  false|\n",
            "|70.0|   Seoul|   True|  false|\n",
            "|70.0|   Seoul|   True|  false|\n",
            "|70.0|   Seoul|   True|  false|\n",
            "|20.0|   Seoul|   True|  false|\n",
            "|70.0|   Seoul| Female|  false|\n",
            "|70.0|   Seoul| Female|  false|\n",
            "+----+--------+-------+-------+\n",
            "only showing top 20 rows\n",
            "\n"
          ]
        }
      ],
      "source": [
        "df_dropped_columns=df_change_days.drop(*drop_columns)\n",
        "df_dropped_columns.show()"
      ]
    },
    {
      "cell_type": "markdown",
      "id": "32df47a6",
      "metadata": {
        "id": "32df47a6"
      },
      "source": [
        "### Recount the number of nulls now"
      ]
    },
    {
      "cell_type": "code",
      "execution_count": 23,
      "id": "6d66eaa7",
      "metadata": {
        "colab": {
          "base_uri": "https://localhost:8080/"
        },
        "id": "6d66eaa7",
        "outputId": "68eca755-7552-4642-bac3-56092feeb03d"
      },
      "outputs": [
        {
          "name": "stdout",
          "output_type": "stream",
          "text": [
            "age 261\n",
            "province 0\n",
            "is_male 0\n",
            "is_dead 0\n"
          ]
        }
      ],
      "source": [
        "for col in df_dropped_columns.columns:\n",
        "  print(col,df_dropped_columns.filter(df_dropped_columns[col].isNull()).count())"
      ]
    },
    {
      "cell_type": "markdown",
      "id": "cc71f158",
      "metadata": {
        "id": "cc71f158"
      },
      "source": [
        "## Now do the same but using SQL select statement"
      ]
    },
    {
      "cell_type": "markdown",
      "id": "1d540282",
      "metadata": {
        "id": "1d540282"
      },
      "source": [
        "### From the original Patient DataFrame, Create a temporary view (table)."
      ]
    },
    {
      "cell_type": "code",
      "execution_count": 24,
      "id": "cf56099f",
      "metadata": {
        "id": "cf56099f"
      },
      "outputs": [],
      "source": [
        "veiw_name=\"patient\"\n",
        "df.createOrReplaceTempView('patient')"
      ]
    },
    {
      "cell_type": "markdown",
      "id": "cb004277",
      "metadata": {
        "id": "cb004277"
      },
      "source": [
        "### Use SELECT statement to select all columns from the dataframe and show the output."
      ]
    },
    {
      "cell_type": "code",
      "execution_count": 25,
      "id": "12ae8226",
      "metadata": {
        "colab": {
          "base_uri": "https://localhost:8080/"
        },
        "id": "12ae8226",
        "outputId": "e509a3ff-900b-47f6-da69-8898d07f73c3",
        "scrolled": false
      },
      "outputs": [
        {
          "name": "stdout",
          "output_type": "stream",
          "text": [
            "+----------+------+---+-------+--------+------------+--------------------+-----------+--------------+------------------+--------------+-------------+-------------+--------+\n",
            "|patient_id|   sex|age|country|province|        city|      infection_case|infected_by|contact_number|symptom_onset_date|confirmed_date|released_date|deceased_date|   state|\n",
            "+----------+------+---+-------+--------+------------+--------------------+-----------+--------------+------------------+--------------+-------------+-------------+--------+\n",
            "|1000000001|  male|50s|  Korea|   Seoul|  Gangseo-gu|     overseas inflow|       NULL|            75|        2020-01-22|    2020-01-23|   2020-02-05|         NULL|released|\n",
            "|1000000002|  male|30s|  Korea|   Seoul| Jungnang-gu|     overseas inflow|       NULL|            31|              NULL|    2020-01-30|   2020-03-02|         NULL|released|\n",
            "|1000000003|  male|50s|  Korea|   Seoul|   Jongno-gu|contact with patient| 2002000001|            17|              NULL|    2020-01-30|   2020-02-19|         NULL|released|\n",
            "|1000000004|  male|20s|  Korea|   Seoul|     Mapo-gu|     overseas inflow|       NULL|             9|        2020-01-26|    2020-01-30|   2020-02-15|         NULL|released|\n",
            "|1000000005|female|20s|  Korea|   Seoul| Seongbuk-gu|contact with patient| 1000000002|             2|              NULL|    2020-01-31|   2020-02-24|         NULL|released|\n",
            "|1000000006|female|50s|  Korea|   Seoul|   Jongno-gu|contact with patient| 1000000003|            43|              NULL|    2020-01-31|   2020-02-19|         NULL|released|\n",
            "|1000000007|  male|20s|  Korea|   Seoul|   Jongno-gu|contact with patient| 1000000003|             0|              NULL|    2020-01-31|   2020-02-10|         NULL|released|\n",
            "|1000000008|  male|20s|  Korea|   Seoul|         etc|     overseas inflow|       NULL|             0|              NULL|    2020-02-02|   2020-02-24|         NULL|released|\n",
            "|1000000009|  male|30s|  Korea|   Seoul|   Songpa-gu|     overseas inflow|       NULL|            68|              NULL|    2020-02-05|   2020-02-21|         NULL|released|\n",
            "|1000000010|female|60s|  Korea|   Seoul| Seongbuk-gu|contact with patient| 1000000003|             6|              NULL|    2020-02-05|   2020-02-29|         NULL|released|\n",
            "|1000000011|female|50s|  China|   Seoul|Seodaemun-gu|     overseas inflow|       NULL|            23|              NULL|    2020-02-06|   2020-02-29|         NULL|released|\n",
            "|1000000012|  male|20s|  Korea|   Seoul|         etc|     overseas inflow|       NULL|             0|              NULL|    2020-02-07|   2020-02-27|         NULL|released|\n",
            "|1000000013|  male|80s|  Korea|   Seoul|   Jongno-gu|contact with patient| 1000000017|           117|              NULL|    2020-02-16|         NULL|         NULL|deceased|\n",
            "|1000000014|female|60s|  Korea|   Seoul|   Jongno-gu|contact with patient| 1000000013|            27|        2020-02-06|    2020-02-16|   2020-03-12|         NULL|released|\n",
            "|1000000015|  male|70s|  Korea|   Seoul|Seongdong-gu|    Seongdong-gu APT|       NULL|             8|        2020-02-11|    2020-02-19|         NULL|         NULL|released|\n",
            "|1000000016|  male|70s|  Korea|   Seoul|   Jongno-gu|contact with patient| 1000000017|          NULL|              NULL|    2020-02-19|   2020-03-11|         NULL|released|\n",
            "|1000000017|  male|70s|  Korea|   Seoul|   Jongno-gu|contact with patient| 1000000003|          NULL|              NULL|    2020-02-20|   2020-03-01|         NULL|released|\n",
            "|1000000018|  male|20s|  Korea|   Seoul|         etc|                 etc|       NULL|          NULL|              NULL|    2020-02-20|         NULL|         NULL|released|\n",
            "|1000000019|female|70s|  Korea|   Seoul|   Jongno-gu|contact with patient| 1000000021|          NULL|              NULL|    2020-02-20|   2020-03-08|         NULL|released|\n",
            "|1000000020|female|70s|  Korea|   Seoul|Seongdong-gu|    Seongdong-gu APT| 1000000015|          NULL|              NULL|    2020-02-20|         NULL|         NULL|released|\n",
            "+----------+------+---+-------+--------+------------+--------------------+-----------+--------------+------------------+--------------+-------------+-------------+--------+\n",
            "only showing top 20 rows\n",
            "\n"
          ]
        }
      ],
      "source": [
        "data_selected=df.select(\"*\")\n",
        "data_selected.show()"
      ]
    },
    {
      "cell_type": "markdown",
      "id": "e0da4318",
      "metadata": {
        "id": "e0da4318"
      },
      "source": [
        "### *Using SQL commands*, limit the output to only 5 rows"
      ]
    },
    {
      "cell_type": "code",
      "execution_count": 26,
      "id": "97911bdd",
      "metadata": {
        "colab": {
          "base_uri": "https://localhost:8080/"
        },
        "id": "97911bdd",
        "outputId": "e7e03311-260b-48fa-ffc6-37feb7d05d09"
      },
      "outputs": [
        {
          "name": "stdout",
          "output_type": "stream",
          "text": [
            "+----------+------+---+-------+--------+-----------+--------------------+-----------+--------------+------------------+--------------+-------------+-------------+--------+\n",
            "|patient_id|   sex|age|country|province|       city|      infection_case|infected_by|contact_number|symptom_onset_date|confirmed_date|released_date|deceased_date|   state|\n",
            "+----------+------+---+-------+--------+-----------+--------------------+-----------+--------------+------------------+--------------+-------------+-------------+--------+\n",
            "|1000000001|  male|50s|  Korea|   Seoul| Gangseo-gu|     overseas inflow|       NULL|            75|        2020-01-22|    2020-01-23|   2020-02-05|         NULL|released|\n",
            "|1000000002|  male|30s|  Korea|   Seoul|Jungnang-gu|     overseas inflow|       NULL|            31|              NULL|    2020-01-30|   2020-03-02|         NULL|released|\n",
            "|1000000003|  male|50s|  Korea|   Seoul|  Jongno-gu|contact with patient| 2002000001|            17|              NULL|    2020-01-30|   2020-02-19|         NULL|released|\n",
            "|1000000004|  male|20s|  Korea|   Seoul|    Mapo-gu|     overseas inflow|       NULL|             9|        2020-01-26|    2020-01-30|   2020-02-15|         NULL|released|\n",
            "|1000000005|female|20s|  Korea|   Seoul|Seongbuk-gu|contact with patient| 1000000002|             2|              NULL|    2020-01-31|   2020-02-24|         NULL|released|\n",
            "+----------+------+---+-------+--------+-----------+--------------------+-----------+--------------+------------------+--------------+-------------+-------------+--------+\n",
            "\n"
          ]
        }
      ],
      "source": [
        "data_selected.limit(5).show()"
      ]
    },
    {
      "cell_type": "markdown",
      "id": "b70edf17",
      "metadata": {
        "id": "b70edf17"
      },
      "source": [
        "### Select the count of males and females in the dataset"
      ]
    },
    {
      "cell_type": "code",
      "execution_count": 27,
      "id": "00e9fd65",
      "metadata": {
        "colab": {
          "base_uri": "https://localhost:8080/"
        },
        "id": "00e9fd65",
        "outputId": "36db0afd-d481-4078-9bd9-10901a3d77b0"
      },
      "outputs": [
        {
          "name": "stdout",
          "output_type": "stream",
          "text": [
            "+------+-----+\n",
            "|   sex|count|\n",
            "+------+-----+\n",
            "|  NULL| 1122|\n",
            "|female| 2218|\n",
            "|  male| 1825|\n",
            "+------+-----+\n",
            "\n"
          ]
        }
      ],
      "source": [
        "data_count_male_and_female=df.select(\"sex\").groupBy(\"sex\").count()\n",
        "data_count_male_and_female.show()"
      ]
    },
    {
      "cell_type": "markdown",
      "id": "73683674",
      "metadata": {
        "id": "73683674"
      },
      "source": [
        "### How many people did survive, and how many didn't?"
      ]
    },
    {
      "cell_type": "code",
      "execution_count": 28,
      "id": "gWep6zotWWMU",
      "metadata": {
        "colab": {
          "base_uri": "https://localhost:8080/"
        },
        "id": "gWep6zotWWMU",
        "outputId": "aded1f76-dd26-441e-8006-003128360e66"
      },
      "outputs": [
        {
          "name": "stdout",
          "output_type": "stream",
          "text": [
            "+--------+-----+\n",
            "|   state|count|\n",
            "+--------+-----+\n",
            "|isolated| 2158|\n",
            "|released| 2929|\n",
            "|deceased|   78|\n",
            "+--------+-----+\n",
            "\n"
          ]
        }
      ],
      "source": [
        "data_survived_1= spark.sql(\"select state,count(state) as count from patient group by state\")\n",
        "data_survived_1.show()"
      ]
    },
    {
      "cell_type": "markdown",
      "id": "d4424228",
      "metadata": {
        "id": "d4424228"
      },
      "source": [
        "### Now, let's perform some preprocessing using SQL:\n",
        "1. Convert *age* column to double after removing the 's' at the end -- *hint: check SUBSTRING method*\n",
        "2. Select only the following columns: `['sex', 'age', 'province', 'state']`\n",
        "3. Store the result of the query in a new dataframe"
      ]
    },
    {
      "cell_type": "code",
      "execution_count": 29,
      "id": "k2MH8N6yXX9i",
      "metadata": {
        "colab": {
          "base_uri": "https://localhost:8080/"
        },
        "id": "k2MH8N6yXX9i",
        "outputId": "a6a429ba-96fc-4ceb-dacd-dc5ebd87f89d"
      },
      "outputs": [
        {
          "name": "stdout",
          "output_type": "stream",
          "text": [
            "+------+----+--------+--------+\n",
            "|   sex| age|province|   state|\n",
            "+------+----+--------+--------+\n",
            "|  male|50.0|   Seoul|released|\n",
            "|  male|30.0|   Seoul|released|\n",
            "|  male|50.0|   Seoul|released|\n",
            "|  male|20.0|   Seoul|released|\n",
            "|female|20.0|   Seoul|released|\n",
            "|female|50.0|   Seoul|released|\n",
            "|  male|20.0|   Seoul|released|\n",
            "|  male|20.0|   Seoul|released|\n",
            "|  male|30.0|   Seoul|released|\n",
            "|female|60.0|   Seoul|released|\n",
            "|female|50.0|   Seoul|released|\n",
            "|  male|20.0|   Seoul|released|\n",
            "|  male|80.0|   Seoul|deceased|\n",
            "|female|60.0|   Seoul|released|\n",
            "|  male|70.0|   Seoul|released|\n",
            "|  male|70.0|   Seoul|released|\n",
            "|  male|70.0|   Seoul|released|\n",
            "|  male|20.0|   Seoul|released|\n",
            "|female|70.0|   Seoul|released|\n",
            "|female|70.0|   Seoul|released|\n",
            "+------+----+--------+--------+\n",
            "only showing top 20 rows\n",
            "\n"
          ]
        }
      ],
      "source": [
        "age_remove_s=spark.sql(\"select sex ,cast(substring(age,0,2) as double) as age, province, state from patient\")\n",
        "age_remove_s.show()"
      ]
    },
    {
      "cell_type": "code",
      "execution_count": 30,
      "id": "d3cf4f0f",
      "metadata": {
        "colab": {
          "base_uri": "https://localhost:8080/"
        },
        "id": "d3cf4f0f",
        "outputId": "9988648e-6fcf-4cd2-da35-fb292b56a901",
        "scrolled": true
      },
      "outputs": [
        {
          "name": "stdout",
          "output_type": "stream",
          "text": [
            "+------+----+--------+--------+\n",
            "|   sex| age|province|   state|\n",
            "+------+----+--------+--------+\n",
            "|  male|50.0|   Seoul|released|\n",
            "|  male|30.0|   Seoul|released|\n",
            "|  male|50.0|   Seoul|released|\n",
            "|  male|20.0|   Seoul|released|\n",
            "|female|20.0|   Seoul|released|\n",
            "|female|50.0|   Seoul|released|\n",
            "|  male|20.0|   Seoul|released|\n",
            "|  male|20.0|   Seoul|released|\n",
            "|  male|30.0|   Seoul|released|\n",
            "|female|60.0|   Seoul|released|\n",
            "|female|50.0|   Seoul|released|\n",
            "|  male|20.0|   Seoul|released|\n",
            "|  male|80.0|   Seoul|deceased|\n",
            "|female|60.0|   Seoul|released|\n",
            "|  male|70.0|   Seoul|released|\n",
            "|  male|70.0|   Seoul|released|\n",
            "|  male|70.0|   Seoul|released|\n",
            "|  male|20.0|   Seoul|released|\n",
            "|female|70.0|   Seoul|released|\n",
            "|female|70.0|   Seoul|released|\n",
            "+------+----+--------+--------+\n",
            "only showing top 20 rows\n",
            "\n"
          ]
        }
      ],
      "source": [
        "data_clean = age_remove_s.select(\"sex\",\"age\",\"province\",\"state\")\n",
        "data_clean.show()"
      ]
    },
    {
      "cell_type": "code",
      "execution_count": 39,
      "id": "791ec1b8",
      "metadata": {
        "id": "791ec1b8"
      },
      "outputs": [],
      "source": [
        "# Convert to Pandas and save\n",
        "pandas_df = data_clean.toPandas()\n",
        "pandas_df.to_csv(r\"C:\\Users\\aliay\\OneDrive\\Desktop\\iTi\\31 - Big Data\\Mariem\\Practical-PySpark\\Data\\cleaned_data.csv\", index=False)"
      ]
    },
    {
      "cell_type": "code",
      "execution_count": 41,
      "id": "61c70bc8",
      "metadata": {
        "id": "61c70bc8"
      },
      "outputs": [
        {
          "name": "stdout",
          "output_type": "stream",
          "text": [
            "+------+----+-----------------+--------+\n",
            "|   sex| age|         province|   state|\n",
            "+------+----+-----------------+--------+\n",
            "|female|40.0|     Jeollabuk-do|released|\n",
            "|  male|50.0|            Ulsan|released|\n",
            "|  male|30.0|      Gyeonggi-do|released|\n",
            "|female|10.0|      Gyeonggi-do|isolated|\n",
            "|female|50.0|     Jeollanam-do|released|\n",
            "|  male|10.0|            Ulsan|released|\n",
            "|  male|30.0|Chungcheongbuk-do|isolated|\n",
            "|  male|30.0|     Jeollanam-do|isolated|\n",
            "|female|10.0| Gyeongsangbuk-do|released|\n",
            "|female|50.0| Gyeongsangbuk-do|isolated|\n",
            "|female|30.0|          Jeju-do|released|\n",
            "|  male|50.0|          Incheon|isolated|\n",
            "|  male|20.0|          Incheon|released|\n",
            "|female|60.0|          Daejeon|isolated|\n",
            "|  male|80.0| Gyeongsangbuk-do|released|\n",
            "|female|80.0|            Busan|deceased|\n",
            "|female|70.0|            Daegu|isolated|\n",
            "|  male|40.0|            Busan|released|\n",
            "|female|80.0|Chungcheongnam-do|isolated|\n",
            "|female|20.0|Chungcheongbuk-do|released|\n",
            "+------+----+-----------------+--------+\n",
            "only showing top 20 rows\n",
            "\n"
          ]
        }
      ],
      "source": [
        "data_clean.distinct().show()"
      ]
    },
    {
      "cell_type": "markdown",
      "id": "edaee009",
      "metadata": {},
      "source": [
        "<B>Machine Learning</B>"
      ]
    },
    {
      "cell_type": "code",
      "execution_count": 42,
      "id": "7a71806f",
      "metadata": {
        "id": "7a71806f"
      },
      "outputs": [
        {
          "name": "stdout",
          "output_type": "stream",
          "text": [
            "root\n",
            " |-- sex: string (nullable = true)\n",
            " |-- age: double (nullable = true)\n",
            " |-- province: string (nullable = true)\n",
            " |-- state: string (nullable = true)\n",
            "\n"
          ]
        }
      ],
      "source": [
        "# load the file with spark \n",
        "\n",
        "df = spark.read.csv(\"..\\Data\\cleaned_data.csv\",header=True,inferSchema=True)\n",
        "df.printSchema()    "
      ]
    },
    {
      "cell_type": "code",
      "execution_count": 43,
      "id": "29f35295",
      "metadata": {},
      "outputs": [
        {
          "name": "stdout",
          "output_type": "stream",
          "text": [
            "+------+----+--------+--------+\n",
            "|   sex| age|province|   state|\n",
            "+------+----+--------+--------+\n",
            "|  male|50.0|   Seoul|released|\n",
            "|  male|30.0|   Seoul|released|\n",
            "|  male|50.0|   Seoul|released|\n",
            "|  male|20.0|   Seoul|released|\n",
            "|female|20.0|   Seoul|released|\n",
            "|female|50.0|   Seoul|released|\n",
            "|  male|20.0|   Seoul|released|\n",
            "|  male|20.0|   Seoul|released|\n",
            "|  male|30.0|   Seoul|released|\n",
            "|female|60.0|   Seoul|released|\n",
            "|female|50.0|   Seoul|released|\n",
            "|  male|20.0|   Seoul|released|\n",
            "|  male|80.0|   Seoul|deceased|\n",
            "|female|60.0|   Seoul|released|\n",
            "|  male|70.0|   Seoul|released|\n",
            "|  male|70.0|   Seoul|released|\n",
            "|  male|70.0|   Seoul|released|\n",
            "|  male|20.0|   Seoul|released|\n",
            "|female|70.0|   Seoul|released|\n",
            "|female|70.0|   Seoul|released|\n",
            "+------+----+--------+--------+\n",
            "only showing top 20 rows\n",
            "\n"
          ]
        }
      ],
      "source": [
        "df.show()"
      ]
    },
    {
      "cell_type": "code",
      "execution_count": 44,
      "id": "4c81f470",
      "metadata": {},
      "outputs": [
        {
          "data": {
            "text/plain": [
              "[('sex', 'string'),\n",
              " ('age', 'double'),\n",
              " ('province', 'string'),\n",
              " ('state', 'string')]"
            ]
          },
          "execution_count": 44,
          "metadata": {},
          "output_type": "execute_result"
        }
      ],
      "source": [
        "df.dtypes"
      ]
    },
    {
      "cell_type": "code",
      "execution_count": 45,
      "id": "77c38683",
      "metadata": {},
      "outputs": [
        {
          "name": "stdout",
          "output_type": "stream",
          "text": [
            "+-------+------+-----------------+--------+--------+\n",
            "|summary|   sex|              age|province|   state|\n",
            "+-------+------+-----------------+--------+--------+\n",
            "|  count|  4043|             3719|    5165|    5165|\n",
            "|   mean|  NULL|41.05942457649906|    NULL|    NULL|\n",
            "| stddev|  NULL|19.62275925520363|    NULL|    NULL|\n",
            "|    min|female|             10.0|   Busan|deceased|\n",
            "|    max|  male|             90.0|   Ulsan|released|\n",
            "+-------+------+-----------------+--------+--------+\n",
            "\n"
          ]
        }
      ],
      "source": [
        "df.describe().show()    "
      ]
    },
    {
      "cell_type": "code",
      "execution_count": 46,
      "id": "fa402ee2",
      "metadata": {},
      "outputs": [
        {
          "data": {
            "text/plain": [
              "['sex', 'province', 'state']"
            ]
          },
          "execution_count": 46,
          "metadata": {},
          "output_type": "execute_result"
        }
      ],
      "source": [
        "str_columns = [f[0] for f in df.dtypes if f[1] == 'string'] \n",
        "str_columns "
      ]
    },
    {
      "cell_type": "code",
      "execution_count": 47,
      "id": "24137b62",
      "metadata": {},
      "outputs": [
        {
          "data": {
            "text/plain": [
              "['sex_Index', 'province_Index', 'state_Index']"
            ]
          },
          "execution_count": 47,
          "metadata": {},
          "output_type": "execute_result"
        }
      ],
      "source": [
        "categorical_columns = [str_column + \"_Index\" for str_column in str_columns  ]\n",
        "categorical_columns"
      ]
    },
    {
      "cell_type": "code",
      "execution_count": 48,
      "id": "66575a81",
      "metadata": {},
      "outputs": [
        {
          "data": {
            "text/plain": [
              "['sex_OHE', 'province_OHE', 'state_OHE']"
            ]
          },
          "execution_count": 48,
          "metadata": {},
          "output_type": "execute_result"
        }
      ],
      "source": [
        "ONEHOT_COLUMNS = [str_column + \"_OHE\" for str_column in str_columns]\n",
        "ONEHOT_COLUMNS"
      ]
    },
    {
      "cell_type": "code",
      "execution_count": 49,
      "id": "9246b0a5",
      "metadata": {},
      "outputs": [],
      "source": [
        "from pyspark.ml.feature import StringIndexer\n",
        "indexer = StringIndexer(inputCols=str_columns, outputCols=categorical_columns, handleInvalid=\"keep\")  "
      ]
    },
    {
      "cell_type": "code",
      "execution_count": 50,
      "id": "1b0bfb4c",
      "metadata": {},
      "outputs": [],
      "source": [
        "from pyspark.ml.feature import OneHotEncoder\n",
        "encoder = OneHotEncoder(inputCols=categorical_columns, outputCols=ONEHOT_COLUMNS)"
      ]
    },
    {
      "cell_type": "code",
      "execution_count": 51,
      "id": "33f47b50",
      "metadata": {},
      "outputs": [
        {
          "data": {
            "text/plain": [
              "['age']"
            ]
          },
          "execution_count": 51,
          "metadata": {},
          "output_type": "execute_result"
        }
      ],
      "source": [
        "numeric_columns = [f[0] for f in df.dtypes if f[1] != 'string'] \n",
        "numeric_columns"
      ]
    },
    {
      "cell_type": "code",
      "execution_count": 52,
      "id": "d657faf0",
      "metadata": {},
      "outputs": [],
      "source": [
        "# Impute numeric columns\n",
        "from pyspark.ml.feature import Imputer\n",
        "imputer = Imputer(\n",
        "    inputCols=numeric_columns,\n",
        "    outputCols=numeric_columns,\n",
        ")"
      ]
    },
    {
      "cell_type": "code",
      "execution_count": 53,
      "id": "a128a7af",
      "metadata": {},
      "outputs": [
        {
          "data": {
            "text/plain": [
              "['age', 'sex_OHE', 'province_OHE', 'state_OHE']"
            ]
          },
          "execution_count": 53,
          "metadata": {},
          "output_type": "execute_result"
        }
      ],
      "source": [
        "features = numeric_columns + ONEHOT_COLUMNS \n",
        "features"
      ]
    },
    {
      "cell_type": "code",
      "execution_count": 54,
      "id": "e55a7462",
      "metadata": {},
      "outputs": [
        {
          "data": {
            "text/plain": [
              "['age', 'sex_OHE', 'province_OHE']"
            ]
          },
          "execution_count": 54,
          "metadata": {},
          "output_type": "execute_result"
        }
      ],
      "source": [
        "# removing The Crew column\n",
        "features = [f for f in features if f != 'state_OHE']\n",
        "features"
      ]
    },
    {
      "cell_type": "code",
      "execution_count": 55,
      "id": "e1bb492d",
      "metadata": {},
      "outputs": [
        {
          "data": {
            "text/plain": [
              "VectorAssembler_555130b66db6"
            ]
          },
          "execution_count": 55,
          "metadata": {},
          "output_type": "execute_result"
        }
      ],
      "source": [
        "from pyspark.ml.feature import VectorAssembler\n",
        "\n",
        "vecAssmbler = VectorAssembler(inputCols=features, outputCol=\"features\")\n",
        "vecAssmbler"
      ]
    },
    {
      "cell_type": "code",
      "execution_count": 56,
      "id": "a6b2fa48",
      "metadata": {},
      "outputs": [
        {
          "name": "stdout",
          "output_type": "stream",
          "text": [
            "train: 4166, test: 999\n"
          ]
        }
      ],
      "source": [
        "# train test split  \n",
        "\n",
        "train, test = df.randomSplit([0.8, 0.2], seed=42)\n",
        "print(f\"train: {train.count()}, test: {test.count()}\")"
      ]
    },
    {
      "cell_type": "code",
      "execution_count": 63,
      "id": "5dd23c07",
      "metadata": {},
      "outputs": [],
      "source": [
        "from pyspark.ml.regression import LinearRegression  \n",
        "\n",
        "LR = LinearRegression(featuresCol=\"features\", labelCol=\"state_Index\", predictionCol=\"crew_prediction\")  "
      ]
    },
    {
      "cell_type": "code",
      "execution_count": 64,
      "id": "2f8d0271",
      "metadata": {},
      "outputs": [],
      "source": [
        "from pyspark.ml import Pipeline \n",
        "pip = Pipeline(stages=[indexer, encoder, imputer, vecAssmbler, LR])"
      ]
    },
    {
      "cell_type": "code",
      "execution_count": 65,
      "id": "49205755",
      "metadata": {},
      "outputs": [],
      "source": [
        "pipe_model = pip.fit(train) "
      ]
    },
    {
      "cell_type": "code",
      "execution_count": 68,
      "id": "422c6a01",
      "metadata": {},
      "outputs": [
        {
          "name": "stdout",
          "output_type": "stream",
          "text": [
            "+----+-----------------+-----------+--------+---------+--------------+-----------+---------+--------------+-------------+--------------------+------------------+\n",
            "| sex|              age|   province|   state|sex_Index|province_Index|state_Index|  sex_OHE|  province_OHE|    state_OHE|            features|   crew_prediction|\n",
            "+----+-----------------+-----------+--------+---------+--------------+-----------+---------+--------------+-------------+--------------------+------------------+\n",
            "|NULL|40.83025210084033|      Busan|isolated|      2.0|           5.0|        1.0|(2,[],[])|(17,[5],[1.0])|(3,[1],[1.0])|(20,[0,8],[40.830...| 0.591367287433862|\n",
            "|NULL|40.83025210084033|      Busan|isolated|      2.0|           5.0|        1.0|(2,[],[])|(17,[5],[1.0])|(3,[1],[1.0])|(20,[0,8],[40.830...| 0.591367287433862|\n",
            "|NULL|40.83025210084033|Gyeonggi-do|isolated|      2.0|           2.0|        1.0|(2,[],[])|(17,[2],[1.0])|(3,[1],[1.0])|(20,[0,5],[40.830...|1.1315206897413983|\n",
            "|NULL|40.83025210084033|Gyeonggi-do|isolated|      2.0|           2.0|        1.0|(2,[],[])|(17,[2],[1.0])|(3,[1],[1.0])|(20,[0,5],[40.830...|1.1315206897413983|\n",
            "|NULL|40.83025210084033|Gyeonggi-do|isolated|      2.0|           2.0|        1.0|(2,[],[])|(17,[2],[1.0])|(3,[1],[1.0])|(20,[0,5],[40.830...|1.1315206897413983|\n",
            "|NULL|40.83025210084033|Gyeonggi-do|isolated|      2.0|           2.0|        1.0|(2,[],[])|(17,[2],[1.0])|(3,[1],[1.0])|(20,[0,5],[40.830...|1.1315206897413983|\n",
            "|NULL|40.83025210084033|Gyeonggi-do|isolated|      2.0|           2.0|        1.0|(2,[],[])|(17,[2],[1.0])|(3,[1],[1.0])|(20,[0,5],[40.830...|1.1315206897413983|\n",
            "|NULL|40.83025210084033|Gyeonggi-do|isolated|      2.0|           2.0|        1.0|(2,[],[])|(17,[2],[1.0])|(3,[1],[1.0])|(20,[0,5],[40.830...|1.1315206897413983|\n",
            "|NULL|40.83025210084033|Gyeonggi-do|isolated|      2.0|           2.0|        1.0|(2,[],[])|(17,[2],[1.0])|(3,[1],[1.0])|(20,[0,5],[40.830...|1.1315206897413983|\n",
            "|NULL|40.83025210084033|Gyeonggi-do|isolated|      2.0|           2.0|        1.0|(2,[],[])|(17,[2],[1.0])|(3,[1],[1.0])|(20,[0,5],[40.830...|1.1315206897413983|\n",
            "|NULL|40.83025210084033|Gyeonggi-do|isolated|      2.0|           2.0|        1.0|(2,[],[])|(17,[2],[1.0])|(3,[1],[1.0])|(20,[0,5],[40.830...|1.1315206897413983|\n",
            "|NULL|40.83025210084033|Gyeonggi-do|isolated|      2.0|           2.0|        1.0|(2,[],[])|(17,[2],[1.0])|(3,[1],[1.0])|(20,[0,5],[40.830...|1.1315206897413983|\n",
            "|NULL|40.83025210084033|Gyeonggi-do|isolated|      2.0|           2.0|        1.0|(2,[],[])|(17,[2],[1.0])|(3,[1],[1.0])|(20,[0,5],[40.830...|1.1315206897413983|\n",
            "|NULL|40.83025210084033|Gyeonggi-do|isolated|      2.0|           2.0|        1.0|(2,[],[])|(17,[2],[1.0])|(3,[1],[1.0])|(20,[0,5],[40.830...|1.1315206897413983|\n",
            "|NULL|40.83025210084033|Gyeonggi-do|isolated|      2.0|           2.0|        1.0|(2,[],[])|(17,[2],[1.0])|(3,[1],[1.0])|(20,[0,5],[40.830...|1.1315206897413983|\n",
            "|NULL|40.83025210084033|Gyeonggi-do|isolated|      2.0|           2.0|        1.0|(2,[],[])|(17,[2],[1.0])|(3,[1],[1.0])|(20,[0,5],[40.830...|1.1315206897413983|\n",
            "|NULL|40.83025210084033|Gyeonggi-do|isolated|      2.0|           2.0|        1.0|(2,[],[])|(17,[2],[1.0])|(3,[1],[1.0])|(20,[0,5],[40.830...|1.1315206897413983|\n",
            "|NULL|40.83025210084033|Gyeonggi-do|isolated|      2.0|           2.0|        1.0|(2,[],[])|(17,[2],[1.0])|(3,[1],[1.0])|(20,[0,5],[40.830...|1.1315206897413983|\n",
            "|NULL|40.83025210084033|Gyeonggi-do|isolated|      2.0|           2.0|        1.0|(2,[],[])|(17,[2],[1.0])|(3,[1],[1.0])|(20,[0,5],[40.830...|1.1315206897413983|\n",
            "|NULL|40.83025210084033|Gyeonggi-do|isolated|      2.0|           2.0|        1.0|(2,[],[])|(17,[2],[1.0])|(3,[1],[1.0])|(20,[0,5],[40.830...|1.1315206897413983|\n",
            "+----+-----------------+-----------+--------+---------+--------------+-----------+---------+--------------+-------------+--------------------+------------------+\n",
            "only showing top 20 rows\n",
            "\n"
          ]
        }
      ],
      "source": [
        "pred_train = pipe_model.transform(train)    \n",
        "pred_train.show()"
      ]
    },
    {
      "cell_type": "code",
      "execution_count": 70,
      "id": "56f30dfc",
      "metadata": {},
      "outputs": [
        {
          "name": "stdout",
          "output_type": "stream",
          "text": [
            "RMSE: 0.38271045710291673\n"
          ]
        }
      ],
      "source": [
        "# Evaluation (RMSE and R2)\n",
        "from pyspark.ml.evaluation import RegressionEvaluator\n",
        "evaluator = RegressionEvaluator(labelCol=\"state_Index\", predictionCol=\"crew_prediction\", metricName=\"rmse\")\n",
        "rmse = evaluator.evaluate(pred_train)\n",
        "print(f\"RMSE: {rmse}\")"
      ]
    },
    {
      "cell_type": "code",
      "execution_count": 71,
      "id": "f4e439b7",
      "metadata": {},
      "outputs": [
        {
          "name": "stdout",
          "output_type": "stream",
          "text": [
            "R2: 0.47198131993434334\n"
          ]
        }
      ],
      "source": [
        "evaluator = RegressionEvaluator(labelCol=\"state_Index\", predictionCol=\"crew_prediction\", metricName=\"r2\")\n",
        "r2 = evaluator.evaluate(pred_train)\n",
        "print(f\"R2: {r2}\")  "
      ]
    },
    {
      "cell_type": "code",
      "execution_count": 72,
      "id": "92b7ca55",
      "metadata": {},
      "outputs": [
        {
          "name": "stdout",
          "output_type": "stream",
          "text": [
            "+----+-----------------+-----------+--------+---------+--------------+-----------+---------+--------------+-------------+--------------------+------------------+\n",
            "| sex|              age|   province|   state|sex_Index|province_Index|state_Index|  sex_OHE|  province_OHE|    state_OHE|            features|   crew_prediction|\n",
            "+----+-----------------+-----------+--------+---------+--------------+-----------+---------+--------------+-------------+--------------------+------------------+\n",
            "|NULL|40.83025210084033|Gyeonggi-do|isolated|      2.0|           2.0|        1.0|(2,[],[])|(17,[2],[1.0])|(3,[1],[1.0])|(20,[0,5],[40.830...|1.1315206897413983|\n",
            "|NULL|40.83025210084033|Gyeonggi-do|isolated|      2.0|           2.0|        1.0|(2,[],[])|(17,[2],[1.0])|(3,[1],[1.0])|(20,[0,5],[40.830...|1.1315206897413983|\n",
            "|NULL|40.83025210084033|Gyeonggi-do|isolated|      2.0|           2.0|        1.0|(2,[],[])|(17,[2],[1.0])|(3,[1],[1.0])|(20,[0,5],[40.830...|1.1315206897413983|\n",
            "|NULL|40.83025210084033|Gyeonggi-do|isolated|      2.0|           2.0|        1.0|(2,[],[])|(17,[2],[1.0])|(3,[1],[1.0])|(20,[0,5],[40.830...|1.1315206897413983|\n",
            "|NULL|40.83025210084033|Gyeonggi-do|isolated|      2.0|           2.0|        1.0|(2,[],[])|(17,[2],[1.0])|(3,[1],[1.0])|(20,[0,5],[40.830...|1.1315206897413983|\n",
            "|NULL|40.83025210084033|Gyeonggi-do|isolated|      2.0|           2.0|        1.0|(2,[],[])|(17,[2],[1.0])|(3,[1],[1.0])|(20,[0,5],[40.830...|1.1315206897413983|\n",
            "|NULL|40.83025210084033|Gyeonggi-do|isolated|      2.0|           2.0|        1.0|(2,[],[])|(17,[2],[1.0])|(3,[1],[1.0])|(20,[0,5],[40.830...|1.1315206897413983|\n",
            "|NULL|40.83025210084033|Gyeonggi-do|isolated|      2.0|           2.0|        1.0|(2,[],[])|(17,[2],[1.0])|(3,[1],[1.0])|(20,[0,5],[40.830...|1.1315206897413983|\n",
            "|NULL|40.83025210084033|Gyeonggi-do|isolated|      2.0|           2.0|        1.0|(2,[],[])|(17,[2],[1.0])|(3,[1],[1.0])|(20,[0,5],[40.830...|1.1315206897413983|\n",
            "|NULL|40.83025210084033|Gyeonggi-do|isolated|      2.0|           2.0|        1.0|(2,[],[])|(17,[2],[1.0])|(3,[1],[1.0])|(20,[0,5],[40.830...|1.1315206897413983|\n",
            "|NULL|40.83025210084033|Gyeonggi-do|isolated|      2.0|           2.0|        1.0|(2,[],[])|(17,[2],[1.0])|(3,[1],[1.0])|(20,[0,5],[40.830...|1.1315206897413983|\n",
            "|NULL|40.83025210084033|Gyeonggi-do|isolated|      2.0|           2.0|        1.0|(2,[],[])|(17,[2],[1.0])|(3,[1],[1.0])|(20,[0,5],[40.830...|1.1315206897413983|\n",
            "|NULL|40.83025210084033|Gyeonggi-do|isolated|      2.0|           2.0|        1.0|(2,[],[])|(17,[2],[1.0])|(3,[1],[1.0])|(20,[0,5],[40.830...|1.1315206897413983|\n",
            "|NULL|40.83025210084033|Gyeonggi-do|isolated|      2.0|           2.0|        1.0|(2,[],[])|(17,[2],[1.0])|(3,[1],[1.0])|(20,[0,5],[40.830...|1.1315206897413983|\n",
            "|NULL|40.83025210084033|Gyeonggi-do|isolated|      2.0|           2.0|        1.0|(2,[],[])|(17,[2],[1.0])|(3,[1],[1.0])|(20,[0,5],[40.830...|1.1315206897413983|\n",
            "|NULL|40.83025210084033|Gyeonggi-do|isolated|      2.0|           2.0|        1.0|(2,[],[])|(17,[2],[1.0])|(3,[1],[1.0])|(20,[0,5],[40.830...|1.1315206897413983|\n",
            "|NULL|40.83025210084033|Gyeonggi-do|isolated|      2.0|           2.0|        1.0|(2,[],[])|(17,[2],[1.0])|(3,[1],[1.0])|(20,[0,5],[40.830...|1.1315206897413983|\n",
            "|NULL|40.83025210084033|Gyeonggi-do|isolated|      2.0|           2.0|        1.0|(2,[],[])|(17,[2],[1.0])|(3,[1],[1.0])|(20,[0,5],[40.830...|1.1315206897413983|\n",
            "|NULL|40.83025210084033|Gyeonggi-do|isolated|      2.0|           2.0|        1.0|(2,[],[])|(17,[2],[1.0])|(3,[1],[1.0])|(20,[0,5],[40.830...|1.1315206897413983|\n",
            "|NULL|40.83025210084033|Gyeonggi-do|isolated|      2.0|           2.0|        1.0|(2,[],[])|(17,[2],[1.0])|(3,[1],[1.0])|(20,[0,5],[40.830...|1.1315206897413983|\n",
            "+----+-----------------+-----------+--------+---------+--------------+-----------+---------+--------------+-------------+--------------------+------------------+\n",
            "only showing top 20 rows\n",
            "\n"
          ]
        }
      ],
      "source": [
        "pred_test = pipe_model.transform(test)    \n",
        "pred_test.show()"
      ]
    },
    {
      "cell_type": "code",
      "execution_count": 73,
      "id": "25419c6b",
      "metadata": {},
      "outputs": [
        {
          "name": "stdout",
          "output_type": "stream",
          "text": [
            "RMSE: 0.37663675162519783\n"
          ]
        }
      ],
      "source": [
        "evaluator = RegressionEvaluator(labelCol=\"state_Index\", predictionCol=\"crew_prediction\", metricName=\"rmse\")\n",
        "rmse = evaluator.evaluate(pred_test)\n",
        "print(f\"RMSE: {rmse}\")\n"
      ]
    },
    {
      "cell_type": "code",
      "execution_count": 74,
      "id": "ffe60053",
      "metadata": {},
      "outputs": [
        {
          "name": "stdout",
          "output_type": "stream",
          "text": [
            "R2: 0.48923913858721135\n"
          ]
        }
      ],
      "source": [
        "evaluator = RegressionEvaluator(labelCol=\"state_Index\", predictionCol=\"crew_prediction\", metricName=\"r2\")\n",
        "r2 = evaluator.evaluate(pred_test)\n",
        "print(f\"R2: {r2}\")"
      ]
    },
    {
      "cell_type": "code",
      "execution_count": null,
      "id": "d46df463",
      "metadata": {},
      "outputs": [],
      "source": []
    }
  ],
  "metadata": {
    "colab": {
      "provenance": []
    },
    "kernelspec": {
      "display_name": "pysparkenv",
      "language": "python",
      "name": "python3"
    },
    "language_info": {
      "codemirror_mode": {
        "name": "ipython",
        "version": 3
      },
      "file_extension": ".py",
      "mimetype": "text/x-python",
      "name": "python",
      "nbconvert_exporter": "python",
      "pygments_lexer": "ipython3",
      "version": "3.11.0"
    }
  },
  "nbformat": 4,
  "nbformat_minor": 5
}
