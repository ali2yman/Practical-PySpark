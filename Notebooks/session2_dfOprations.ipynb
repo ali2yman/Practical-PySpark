{
 "cells": [
  {
   "cell_type": "code",
   "execution_count": 1,
   "id": "0e7f5685",
   "metadata": {},
   "outputs": [],
   "source": [
    "import findspark\n",
    "findspark.init()    \n",
    "\n",
    "from pyspark.sql import SparkSession\n",
    "spark = SparkSession.builder.getOrCreate()\n",
    "\n",
    "from pyspark.sql.functions import *"
   ]
  },
  {
   "cell_type": "code",
   "execution_count": 27,
   "id": "9fe9db66",
   "metadata": {},
   "outputs": [
    {
     "data": {
      "text/html": [
       "<style>.container { width:100% !important; }</style>"
      ],
      "text/plain": [
       "<IPython.core.display.HTML object>"
      ]
     },
     "metadata": {},
     "output_type": "display_data"
    }
   ],
   "source": [
    "# to display notebook cell with horizontal scroll bar\n",
    "from IPython.display import display, HTML   \n",
    "display(HTML(\"<style>.container { width:100% !important; }</style>\"))   "
   ]
  },
  {
   "cell_type": "code",
   "execution_count": 2,
   "id": "323e77de",
   "metadata": {},
   "outputs": [
    {
     "data": {
      "text/plain": [
       "DataFrame[_1: string, _2: bigint]"
      ]
     },
     "execution_count": 2,
     "metadata": {},
     "output_type": "execute_result"
    }
   ],
   "source": [
    "df = spark.createDataFrame([\n",
    "    (\"ali\",20),\n",
    "    (\"mariem\",30),\n",
    "    (\"ayman\",40),\n",
    "    (\"ali\",50),\n",
    "    (\"mariem\",60),\n",
    "    (\"ayman\",70),\n",
    "    (\"ali\",80)\n",
    "])\n",
    "\n",
    "df"
   ]
  },
  {
   "cell_type": "code",
   "execution_count": 3,
   "id": "0f0dce24",
   "metadata": {},
   "outputs": [
    {
     "name": "stdout",
     "output_type": "stream",
     "text": [
      "root\n",
      " |-- _1: string (nullable = true)\n",
      " |-- _2: long (nullable = true)\n",
      "\n"
     ]
    }
   ],
   "source": [
    "df.printSchema()"
   ]
  },
  {
   "cell_type": "code",
   "execution_count": 4,
   "id": "c733432f",
   "metadata": {},
   "outputs": [
    {
     "name": "stdout",
     "output_type": "stream",
     "text": [
      "+------+---+\n",
      "|    _1| _2|\n",
      "+------+---+\n",
      "|   ali| 20|\n",
      "|mariem| 30|\n",
      "| ayman| 40|\n",
      "|   ali| 50|\n",
      "|mariem| 60|\n",
      "| ayman| 70|\n",
      "|   ali| 80|\n",
      "+------+---+\n",
      "\n"
     ]
    }
   ],
   "source": [
    "df.show()"
   ]
  },
  {
   "cell_type": "code",
   "execution_count": 6,
   "id": "8e8cd8f9",
   "metadata": {},
   "outputs": [
    {
     "name": "stdout",
     "output_type": "stream",
     "text": [
      "+------+-------+\n",
      "|    _1|avg(_2)|\n",
      "+------+-------+\n",
      "|   ali|   50.0|\n",
      "|mariem|   45.0|\n",
      "| ayman|   55.0|\n",
      "+------+-------+\n",
      "\n"
     ]
    }
   ],
   "source": [
    "# So throw the df with it's schema we can do what we need in an easy way\n",
    "avg = df.groupBy(\"_1\").avg(\"_2\").show()   "
   ]
  },
  {
   "cell_type": "code",
   "execution_count": 11,
   "id": "a3b6f4a5",
   "metadata": {},
   "outputs": [
    {
     "data": {
      "text/plain": [
       "[Row(_1='ali', _2=20), Row(_1='mariem', _2=30)]"
      ]
     },
     "execution_count": 11,
     "metadata": {},
     "output_type": "execute_result"
    }
   ],
   "source": [
    "df.head(2)"
   ]
  },
  {
   "cell_type": "code",
   "execution_count": 13,
   "id": "80098915",
   "metadata": {},
   "outputs": [
    {
     "name": "stdout",
     "output_type": "stream",
     "text": [
      "+------+-----------+\n",
      "|    _1|average_age|\n",
      "+------+-----------+\n",
      "|   ali|       50.0|\n",
      "|mariem|       45.0|\n",
      "| ayman|       55.0|\n",
      "+------+-----------+\n",
      "\n"
     ]
    }
   ],
   "source": [
    "avg_age  = df.groupBy(\"_1\").agg(avg(\"_2\").alias(\"average_age\"))\n",
    "\n",
    "avg_age.show()"
   ]
  },
  {
   "cell_type": "markdown",
   "id": "9c0a6752",
   "metadata": {},
   "source": [
    "<B>-------------------------------------------------------------------------------------------</B>"
   ]
  },
  {
   "cell_type": "code",
   "execution_count": 28,
   "id": "a1019d4c",
   "metadata": {},
   "outputs": [
    {
     "name": "stdout",
     "output_type": "stream",
     "text": [
      "root\n",
      " |-- age: long (nullable = true)\n",
      " |-- name: string (nullable = true)\n",
      "\n"
     ]
    }
   ],
   "source": [
    "df = spark.read.json('..\\\\Data\\\\people.json')  \n",
    "df.printSchema()"
   ]
  },
  {
   "cell_type": "code",
   "execution_count": 29,
   "id": "8c9c75d3",
   "metadata": {},
   "outputs": [
    {
     "name": "stdout",
     "output_type": "stream",
     "text": [
      "+----+-------+\n",
      "| age|   name|\n",
      "+----+-------+\n",
      "|NULL|Michael|\n",
      "|  30|   Andy|\n",
      "|  19| Justin|\n",
      "+----+-------+\n",
      "\n"
     ]
    }
   ],
   "source": [
    "df.show()"
   ]
  },
  {
   "cell_type": "code",
   "execution_count": 32,
   "id": "a0457e2e",
   "metadata": {},
   "outputs": [
    {
     "data": {
      "text/plain": [
       "(Column<'age'>, Column<'age'>)"
      ]
     },
     "execution_count": 32,
     "metadata": {},
     "output_type": "execute_result"
    }
   ],
   "source": [
    "df.age,df['age']"
   ]
  },
  {
   "cell_type": "code",
   "execution_count": 33,
   "id": "ad9eba28",
   "metadata": {},
   "outputs": [
    {
     "data": {
      "text/plain": [
       "Column<'AAA'>"
      ]
     },
     "execution_count": 33,
     "metadata": {},
     "output_type": "execute_result"
    }
   ],
   "source": [
    "col('AAA')"
   ]
  },
  {
   "cell_type": "code",
   "execution_count": 36,
   "id": "c10366ad",
   "metadata": {},
   "outputs": [
    {
     "name": "stdout",
     "output_type": "stream",
     "text": [
      "DataFrame[name: string]\n",
      "__________________\n",
      "+-------+\n",
      "|   name|\n",
      "+-------+\n",
      "|Michael|\n",
      "|   Andy|\n",
      "| Justin|\n",
      "+-------+\n",
      "\n"
     ]
    }
   ],
   "source": [
    "print(df.select('name'))\n",
    "print(\"__________________\")\n",
    "df.select('name').show()    "
   ]
  },
  {
   "cell_type": "code",
   "execution_count": 38,
   "id": "2178a9cf",
   "metadata": {},
   "outputs": [
    {
     "name": "stdout",
     "output_type": "stream",
     "text": [
      "+---+\n",
      "|age|\n",
      "+---+\n",
      "| 30|\n",
      "+---+\n",
      "\n"
     ]
    }
   ],
   "source": [
    "df.select('age').where(col('age') > 20).show()   "
   ]
  },
  {
   "cell_type": "code",
   "execution_count": 39,
   "id": "1d5f4520",
   "metadata": {},
   "outputs": [
    {
     "name": "stdout",
     "output_type": "stream",
     "text": [
      "+---+\n",
      "|age|\n",
      "+---+\n",
      "| 30|\n",
      "+---+\n",
      "\n"
     ]
    }
   ],
   "source": [
    "df.select('age').where('age > 20').show()"
   ]
  },
  {
   "cell_type": "code",
   "execution_count": null,
   "id": "c44f2b21",
   "metadata": {},
   "outputs": [],
   "source": [
    "import pyspark.sql.functions as fn           # recommended - better than the way above"
   ]
  },
  {
   "attachments": {
    "image-2.png": {
     "image/png": "[encoded data removed]"
    },
    "image.png": {
     "image/png": "[encoded data removed]"
    }
   },
   "cell_type": "markdown",
   "id": "53550bb4",
   "metadata": {},
   "source": [
    "![image.png](attachment:image.png)\n",
    "\n",
    "![image-2.png](attachment:image-2.png)\n",
    "\n",
    "and we have unpersist too\n",
    "\n",
    "----------------------------------------------------------------------------------------------"
   ]
  },
  {
   "cell_type": "code",
   "execution_count": 2,
   "id": "c47a0263",
   "metadata": {},
   "outputs": [],
   "source": [
    "from pyspark.sql.types import *"
   ]
  },
  {
   "cell_type": "code",
   "execution_count": 4,
   "id": "2cca8859",
   "metadata": {},
   "outputs": [],
   "source": [
    "MySchema = StructType([\n",
    "    StructField(\"author\",StringType(),False),        # False means not nullable (it should not be null)\n",
    "    StructField(\"title\",StringType(),False),\n",
    "    StructField(\"pages\",IntegerType(),True)\n",
    "])"
   ]
  },
  {
   "cell_type": "code",
   "execution_count": 10,
   "id": "2d8dd6ab",
   "metadata": {},
   "outputs": [],
   "source": [
    "# spark.read.csv(schema=MySchema)\n",
    "# spark.createDataFrame(schema=MySchema) \n",
    "\n",
    "# or we can do it this way\n",
    "MyNewSchema = 'ID INT not null, First STRING, Last STRING, Url STRING, Published STRING, Hits INT, ARRAY<STRING>'"
   ]
  },
  {
   "cell_type": "code",
   "execution_count": 15,
   "id": "35ab4783",
   "metadata": {},
   "outputs": [],
   "source": [
    "MyNewSchema = StructType([\n",
    "    StructField(\"ID\", IntegerType(), False),\n",
    "    StructField(\"First\", StringType(), True),\n",
    "    StructField(\"Last\", StringType(), True),\n",
    "    StructField(\"Url\", StringType(), True),\n",
    "    StructField(\"Published\", StringType(), True),\n",
    "    StructField(\"Hits\", IntegerType(), True),\n",
    "    StructField(\"Campaigns\", StringType(), True)  # Temporarily read as String\n",
    "])"
   ]
  },
  {
   "cell_type": "code",
   "execution_count": 16,
   "id": "6f0dadb1",
   "metadata": {},
   "outputs": [
    {
     "name": "stdout",
     "output_type": "stream",
     "text": [
      "root\n",
      " |-- ID: integer (nullable = true)\n",
      " |-- First: string (nullable = true)\n",
      " |-- Last: string (nullable = true)\n",
      " |-- Url: string (nullable = true)\n",
      " |-- Published: string (nullable = true)\n",
      " |-- Hits: integer (nullable = true)\n",
      " |-- Campaigns: string (nullable = true)\n",
      "\n"
     ]
    }
   ],
   "source": [
    "df = spark.read.csv('..\\\\Data\\\\blogs_data.csv',header=True,schema=MyNewSchema)\n",
    "df.printSchema()"
   ]
  },
  {
   "cell_type": "code",
   "execution_count": 18,
   "id": "91b0e37e",
   "metadata": {},
   "outputs": [
    {
     "name": "stdout",
     "output_type": "stream",
     "text": [
      "+---+---------+-------+-----------------+---------+-----+--------------------+\n",
      "| ID|    First|   Last|              Url|Published| Hits|           Campaigns|\n",
      "+---+---------+-------+-----------------+---------+-----+--------------------+\n",
      "|  1|    Jules|  Damji|https://tinyurl.1| 1/4/2016| 4535| [twitter, LinkedIn]|\n",
      "|  2|   Brooke|  Wenig|https://tinyurl.2| 5/5/2018| 8908| [twitter, LinkedIn]|\n",
      "|  3|    Denny|    Lee|https://tinyurl.3| 6/7/2019| 7659|[web, twitter, FB...|\n",
      "|  4|Tathagata|    Das|https://tinyurl.4|5/12/2018|10568|       [twitter, FB]|\n",
      "|  5|    Matei|Zaharia|https://tinyurl.5|5/14/2014|40578|[web, twitter, FB...|\n",
      "|  6|  Reynold|    Xin|https://tinyurl.6| 3/2/2015|25568| [twitter, LinkedIn]|\n",
      "+---+---------+-------+-----------------+---------+-----+--------------------+\n",
      "\n"
     ]
    }
   ],
   "source": [
    "df.show()"
   ]
  },
  {
   "cell_type": "code",
   "execution_count": 19,
   "id": "3e2a9fa0",
   "metadata": {},
   "outputs": [
    {
     "data": {
      "text/plain": [
       "DataFrame[(Hits * 10): int]"
      ]
     },
     "execution_count": 19,
     "metadata": {},
     "output_type": "execute_result"
    }
   ],
   "source": [
    "df.select(df['Hits']*10)"
   ]
  },
  {
   "cell_type": "code",
   "execution_count": 24,
   "id": "8b78e9a9",
   "metadata": {},
   "outputs": [
    {
     "name": "stdout",
     "output_type": "stream",
     "text": [
      "+------+\n",
      "|10hits|\n",
      "+------+\n",
      "| 45350|\n",
      "| 89080|\n",
      "| 76590|\n",
      "|105680|\n",
      "|405780|\n",
      "|255680|\n",
      "+------+\n",
      "\n"
     ]
    }
   ],
   "source": [
    "df.select((col('Hits')*10).alias(\"10hits\")).show()"
   ]
  },
  {
   "cell_type": "code",
   "execution_count": 25,
   "id": "988e3ae8",
   "metadata": {},
   "outputs": [
    {
     "name": "stdout",
     "output_type": "stream",
     "text": [
      "+------+\n",
      "|10hits|\n",
      "+------+\n",
      "| 45350|\n",
      "| 89080|\n",
      "| 76590|\n",
      "|105680|\n",
      "|405780|\n",
      "|255680|\n",
      "+------+\n",
      "\n"
     ]
    }
   ],
   "source": [
    "df4 = df.select(expr(\"Hits*10\").alias(\"10hits\"))    \n",
    "df4.show()  "
   ]
  },
  {
   "cell_type": "code",
   "execution_count": 26,
   "id": "635ebfae",
   "metadata": {},
   "outputs": [
    {
     "name": "stdout",
     "output_type": "stream",
     "text": [
      "+---+---------+-------+-----------------+---------+-----+--------------------+-------+\n",
      "| ID|    First|   Last|              Url|Published| Hits|           Campaigns|BigHits|\n",
      "+---+---------+-------+-----------------+---------+-----+--------------------+-------+\n",
      "|  1|    Jules|  Damji|https://tinyurl.1| 1/4/2016| 4535| [twitter, LinkedIn]|  false|\n",
      "|  2|   Brooke|  Wenig|https://tinyurl.2| 5/5/2018| 8908| [twitter, LinkedIn]|  false|\n",
      "|  3|    Denny|    Lee|https://tinyurl.3| 6/7/2019| 7659|[web, twitter, FB...|  false|\n",
      "|  4|Tathagata|    Das|https://tinyurl.4|5/12/2018|10568|       [twitter, FB]|   true|\n",
      "|  5|    Matei|Zaharia|https://tinyurl.5|5/14/2014|40578|[web, twitter, FB...|   true|\n",
      "|  6|  Reynold|    Xin|https://tinyurl.6| 3/2/2015|25568| [twitter, LinkedIn]|   true|\n",
      "+---+---------+-------+-----------------+---------+-----+--------------------+-------+\n",
      "\n"
     ]
    }
   ],
   "source": [
    "dfnew = df.withColumn(\"BigHits\",col(\"Hits\")>10000)\n",
    "dfnew.show()"
   ]
  },
  {
   "cell_type": "code",
   "execution_count": 29,
   "id": "1ce2f9bf",
   "metadata": {},
   "outputs": [
    {
     "name": "stdout",
     "output_type": "stream",
     "text": [
      "+---+---------+-------+-----------------+---------+-----+--------------------+-------+-------------+\n",
      "| ID|    First|   Last|              Url|Published| Hits|           Campaigns|BigHits|    Full name|\n",
      "+---+---------+-------+-----------------+---------+-----+--------------------+-------+-------------+\n",
      "|  1|    Jules|  Damji|https://tinyurl.1| 1/4/2016| 4535| [twitter, LinkedIn]|  false|  Jules Damji|\n",
      "|  2|   Brooke|  Wenig|https://tinyurl.2| 5/5/2018| 8908| [twitter, LinkedIn]|  false| Brooke Wenig|\n",
      "|  3|    Denny|    Lee|https://tinyurl.3| 6/7/2019| 7659|[web, twitter, FB...|  false|    Denny Lee|\n",
      "|  4|Tathagata|    Das|https://tinyurl.4|5/12/2018|10568|       [twitter, FB]|   true|Tathagata Das|\n",
      "|  5|    Matei|Zaharia|https://tinyurl.5|5/14/2014|40578|[web, twitter, FB...|   true|Matei Zaharia|\n",
      "|  6|  Reynold|    Xin|https://tinyurl.6| 3/2/2015|25568| [twitter, LinkedIn]|   true|  Reynold Xin|\n",
      "+---+---------+-------+-----------------+---------+-----+--------------------+-------+-------------+\n",
      "\n"
     ]
    }
   ],
   "source": [
    "new = dfnew.withColumn(\"Full name\",concat_ws(\" \",col(\"First\"),col(\"Last\")))   \n",
    "new.show()"
   ]
  },
  {
   "cell_type": "code",
   "execution_count": 30,
   "id": "26e761ee",
   "metadata": {},
   "outputs": [
    {
     "name": "stdout",
     "output_type": "stream",
     "text": [
      "+---+---------+-------+-----------------+---------+-----+--------------------+-------+-------------+\n",
      "| ID|    First|   Last|              Url|Published| Hits|           Campaigns|BigHits|    Full name|\n",
      "+---+---------+-------+-----------------+---------+-----+--------------------+-------+-------------+\n",
      "|  1|    Jules|  Damji|https://tinyurl.1| 1/4/2016| 4535| [twitter, LinkedIn]|  false|  Jules Damji|\n",
      "|  2|   Brooke|  Wenig|https://tinyurl.2| 5/5/2018| 8908| [twitter, LinkedIn]|  false| Brooke Wenig|\n",
      "|  3|    Denny|    Lee|https://tinyurl.3| 6/7/2019| 7659|[web, twitter, FB...|  false|    Denny Lee|\n",
      "|  4|Tathagata|    Das|https://tinyurl.4|5/12/2018|10568|       [twitter, FB]|   true|Tathagata Das|\n",
      "|  5|    Matei|Zaharia|https://tinyurl.5|5/14/2014|40578|[web, twitter, FB...|   true|Matei Zaharia|\n",
      "|  6|  Reynold|    Xin|https://tinyurl.6| 3/2/2015|25568| [twitter, LinkedIn]|   true|  Reynold Xin|\n",
      "+---+---------+-------+-----------------+---------+-----+--------------------+-------+-------------+\n",
      "\n"
     ]
    }
   ],
   "source": [
    "# we can also make it using this way \n",
    "new = dfnew.withColumn(\"Full name\",concat(col(\"First\"),lit(\" \"),col(\"Last\")))   \n",
    "new.show()"
   ]
  }
 ],
 "metadata": {
  "kernelspec": {
   "display_name": "pysparkenv",
   "language": "python",
   "name": "python3"
  },
  "language_info": {
   "codemirror_mode": {
    "name": "ipython",
    "version": 3
   },
   "file_extension": ".py",
   "mimetype": "text/x-python",
   "name": "python",
   "nbconvert_exporter": "python",
   "pygments_lexer": "ipython3",
   "version": "3.11.0"
  }
 },
 "nbformat": 4,
 "nbformat_minor": 5
}
