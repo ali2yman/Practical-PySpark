{
 "cells": [
  {
   "cell_type": "code",
   "execution_count": 1,
   "id": "088c494d",
   "metadata": {},
   "outputs": [],
   "source": [
    "# %pip install numpy\n",
    "import numpy as np\n",
    "import findspark\n",
    "findspark.init()\n",
    "from pyspark.sql import SparkSession    \n",
    "import pyspark"
   ]
  },
  {
   "cell_type": "code",
   "execution_count": 2,
   "id": "b792d2ca",
   "metadata": {},
   "outputs": [
    {
     "data": {
      "text/html": [
       "\n",
       "            <div>\n",
       "                <p><b>SparkSession - in-memory</b></p>\n",
       "                \n",
       "        <div>\n",
       "            <p><b>SparkContext</b></p>\n",
       "\n",
       "            <p><a href=\"http://AliAyman.zte.com.cn:4040\">Spark UI</a></p>\n",
       "\n",
       "            <dl>\n",
       "              <dt>Version</dt>\n",
       "                <dd><code>v3.5.5</code></dd>\n",
       "              <dt>Master</dt>\n",
       "                <dd><code>local[*]</code></dd>\n",
       "              <dt>AppName</dt>\n",
       "                <dd><code>pyspark-shell</code></dd>\n",
       "            </dl>\n",
       "        </div>\n",
       "        \n",
       "            </div>\n",
       "        "
      ],
      "text/plain": [
       "<pyspark.sql.session.SparkSession at 0x2007837d110>"
      ]
     },
     "execution_count": 2,
     "metadata": {},
     "output_type": "execute_result"
    }
   ],
   "source": [
    "spark = SparkSession.builder.getOrCreate()  \n",
    "spark"
   ]
  },
  {
   "cell_type": "code",
   "execution_count": 3,
   "id": "f3033fc6",
   "metadata": {},
   "outputs": [],
   "source": [
    "sc = spark.sparkContext "
   ]
  },
  {
   "cell_type": "code",
   "execution_count": 11,
   "id": "97953c81",
   "metadata": {},
   "outputs": [
    {
     "data": {
      "text/plain": [
       "array([ 0,  1,  2,  3,  4,  5,  6,  7,  8,  9, 10, 11, 12, 13, 14, 15, 16,\n",
       "       17, 18, 19, 20, 21, 22, 23, 24, 25, 26, 27, 28, 29, 30, 31, 32, 33,\n",
       "       34, 35, 36, 37, 38, 39, 40, 41, 42, 43, 44, 45, 46, 47, 48, 49, 50])"
      ]
     },
     "execution_count": 11,
     "metadata": {},
     "output_type": "execute_result"
    }
   ],
   "source": [
    "data = np.arange(51)\n",
    "data"
   ]
  },
  {
   "cell_type": "code",
   "execution_count": null,
   "id": "8caf3838",
   "metadata": {},
   "outputs": [
    {
     "data": {
      "text/plain": [
       "ParallelCollectionRDD[0] at readRDDFromFile at PythonRDD.scala:289"
      ]
     },
     "execution_count": 12,
     "metadata": {},
     "output_type": "execute_result"
    }
   ],
   "source": [
    "rdd0 = sc.parallelize(data)\n",
    "rdd0"
   ]
  },
  {
   "cell_type": "code",
   "execution_count": 13,
   "id": "d85bf1be",
   "metadata": {},
   "outputs": [
    {
     "data": {
      "text/plain": [
       "PythonRDD[1] at RDD at PythonRDD.scala:53"
      ]
     },
     "execution_count": 13,
     "metadata": {},
     "output_type": "execute_result"
    }
   ],
   "source": [
    "rdd1 = rdd0.map(lambda x:x*2)\n",
    "rdd1"
   ]
  },
  {
   "cell_type": "code",
   "execution_count": 14,
   "id": "58a342ee",
   "metadata": {},
   "outputs": [
    {
     "data": {
      "text/plain": [
       "PythonRDD[2] at RDD at PythonRDD.scala:53"
      ]
     },
     "execution_count": 14,
     "metadata": {},
     "output_type": "execute_result"
    }
   ],
   "source": [
    "rdd2 = rdd1.map(lambda x:x%4)\n",
    "rdd2"
   ]
  },
  {
   "cell_type": "code",
   "execution_count": 15,
   "id": "3b61f795",
   "metadata": {},
   "outputs": [
    {
     "data": {
      "text/plain": [
       "16"
      ]
     },
     "execution_count": 15,
     "metadata": {},
     "output_type": "execute_result"
    }
   ],
   "source": [
    "rdd0.getNumPartitions() "
   ]
  },
  {
   "cell_type": "code",
   "execution_count": null,
   "id": "62dd28db",
   "metadata": {},
   "outputs": [
    {
     "data": {
      "text/plain": [
       "[np.int64(0),\n",
       " np.int64(2),\n",
       " np.int64(0),\n",
       " np.int64(2),\n",
       " np.int64(0),\n",
       " np.int64(2),\n",
       " np.int64(0),\n",
       " np.int64(2),\n",
       " np.int64(0),\n",
       " np.int64(2),\n",
       " np.int64(0),\n",
       " np.int64(2),\n",
       " np.int64(0),\n",
       " np.int64(2),\n",
       " np.int64(0),\n",
       " np.int64(2),\n",
       " np.int64(0),\n",
       " np.int64(2),\n",
       " np.int64(0),\n",
       " np.int64(2),\n",
       " np.int64(0),\n",
       " np.int64(2),\n",
       " np.int64(0),\n",
       " np.int64(2),\n",
       " np.int64(0),\n",
       " np.int64(2),\n",
       " np.int64(0),\n",
       " np.int64(2),\n",
       " np.int64(0),\n",
       " np.int64(2),\n",
       " np.int64(0),\n",
       " np.int64(2),\n",
       " np.int64(0),\n",
       " np.int64(2),\n",
       " np.int64(0),\n",
       " np.int64(2),\n",
       " np.int64(0),\n",
       " np.int64(2),\n",
       " np.int64(0),\n",
       " np.int64(2),\n",
       " np.int64(0),\n",
       " np.int64(2),\n",
       " np.int64(0),\n",
       " np.int64(2),\n",
       " np.int64(0),\n",
       " np.int64(2),\n",
       " np.int64(0),\n",
       " np.int64(2),\n",
       " np.int64(0),\n",
       " np.int64(2),\n",
       " np.int64(0)]"
      ]
     },
     "execution_count": 16,
     "metadata": {},
     "output_type": "execute_result"
    }
   ],
   "source": [
    "# it took 14 sec\n",
    "rdd2.collect()"
   ]
  },
  {
   "cell_type": "code",
   "execution_count": 18,
   "id": "0860df94",
   "metadata": {},
   "outputs": [
    {
     "data": {
      "text/plain": [
       "[np.int64(0), np.int64(2), np.int64(0), np.int64(2)]"
      ]
     },
     "execution_count": 18,
     "metadata": {},
     "output_type": "execute_result"
    }
   ],
   "source": [
    "rdd2.take(4)"
   ]
  },
  {
   "cell_type": "code",
   "execution_count": 19,
   "id": "9d4e8e1d",
   "metadata": {},
   "outputs": [
    {
     "data": {
      "text/plain": [
       "PythonRDD[2] at RDD at PythonRDD.scala:53"
      ]
     },
     "execution_count": 19,
     "metadata": {},
     "output_type": "execute_result"
    }
   ],
   "source": [
    "rdd2.cache()"
   ]
  },
  {
   "cell_type": "code",
   "execution_count": 20,
   "id": "ffe466a8",
   "metadata": {},
   "outputs": [],
   "source": [
    "rdd3 = rdd2.map(lambda x:x*3)"
   ]
  },
  {
   "cell_type": "code",
   "execution_count": null,
   "id": "d23ca8bb",
   "metadata": {},
   "outputs": [
    {
     "data": {
      "text/plain": [
       "[np.int64(0),\n",
       " np.int64(6),\n",
       " np.int64(0),\n",
       " np.int64(6),\n",
       " np.int64(0),\n",
       " np.int64(6),\n",
       " np.int64(0),\n",
       " np.int64(6),\n",
       " np.int64(0),\n",
       " np.int64(6),\n",
       " np.int64(0),\n",
       " np.int64(6),\n",
       " np.int64(0),\n",
       " np.int64(6),\n",
       " np.int64(0),\n",
       " np.int64(6),\n",
       " np.int64(0),\n",
       " np.int64(6),\n",
       " np.int64(0),\n",
       " np.int64(6),\n",
       " np.int64(0),\n",
       " np.int64(6),\n",
       " np.int64(0),\n",
       " np.int64(6),\n",
       " np.int64(0),\n",
       " np.int64(6),\n",
       " np.int64(0),\n",
       " np.int64(6),\n",
       " np.int64(0),\n",
       " np.int64(6),\n",
       " np.int64(0),\n",
       " np.int64(6),\n",
       " np.int64(0),\n",
       " np.int64(6),\n",
       " np.int64(0),\n",
       " np.int64(6),\n",
       " np.int64(0),\n",
       " np.int64(6),\n",
       " np.int64(0),\n",
       " np.int64(6),\n",
       " np.int64(0),\n",
       " np.int64(6),\n",
       " np.int64(0),\n",
       " np.int64(6),\n",
       " np.int64(0),\n",
       " np.int64(6),\n",
       " np.int64(0),\n",
       " np.int64(6),\n",
       " np.int64(0),\n",
       " np.int64(6),\n",
       " np.int64(0)]"
      ]
     },
     "execution_count": 22,
     "metadata": {},
     "output_type": "execute_result"
    }
   ],
   "source": [
    "# it faster because the data is cached  \n",
    "rdd3.collect()  "
   ]
  },
  {
   "cell_type": "markdown",
   "id": "7939b34d",
   "metadata": {},
   "source": [
    "<B>>>>>>>>>>>>>>>>>>>>>>>>>>>>>>>>>>>>>>>>>>>>>>>>>DAY2>>>>>>>>>>>>>>>>>>>>>>>>>>>>>>>>>>>>>>>>>>>>>>>>>>>>>>>>>>>>>></B>"
   ]
  },
  {
   "attachments": {
    "image.png": {
     "image/png": "[encoded data removed]"
    }
   },
   "cell_type": "markdown",
   "id": "3aa058bf",
   "metadata": {},
   "source": [
    "![image.png](attachment:image.png)"
   ]
  },
  {
   "cell_type": "code",
   "execution_count": 23,
   "id": "61200d62",
   "metadata": {},
   "outputs": [
    {
     "data": {
      "text/html": [
       "\n",
       "            <div>\n",
       "                <p><b>SparkSession - in-memory</b></p>\n",
       "                \n",
       "        <div>\n",
       "            <p><b>SparkContext</b></p>\n",
       "\n",
       "            <p><a href=\"http://AliAyman.zte.com.cn:4040\">Spark UI</a></p>\n",
       "\n",
       "            <dl>\n",
       "              <dt>Version</dt>\n",
       "                <dd><code>v3.5.5</code></dd>\n",
       "              <dt>Master</dt>\n",
       "                <dd><code>local[*]</code></dd>\n",
       "              <dt>AppName</dt>\n",
       "                <dd><code>pyspark-shell</code></dd>\n",
       "            </dl>\n",
       "        </div>\n",
       "        \n",
       "            </div>\n",
       "        "
      ],
      "text/plain": [
       "<pyspark.sql.session.SparkSession at 0x263eb5c2c50>"
      ]
     },
     "execution_count": 23,
     "metadata": {},
     "output_type": "execute_result"
    }
   ],
   "source": [
    "spark"
   ]
  },
  {
   "cell_type": "code",
   "execution_count": 26,
   "id": "a9a0f07a",
   "metadata": {},
   "outputs": [
    {
     "data": {
      "text/plain": [
       "Data/example.txt MapPartitionsRDD[8] at textFile at NativeMethodAccessorImpl.java:0"
      ]
     },
     "execution_count": 26,
     "metadata": {},
     "output_type": "execute_result"
    }
   ],
   "source": [
    "rddFile = sc.textFile(\"Data/example.txt\")\n",
    "rddFile"
   ]
  },
  {
   "cell_type": "code",
   "execution_count": null,
   "id": "79670d17",
   "metadata": {},
   "outputs": [
    {
     "data": {
      "text/plain": [
       "['first line', 'second line', 'third line', 'fourth line']"
      ]
     },
     "execution_count": 27,
     "metadata": {},
     "output_type": "execute_result"
    }
   ],
   "source": [
    "# any action return the data in a shape of list \n",
    "rddFile.collect()"
   ]
  },
  {
   "cell_type": "code",
   "execution_count": 28,
   "id": "cd08e674",
   "metadata": {},
   "outputs": [
    {
     "data": {
      "text/plain": [
       "Data/example2.txt MapPartitionsRDD[10] at textFile at NativeMethodAccessorImpl.java:0"
      ]
     },
     "execution_count": 28,
     "metadata": {},
     "output_type": "execute_result"
    }
   ],
   "source": [
    "rddFile2 = sc.textFile(\"Data/example2.txt\")\n",
    "rddFile2"
   ]
  },
  {
   "cell_type": "code",
   "execution_count": 29,
   "id": "a455b1e4",
   "metadata": {},
   "outputs": [
    {
     "data": {
      "text/plain": [
       "['first ', 'second line', 'the third line', 'then a fourth line']"
      ]
     },
     "execution_count": 29,
     "metadata": {},
     "output_type": "execute_result"
    }
   ],
   "source": [
    "rddFile2.collect()"
   ]
  },
  {
   "cell_type": "code",
   "execution_count": 32,
   "id": "73764b6c",
   "metadata": {},
   "outputs": [
    {
     "data": {
      "text/plain": [
       "['second line']"
      ]
     },
     "execution_count": 32,
     "metadata": {},
     "output_type": "execute_result"
    }
   ],
   "source": [
    "rddsecond = rddFile.filter(lambda x: \"second\" in x) \n",
    "rddsecond.collect() "
   ]
  },
  {
   "cell_type": "code",
   "execution_count": 33,
   "id": "c8a2d0c3",
   "metadata": {},
   "outputs": [
    {
     "data": {
      "text/plain": [
       "['first line', 'second line', 'third line', 'fourth line']"
      ]
     },
     "execution_count": 33,
     "metadata": {},
     "output_type": "execute_result"
    }
   ],
   "source": [
    "rddline = rddFile.filter(lambda x: \"line\" in x) \n",
    "rddline.collect() "
   ]
  },
  {
   "cell_type": "code",
   "execution_count": 34,
   "id": "8d8161cb",
   "metadata": {},
   "outputs": [
    {
     "data": {
      "text/plain": [
       "['first line', 'second line']"
      ]
     },
     "execution_count": 34,
     "metadata": {},
     "output_type": "execute_result"
    }
   ],
   "source": [
    "rddline.take(2) "
   ]
  },
  {
   "cell_type": "markdown",
   "id": "683bdc90",
   "metadata": {},
   "source": [
    "<B>Map is an example for narrow operations</B>"
   ]
  },
  {
   "cell_type": "code",
   "execution_count": null,
   "id": "66624a07",
   "metadata": {},
   "outputs": [
    {
     "data": {
      "text/plain": [
       "[np.int64(0), np.int64(1), np.int64(4), np.int64(9), np.int64(16)]"
      ]
     },
     "execution_count": 36,
     "metadata": {},
     "output_type": "execute_result"
    }
   ],
   "source": [
    "def sq(x):\n",
    "    return x*x\n",
    "\n",
    "\n",
    "data = np.arange(10)\n",
    "\n",
    "rdd1 = sc.parallelize(data) \n",
    "\n",
    "rdd2 = rdd1.map(sq)\n",
    "\n",
    "rdd2.take(5)"
   ]
  },
  {
   "cell_type": "code",
   "execution_count": 37,
   "id": "309e5614",
   "metadata": {},
   "outputs": [
    {
     "data": {
      "text/plain": [
       "['first line', 'second line', 'third line', 'fourth line']"
      ]
     },
     "execution_count": 37,
     "metadata": {},
     "output_type": "execute_result"
    }
   ],
   "source": [
    "rddFile2 = sc.textFile(\"Data/example2.txt\") \n",
    "rddFile.collect()"
   ]
  },
  {
   "cell_type": "code",
   "execution_count": 38,
   "id": "6b546562",
   "metadata": {},
   "outputs": [
    {
     "data": {
      "text/plain": [
       "[['first'],\n",
       " ['second', 'line'],\n",
       " ['the', 'third', 'line'],\n",
       " ['then', 'a', 'fourth', 'line']]"
      ]
     },
     "execution_count": 38,
     "metadata": {},
     "output_type": "execute_result"
    }
   ],
   "source": [
    "rddFile2.map(lambda x: x.split()).collect()"
   ]
  },
  {
   "cell_type": "code",
   "execution_count": 39,
   "id": "a127fbf0",
   "metadata": {},
   "outputs": [
    {
     "data": {
      "text/plain": [
       "['first',\n",
       " 'second',\n",
       " 'line',\n",
       " 'the',\n",
       " 'third',\n",
       " 'line',\n",
       " 'then',\n",
       " 'a',\n",
       " 'fourth',\n",
       " 'line']"
      ]
     },
     "execution_count": 39,
     "metadata": {},
     "output_type": "execute_result"
    }
   ],
   "source": [
    "rddFile2.flatMap(lambda x: x.split()).collect() "
   ]
  },
  {
   "cell_type": "code",
   "execution_count": 4,
   "id": "92117d52",
   "metadata": {},
   "outputs": [
    {
     "data": {
      "text/plain": [
       "['ali', 'ayman', 'mariem', 'mohamed', 'Soliman', 'nada', 'yomna', 'Adham']"
      ]
     },
     "execution_count": 4,
     "metadata": {},
     "output_type": "execute_result"
    }
   ],
   "source": [
    "Names = ['ali','ayman','mariem','mohamed','Soliman','nada','yomna','Adham']\n",
    "\n",
    "rddNames = sc.parallelize(Names)\n",
    "rddNames.collect()  "
   ]
  },
  {
   "cell_type": "code",
   "execution_count": 5,
   "id": "0ba02937",
   "metadata": {},
   "outputs": [
    {
     "data": {
      "text/plain": [
       "ParallelCollectionRDD[0] at readRDDFromFile at PythonRDD.scala:289"
      ]
     },
     "execution_count": 5,
     "metadata": {},
     "output_type": "execute_result"
    }
   ],
   "source": [
    "rddNames"
   ]
  },
  {
   "cell_type": "code",
   "execution_count": 7,
   "id": "5ee1d175",
   "metadata": {},
   "outputs": [
    {
     "data": {
      "text/plain": [
       "PythonRDD[10] at RDD at PythonRDD.scala:53"
      ]
     },
     "execution_count": 7,
     "metadata": {},
     "output_type": "execute_result"
    }
   ],
   "source": [
    "rdd_g = rddNames.groupBy(lambda x: x[0])\n",
    "rdd_g"
   ]
  },
  {
   "cell_type": "code",
   "execution_count": 8,
   "id": "282ba4f9",
   "metadata": {},
   "outputs": [
    {
     "data": {
      "text/plain": [
       "[('y', <pyspark.resultiterable.ResultIterable at 0x20078220150>),\n",
       " ('a', <pyspark.resultiterable.ResultIterable at 0x20078200d10>),\n",
       " ('m', <pyspark.resultiterable.ResultIterable at 0x200598d7bd0>),\n",
       " ('S', <pyspark.resultiterable.ResultIterable at 0x200598deb10>),\n",
       " ('n', <pyspark.resultiterable.ResultIterable at 0x20078395910>),\n",
       " ('A', <pyspark.resultiterable.ResultIterable at 0x20078396110>)]"
      ]
     },
     "execution_count": 8,
     "metadata": {},
     "output_type": "execute_result"
    }
   ],
   "source": [
    "rdd_g.collect() "
   ]
  },
  {
   "cell_type": "code",
   "execution_count": 10,
   "id": "d39a62b9",
   "metadata": {},
   "outputs": [
    {
     "data": {
      "text/plain": [
       "('y', <pyspark.resultiterable.ResultIterable at 0x20078406250>)"
      ]
     },
     "execution_count": 10,
     "metadata": {},
     "output_type": "execute_result"
    }
   ],
   "source": [
    "first = rdd_g.collect()[0]\n",
    "first"
   ]
  },
  {
   "cell_type": "code",
   "execution_count": 11,
   "id": "e510840f",
   "metadata": {},
   "outputs": [
    {
     "data": {
      "text/plain": [
       "['yomna']"
      ]
     },
     "execution_count": 11,
     "metadata": {},
     "output_type": "execute_result"
    }
   ],
   "source": [
    "list(first[1])"
   ]
  },
  {
   "cell_type": "code",
   "execution_count": 14,
   "id": "8278df61",
   "metadata": {},
   "outputs": [
    {
     "name": "stdout",
     "output_type": "stream",
     "text": [
      "[1, 2, 3, 4, 5]\n",
      "[1, 4, 9, 16, 25]\n"
     ]
    }
   ],
   "source": [
    "ll = [1,2,3,4,5]\n",
    "print(ll)\n",
    "ll2 = [x**2 for x in ll]\n",
    "print(ll2)"
   ]
  },
  {
   "cell_type": "code",
   "execution_count": 16,
   "id": "1d902c60",
   "metadata": {},
   "outputs": [
    {
     "data": {
      "text/plain": [
       "[(1, 'A'), (4, 'B'), (9, 'C'), (16, 'D'), (25, 'E')]"
      ]
     },
     "execution_count": 16,
     "metadata": {},
     "output_type": "execute_result"
    }
   ],
   "source": [
    "lst_keys = [(1,\"A\"),(2,\"B\"),(3,\"C\"),(4,\"D\"),(5,\"E\")]  \n",
    "lst_keyss=  [(x**2,y) for x,y in lst_keys]  \n",
    "lst_keyss      "
   ]
  },
  {
   "cell_type": "code",
   "execution_count": 17,
   "id": "16ddcb00",
   "metadata": {},
   "outputs": [
    {
     "data": {
      "text/plain": [
       "[('y', <pyspark.resultiterable.ResultIterable at 0x20078449110>),\n",
       " ('a', <pyspark.resultiterable.ResultIterable at 0x20077c41b90>),\n",
       " ('m', <pyspark.resultiterable.ResultIterable at 0x200783a8350>),\n",
       " ('S', <pyspark.resultiterable.ResultIterable at 0x20078449e10>),\n",
       " ('n', <pyspark.resultiterable.ResultIterable at 0x20078201bd0>),\n",
       " ('A', <pyspark.resultiterable.ResultIterable at 0x20078200a90>)]"
      ]
     },
     "execution_count": 17,
     "metadata": {},
     "output_type": "execute_result"
    }
   ],
   "source": [
    "rdd_g = rdd_g.collect() \n",
    "rdd_g   "
   ]
  },
  {
   "cell_type": "code",
   "execution_count": 18,
   "id": "983cc8ea",
   "metadata": {},
   "outputs": [
    {
     "data": {
      "text/plain": [
       "[('y', ['yomna']),\n",
       " ('a', ['ali', 'ayman']),\n",
       " ('m', ['mariem', 'mohamed']),\n",
       " ('S', ['Soliman']),\n",
       " ('n', ['nada']),\n",
       " ('A', ['Adham'])]"
      ]
     },
     "execution_count": 18,
     "metadata": {},
     "output_type": "execute_result"
    }
   ],
   "source": [
    "new_rdd = [(k, list(v)) for k,v in rdd_g]   \n",
    "new_rdd"
   ]
  },
  {
   "cell_type": "code",
   "execution_count": 19,
   "id": "c1d32027",
   "metadata": {},
   "outputs": [
    {
     "data": {
      "text/plain": [
       "ParallelCollectionRDD[11] at readRDDFromFile at PythonRDD.scala:289"
      ]
     },
     "execution_count": 19,
     "metadata": {},
     "output_type": "execute_result"
    }
   ],
   "source": [
    "rdd = sc.parallelize([('B',5 ),('A',10),('B',15),('D',20),('A',25)])    \n",
    "rdd"
   ]
  },
  {
   "cell_type": "code",
   "execution_count": 20,
   "id": "0943cd8a",
   "metadata": {},
   "outputs": [
    {
     "data": {
      "text/plain": [
       "[('B', 5), ('A', 10), ('B', 15), ('D', 20), ('A', 25)]"
      ]
     },
     "execution_count": 20,
     "metadata": {},
     "output_type": "execute_result"
    }
   ],
   "source": [
    "rdd.collect()"
   ]
  },
  {
   "cell_type": "code",
   "execution_count": 21,
   "id": "aec324a0",
   "metadata": {},
   "outputs": [
    {
     "data": {
      "text/plain": [
       "[('B', <pyspark.resultiterable.ResultIterable at 0x20078690510>),\n",
       " ('D', <pyspark.resultiterable.ResultIterable at 0x2007821df10>),\n",
       " ('A', <pyspark.resultiterable.ResultIterable at 0x200786d3990>)]"
      ]
     },
     "execution_count": 21,
     "metadata": {},
     "output_type": "execute_result"
    }
   ],
   "source": [
    "rdd2 = rdd.groupByKey().collect()   \n",
    "rdd2"
   ]
  },
  {
   "cell_type": "code",
   "execution_count": 22,
   "id": "6171e054",
   "metadata": {},
   "outputs": [
    {
     "data": {
      "text/plain": [
       "[('B', [5, 15]), ('D', [20]), ('A', [10, 25])]"
      ]
     },
     "execution_count": 22,
     "metadata": {},
     "output_type": "execute_result"
    }
   ],
   "source": [
    "new_rdd2 = [(k, list(v)) for k,v in rdd2]   \n",
    "new_rdd2    "
   ]
  },
  {
   "cell_type": "markdown",
   "id": "151e8682",
   "metadata": {},
   "source": [
    "<B>groupby and join is an Example for the Wide Operations </B>"
   ]
  },
  {
   "cell_type": "code",
   "execution_count": 23,
   "id": "09d48f5b",
   "metadata": {},
   "outputs": [
    {
     "data": {
      "text/plain": [
       "[('b', (2, 5)), ('a', (1, 3)), ('a', (1, 4))]"
      ]
     },
     "execution_count": 23,
     "metadata": {},
     "output_type": "execute_result"
    }
   ],
   "source": [
    "rdd1 = sc.parallelize([('a',1),('b',2)])\n",
    "rdd2 = sc.parallelize([('a',3),('a',4),('b',5)])\n",
    "\n",
    "rdd_j = rdd1.join(rdd2)\n",
    "rdd_j.collect()"
   ]
  },
  {
   "cell_type": "code",
   "execution_count": 24,
   "id": "e718426c",
   "metadata": {},
   "outputs": [
    {
     "data": {
      "text/plain": [
       "[('b', (2, 5)), ('a', (1, 3)), ('a', (1, 4))]"
      ]
     },
     "execution_count": 24,
     "metadata": {},
     "output_type": "execute_result"
    }
   ],
   "source": [
    "rdd_j2 = rdd1.join(rdd2).collect()  \n",
    "rdd_j2  "
   ]
  },
  {
   "cell_type": "markdown",
   "id": "f767cd6e",
   "metadata": {},
   "source": [
    "<B>collect >> is the most expensive action So we can use take </B>"
   ]
  },
  {
   "cell_type": "code",
   "execution_count": 27,
   "id": "6bfe645c",
   "metadata": {},
   "outputs": [
    {
     "name": "stdout",
     "output_type": "stream",
     "text": [
      "[np.int64(0), np.int64(1), np.int64(2), np.int64(3), np.int64(4), np.int64(5), np.int64(6), np.int64(7), np.int64(8), np.int64(9), np.int64(10), np.int64(11), np.int64(12), np.int64(13), np.int64(14)]\n",
      "--------------------------------------------------\n"
     ]
    },
    {
     "data": {
      "text/plain": [
       "np.int64(105)"
      ]
     },
     "execution_count": 27,
     "metadata": {},
     "output_type": "execute_result"
    }
   ],
   "source": [
    "rdd = sc.parallelize(np.arange(15))\n",
    "print(rdd.collect())\n",
    "print(\"-\"*50)\n",
    "rdd.reduce(lambda x,y: x+y)"
   ]
  },
  {
   "cell_type": "code",
   "execution_count": 29,
   "id": "b00ab017",
   "metadata": {},
   "outputs": [
    {
     "name": "stdout",
     "output_type": "stream",
     "text": [
      "14\n",
      "__________________\n",
      "0\n",
      "__________________\n",
      "7.0\n",
      "__________________\n",
      "105\n",
      "__________________\n",
      "4.320493798938574\n",
      "__________________\n"
     ]
    }
   ],
   "source": [
    "print(rdd.max())\n",
    "print(\"__________________\")\n",
    "print(rdd.min())\n",
    "print(\"__________________\")\n",
    "print(rdd.mean())\n",
    "print(\"__________________\")\n",
    "print(rdd.sum())\n",
    "print(\"__________________\")\n",
    "print(rdd.stdev())\n",
    "print(\"__________________\")"
   ]
  },
  {
   "cell_type": "markdown",
   "id": "aa5165c0",
   "metadata": {},
   "source": [
    "<b>Example Shows the Real difference between RDD and df</b>"
   ]
  },
  {
   "cell_type": "code",
   "execution_count": 33,
   "id": "7cfc198a",
   "metadata": {},
   "outputs": [
    {
     "data": {
      "text/plain": [
       "[('ali', (20, 1)),\n",
       " ('mariem', (30, 1)),\n",
       " ('ayman', (40, 1)),\n",
       " ('ali', (50, 1)),\n",
       " ('mariem', (60, 1)),\n",
       " ('ayman', (70, 1)),\n",
       " ('ali', (80, 1))]"
      ]
     },
     "execution_count": 33,
     "metadata": {},
     "output_type": "execute_result"
    }
   ],
   "source": [
    "dataRDD = sc.parallelize([\n",
    "    (\"ali\",20),\n",
    "    (\"mariem\",30),\n",
    "    (\"ayman\",40),\n",
    "    (\"ali\",50),\n",
    "    (\"mariem\",60),\n",
    "    (\"ayman\",70),\n",
    "    (\"ali\",80)\n",
    "])\n",
    "\n",
    "dataRDD = dataRDD.map(lambda x: (x[0],(x[1],1)))\n",
    "dataRDD = dataRDD.collect()   \n",
    "dataRDD"
   ]
  },
  {
   "cell_type": "code",
   "execution_count": 38,
   "id": "cff2a664",
   "metadata": {},
   "outputs": [],
   "source": [
    "dataRDD = sc.parallelize(dataRDD) "
   ]
  },
  {
   "cell_type": "code",
   "execution_count": 39,
   "id": "b9d4798f",
   "metadata": {},
   "outputs": [],
   "source": [
    "rdd2 =  dataRDD.reduceByKey(lambda x,y: (x[0]+y[0],x[1]+y[1]))  \n",
    "rdd2 = rdd2.collect()"
   ]
  },
  {
   "cell_type": "code",
   "execution_count": 40,
   "id": "0879bf05",
   "metadata": {},
   "outputs": [
    {
     "data": {
      "text/plain": [
       "[('ayman', (110, 2)), ('ali', (150, 3)), ('mariem', (90, 2))]"
      ]
     },
     "execution_count": 40,
     "metadata": {},
     "output_type": "execute_result"
    }
   ],
   "source": [
    "rdd2"
   ]
  },
  {
   "cell_type": "code",
   "execution_count": null,
   "id": "dd21b949",
   "metadata": {},
   "outputs": [
    {
     "data": {
      "text/plain": [
       "[('ayman', 55.0), ('ali', 50.0), ('mariem', 45.0)]"
      ]
     },
     "execution_count": 42,
     "metadata": {},
     "output_type": "execute_result"
    }
   ],
   "source": [
    "rdd2 = sc.parallelize(rdd2)\n",
    "\n",
    "rdd3 = rdd2.map(lambda x: (x[0],x[1][0]/x[1][1]))\n",
    "rdd3 = rdd3.collect()\n",
    "rdd3\n",
    "\n",
    "\n",
    "# so there is many steps just to get the average >>>> so let's try using df"
   ]
  },
  {
   "cell_type": "code",
   "execution_count": 43,
   "id": "561b54b0",
   "metadata": {},
   "outputs": [
    {
     "data": {
      "text/plain": [
       "DataFrame[_1: string, _2: bigint]"
      ]
     },
     "execution_count": 43,
     "metadata": {},
     "output_type": "execute_result"
    }
   ],
   "source": [
    "df = spark.createDataFrame([\n",
    "    (\"ali\",20),\n",
    "    (\"mariem\",30),\n",
    "    (\"ayman\",40),\n",
    "    (\"ali\",50),\n",
    "    (\"mariem\",60),\n",
    "    (\"ayman\",70),\n",
    "    (\"ali\",80)\n",
    "])\n",
    "\n",
    "df"
   ]
  },
  {
   "cell_type": "code",
   "execution_count": 44,
   "id": "dd0de19e",
   "metadata": {},
   "outputs": [
    {
     "name": "stdout",
     "output_type": "stream",
     "text": [
      "root\n",
      " |-- _1: string (nullable = true)\n",
      " |-- _2: long (nullable = true)\n",
      "\n"
     ]
    }
   ],
   "source": [
    "df.printSchema()"
   ]
  },
  {
   "cell_type": "code",
   "execution_count": 45,
   "id": "96762f1e",
   "metadata": {},
   "outputs": [
    {
     "name": "stdout",
     "output_type": "stream",
     "text": [
      "+------+---+\n",
      "|    _1| _2|\n",
      "+------+---+\n",
      "|   ali| 20|\n",
      "|mariem| 30|\n",
      "| ayman| 40|\n",
      "|   ali| 50|\n",
      "|mariem| 60|\n",
      "| ayman| 70|\n",
      "|   ali| 80|\n",
      "+------+---+\n",
      "\n"
     ]
    }
   ],
   "source": [
    "df.show()"
   ]
  },
  {
   "cell_type": "code",
   "execution_count": null,
   "id": "5b3a8ff4",
   "metadata": {},
   "outputs": [
    {
     "name": "stdout",
     "output_type": "stream",
     "text": [
      "+------+-------+\n",
      "|    _1|avg(_2)|\n",
      "+------+-------+\n",
      "|   ali|   50.0|\n",
      "|mariem|   45.0|\n",
      "| ayman|   55.0|\n",
      "+------+-------+\n",
      "\n"
     ]
    }
   ],
   "source": [
    "# So throw the df with it's schema we can do what we need in an easy way\n",
    "df.groupBy(\"_1\").avg(\"_2\").show()   "
   ]
  }
 ],
 "metadata": {
  "kernelspec": {
   "display_name": "pysparkenv",
   "language": "python",
   "name": "python3"
  },
  "language_info": {
   "codemirror_mode": {
    "name": "ipython",
    "version": 3
   },
   "file_extension": ".py",
   "mimetype": "text/x-python",
   "name": "python",
   "nbconvert_exporter": "python",
   "pygments_lexer": "ipython3",
   "version": "3.11.0"
  }
 },
 "nbformat": 4,
 "nbformat_minor": 5
}
